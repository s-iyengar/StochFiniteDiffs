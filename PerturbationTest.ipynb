{
 "cells": [
  {
   "cell_type": "code",
   "execution_count": 1,
   "metadata": {},
   "outputs": [],
   "source": [
    "import Random"
   ]
  },
  {
   "cell_type": "code",
   "execution_count": 2,
   "metadata": {},
   "outputs": [
    {
     "data": {
      "text/plain": [
       "tt_protein_fb_rates! (generic function with 1 method)"
      ]
     },
     "metadata": {},
     "output_type": "display_data"
    }
   ],
   "source": [
    "include(\"Storage.jl\")\n",
    "include(\"GillespieFunctions.jl\")\n",
    "include(\"Rates.jl\")"
   ]
  },
  {
   "cell_type": "code",
   "execution_count": 3,
   "metadata": {},
   "outputs": [
    {
     "data": {
      "text/plain": [
       "balance_test (generic function with 1 method)"
      ]
     },
     "metadata": {},
     "output_type": "display_data"
    }
   ],
   "source": [
    "function balance_test(initialstate::Vector{Int64},params::Vector{Float64},numsteps::Int64,maxsteps::Int64,rng::Random.AbstractRNG)\n",
    "    statevector = initialstate\n",
    "    outcomes = [1 0 ; -1 0; 0 1 ; 0 -1]\n",
    "    calcstor = BalanceEqData()\n",
    "\n",
    "    endstate,steps = direct_gillespie!(initialstate,params,outcomes,tt_protein_fb_rates!,calcstor,updatestorage!,rng,numsteps,maxsteps)\n",
    "\n",
    "    println(\"Flux Balance on x\")\n",
    "    println(relative_error(calcstor.meanRpX,calcstor.meanRmX))\n",
    "\n",
    "    println(\"Flux Balance on y\")\n",
    "    println(relative_error(calcstor.meanRpY,calcstor.meanRmY))\n",
    "\n",
    "    println(\"Cov Balance on x,x\")\n",
    "    println(cov_balance_comp(calcstor.CXRmX/calcstor.weightsum,calcstor.CXRmX/calcstor.weightsum,\n",
    "                            calcstor.meanRpX+calcstor.meanRmX,calcstor.CXRpX/calcstor.weightsum,calcstor.CXRpX/calcstor.weightsum))\n",
    "    println(\"Cov Balance on y,y\")\n",
    "    println(cov_balance_comp(calcstor.CYRmY/calcstor.weightsum,calcstor.CYRmY/calcstor.weightsum,\n",
    "                            calcstor.meanRpY+calcstor.meanRmY,calcstor.CYRpY/calcstor.weightsum,calcstor.CYRpY/calcstor.weightsum))\n",
    "    println(\"Cov Balance on y,x\")\n",
    "    println(cov_balance_comp(calcstor.CYRmX/calcstor.weightsum,calcstor.CXRmY/calcstor.weightsum,\n",
    "                            0,calcstor.CYRpX/calcstor.weightsum,calcstor.CXRpY/calcstor.weightsum))\n",
    "    println(steps)\n",
    "    println(endstate)\n",
    "    println(calcstor.meanx)\n",
    "    println(calcstor.meany)\n",
    "\n",
    "\n",
    "    return calcstor\n",
    "end"
   ]
  },
  {
   "cell_type": "code",
   "execution_count": 5,
   "metadata": {},
   "outputs": [
    {
     "name": "stdout",
     "output_type": "stream",
     "text": [
      "Flux Balance on x\n",
      "0.00031319164049951567\n",
      "Flux Balance on y\n",
      "0.00013953127062508962\n",
      "Cov Balance on x,x\n",
      "0.023931267283140663\n",
      "Cov Balance on y,y\n",
      "0.020958983231138834\n",
      "Cov Balance on y,x\n",
      "0.02309952596828269\n",
      "99990704\n",
      "[6, 26]\n",
      "6.620477551872634\n",
      "26.425457567646053\n",
      "  6.988082 seconds (405 allocations: 32.266 KiB)\n"
     ]
    },
    {
     "data": {
      "text/plain": [
       "BalanceEqData(6.620477551872634, 26.425457567646053, 1.513071513306529e6, 8.807075553074017e6, 9.476664939115553e7, 1.3645067655454889e7, 6.610576515960011, 6.608506786878176, 26.434027147512705, 26.43771603562358, 8.664177638546022e6, -1.129186799372544e6, 1.4024801076180933e7, -7.966473625131835e6, 1.3296546019598754e7, 3.465671055418409e7, 9.41257877326485e7, 5.609920430472373e7)"
      ]
     },
     "metadata": {},
     "output_type": "display_data"
    }
   ],
   "source": [
    "@time calcs = balance_test([10,50],[10.,1.,4.,1.,-1.,50.],10^7,10^10,Random.MersenneTwister())"
   ]
  },
  {
   "cell_type": "code",
   "execution_count": 6,
   "metadata": {},
   "outputs": [
    {
     "data": {
      "text/plain": [
       "reach_balance_test (generic function with 1 method)"
      ]
     },
     "metadata": {},
     "output_type": "display_data"
    }
   ],
   "source": [
    "function reach_balance_test(initialstate,params,numsteps,maxsteps,rng,flux_thres,cov_thres,tries)\n",
    "    statevector = initialstate\n",
    "    outcomes = [1 0 ; -1 0; 0 1 ; 0 -1]\n",
    "    calcstor = BalanceEqData()\n",
    "    trynum = 0\n",
    "    thresholdmet = false\n",
    "    totalsteps = 0\n",
    "    \n",
    "    while (trynum < tries) && (!thresholdmet)\n",
    "        new_max = trunc(Int,maxsteps*(tries-trynum)/tries)\n",
    "        statevector,steps = direct_gillespie!(statevector,params,outcomes,tt_protein_fb_rates!,calcstor,updatestorage!,rng,numsteps,new_max)\n",
    "        if (relative_error(calcstor.meanRpX,calcstor.meanRmX) < flux_thres) &&  (relative_error(calcstor.meanRpY,calcstor.meanRmY) < flux_thres)\n",
    "            cbxx_comp = cov_balance_comp(calcstor.CXRmX/calcstor.weightsum,calcstor.CXRmX/calcstor.weightsum,\n",
    "            calcstor.meanRpX+calcstor.meanRmX,calcstor.CXRpX/calcstor.weightsum,calcstor.CXRpX/calcstor.weightsum) < cov_thres\n",
    "            cbyy_comp = cov_balance_comp(calcstor.CYRmY/calcstor.weightsum,calcstor.CYRmY/calcstor.weightsum,\n",
    "                            calcstor.meanRpY+calcstor.meanRmY,calcstor.CYRpY/calcstor.weightsum,calcstor.CYRpY/calcstor.weightsum) < cov_thres\n",
    "            cbyx_comp = cov_balance_comp(calcstor.CYRmX/calcstor.weightsum,calcstor.CXRmY/calcstor.weightsum,\n",
    "                            0,calcstor.CYRpX/calcstor.weightsum,calcstor.CXRpY/calcstor.weightsum) <cov_thres \n",
    "            thresholdmet = all([cbxx_comp,cbyy_comp,cbyx_comp])               \n",
    "        end\n",
    "        trynum += 1\n",
    "        totalsteps += steps\n",
    "        print(\"Balance Test for chained simulation \")\n",
    "        println(trynum)\n",
    "        print(\"Current steps: \")\n",
    "        println(totalsteps)\n",
    "        print(\"Means: \")\n",
    "        println([calcstor.meanx,calcstor.meany])\n",
    "        print(\"Flux Balance on x: \")\n",
    "        println(relative_error(calcstor.meanRpX,calcstor.meanRmX))\n",
    "    \n",
    "        print(\"Flux Balance on y: \")\n",
    "        println(relative_error(calcstor.meanRpY,calcstor.meanRmY))\n",
    "    \n",
    "        print(\"Cov Balance on x,x: \")\n",
    "        println(cov_balance_comp(calcstor.CXRmX/calcstor.weightsum,calcstor.CXRmX/calcstor.weightsum,\n",
    "                                calcstor.meanRpX+calcstor.meanRmX,calcstor.CXRpX/calcstor.weightsum,calcstor.CXRpX/calcstor.weightsum))\n",
    "        print(\"Cov Balance on y,y: \")\n",
    "        println(cov_balance_comp(calcstor.CYRmY/calcstor.weightsum,calcstor.CYRmY/calcstor.weightsum,\n",
    "                                calcstor.meanRpY+calcstor.meanRmY,calcstor.CYRpY/calcstor.weightsum,calcstor.CYRpY/calcstor.weightsum))\n",
    "        print(\"Cov Balance on y,x: \")\n",
    "        println(cov_balance_comp(calcstor.CYRmX/calcstor.weightsum,calcstor.CXRmY/calcstor.weightsum,\n",
    "                                0,calcstor.CYRpX/calcstor.weightsum,calcstor.CXRpY/calcstor.weightsum))\n",
    "    end\n",
    "    print(\"Tries taken: \")\n",
    "    println(trynum)\n",
    "    print(\"Total Steps: \")\n",
    "    println(totalsteps)\n",
    "    print(\"Threshold met: \")\n",
    "    println(thresholdmet)\n",
    "return calcstor\n",
    "end"
   ]
  },
  {
   "cell_type": "code",
   "execution_count": 7,
   "metadata": {},
   "outputs": [
    {
     "name": "stdout",
     "output_type": "stream",
     "text": [
      "Balance Test for chained simulation 1\n",
      "Current steps: 999333\n",
      "Means: [6.606126642639144, 26.419459019012553]\n",
      "Flux Balance on x: 0.0030589595301617886\n",
      "Flux Balance on y: 0.002162135461012946\n",
      "Cov Balance on x,x: 0.029610793490713598\n",
      "Cov Balance on y,y: 0.0318173793988818\n",
      "Cov Balance on y,x: 0.13177768273251714\n",
      "Balance Test for chained simulation 2\n",
      "Current steps: 1999997\n",
      "Means: [6.603407994573085, 26.46817001714554]\n",
      "Flux Balance on x: 0.002551423020636138\n",
      "Flux Balance on y: 0.004413370861403356\n",
      "Cov Balance on x,x: 0.003718538384012045\n",
      "Cov Balance on y,y: 0.008198014587713387\n",
      "Cov Balance on y,x: 0.0734446074540474\n",
      "Balance Test for chained simulation 3\n",
      "Current steps: 2998191\n",
      "Means: [6.601619856195192, 26.41063379476098]\n",
      "Flux Balance on x: 0.003470648000955143\n",
      "Flux Balance on y: 0.0024493052160981022\n",
      "Cov Balance on x,x: 0.009636660068603186\n",
      "Cov Balance on y,y: 0.000489925918843021\n",
      "Cov Balance on y,x: 0.05738700224975093\n",
      "Balance Test for chained simulation 4\n",
      "Current steps: 4001831\n",
      "Means: [6.607950755689622, 26.432130349618905]\n",
      "Flux Balance on x: 0.0022245764106149273\n",
      "Flux Balance on y: 0.002278972624034964\n",
      "Cov Balance on x,x: 0.00993656579908548\n",
      "Cov Balance on y,y: 0.005329016752484546\n",
      "Cov Balance on y,x: 0.04950861416612758\n",
      "Balance Test for chained simulation 5\n",
      "Current steps: 4998947\n",
      "Means: [6.609408269415975, 26.42956491700915]\n",
      "Flux Balance on x: 0.0020718061750729616\n",
      "Flux Balance on y: 0.0019923153995506865\n",
      "Cov Balance on x,x: 0.01251106869630909\n",
      "Cov Balance on y,y: 0.005395408322342029\n",
      "Cov Balance on y,x: 0.04747896796248736\n",
      "Balance Test for chained simulation 6\n",
      "Current steps: 6003359\n",
      "Means: [6.615623105944928, 26.437716434241985]\n",
      "Flux Balance on x: 0.0009472276207124721\n",
      "Flux Balance on y: 0.001329064389089588\n",
      "Cov Balance on x,x: 0.016530440722504914\n",
      "Cov Balance on y,y: 0.008945177538796744\n",
      "Cov Balance on y,x: 0.037099155773470165\n",
      "Balance Test for chained simulation 7\n",
      "Current steps: 7005875\n",
      "Means: [6.616781341558244, 26.448314528079944]\n",
      "Flux Balance on x: 0.0005859647335988042\n",
      "Flux Balance on y: 0.0015653089390504902\n",
      "Cov Balance on x,x: 0.019367544783872984\n",
      "Cov Balance on y,y: 0.012628876757295253\n",
      "Cov Balance on y,x: 0.03224627073932166\n",
      "Balance Test for chained simulation 8\n",
      "Current steps: 8005155\n",
      "Means: [6.620694400044947, 26.454460826619282]\n",
      "Flux Balance on x: 7.593232810646935e-5\n",
      "Flux Balance on y: 0.0012135701208019886\n",
      "Cov Balance on x,x: 0.02029929893244105\n",
      "Cov Balance on y,y: 0.013062662512481124\n",
      "Cov Balance on y,x: 0.029674427565002215\n",
      "Tries taken: 8\n",
      "Total Steps: 8005155\n",
      "Threshold met: true\n"
     ]
    },
    {
     "data": {
      "text/plain": [
       "BalanceEqData(6.620694400044947, 26.454460826619282, 121065.30575151293, 707348.5344028153, 7.694567811632848e6, 1.1046972417267116e6, 6.608102165160554, 6.60860397184567, 26.43441588738268, 26.46653488331824, 695975.388231228, -89939.08406572246, 1.1352737988588954e6, -637568.2945375307, 1.0766984704086597e6, 2.783901552924912e6, 7.643485809685048e6, 4.541095195435582e6)"
      ]
     },
     "metadata": {},
     "output_type": "display_data"
    }
   ],
   "source": [
    "calcs = reach_balance_test([100,400],[10.,1.,4.,1.,-1.,50.],10^5,10^8,Random.MersenneTwister(),0.01,0.03,20)"
   ]
  },
  {
   "cell_type": "code",
   "execution_count": null,
   "metadata": {},
   "outputs": [],
   "source": []
  }
 ],
 "metadata": {
  "kernelspec": {
   "display_name": "Julia 1.7.2",
   "language": "julia",
   "name": "julia-1.7"
  },
  "language_info": {
   "file_extension": ".jl",
   "mimetype": "application/julia",
   "name": "julia",
   "version": "1.7.2"
  },
  "orig_nbformat": 4
 },
 "nbformat": 4,
 "nbformat_minor": 2
}
