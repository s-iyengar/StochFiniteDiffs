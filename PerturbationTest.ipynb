{
 "cells": [
  {
   "cell_type": "code",
   "execution_count": 1,
   "metadata": {},
   "outputs": [],
   "source": [
    "import Random"
   ]
  },
  {
   "cell_type": "code",
   "execution_count": 2,
   "metadata": {},
   "outputs": [
    {
     "data": {
      "text/plain": [
       "tt_protein_fb_rates! (generic function with 1 method)"
      ]
     },
     "execution_count": 2,
     "metadata": {},
     "output_type": "execute_result"
    }
   ],
   "source": [
    "include(\"Storage.jl\")\n",
    "include(\"GillespieFunctions.jl\")\n",
    "include(\"Rates.jl\")"
   ]
  },
  {
   "cell_type": "code",
   "execution_count": 12,
   "metadata": {},
   "outputs": [
    {
     "data": {
      "text/plain": [
       "balance_test (generic function with 1 method)"
      ]
     },
     "execution_count": 12,
     "metadata": {},
     "output_type": "execute_result"
    }
   ],
   "source": [
    "function balance_test(initialstate::Vector{Int64},params::Vector{Float64},numsteps::Int64,maxsteps::Int64,rng::Random.AbstractRNG)\n",
    "    statevector = initialstate\n",
    "    outcomes = [1 0 ; -1 0; 0 1 ; 0 -1]\n",
    "    calcstor = BalanceEqData()\n",
    "\n",
    "    endstate,steps = direct_gillespie!(initialstate,params,outcomes,tt_protein_fb_rates!,calcstor,updatestorage!,rng,numsteps,maxsteps)\n",
    "\n",
    "    println(\"Flux Balance on x\")\n",
    "    println(relative_error(calcstor.meanRpX,calcstor.meanRmX))\n",
    "\n",
    "    println(\"Flux Balance on y\")\n",
    "    println(relative_error(calcstor.meanRpY,calcstor.meanRmY))\n",
    "\n",
    "    println(\"Cov Balance on x,x\")\n",
    "    println(cov_balance_comp(calcstor.CXRmX/calcstor.weightsum,calcstor.CXRmX/calcstor.weightsum,\n",
    "                            calcstor.meanRpX+calcstor.meanRmX,calcstor.CXRpX/calcstor.weightsum,calcstor.CXRpX/calcstor.weightsum))\n",
    "    println(\"Cov Balance on y,y\")\n",
    "    println(cov_balance_comp(calcstor.CYRmY/calcstor.weightsum,calcstor.CYRmY/calcstor.weightsum,\n",
    "                            calcstor.meanRpY+calcstor.meanRmY,calcstor.CYRpY/calcstor.weightsum,calcstor.CYRpY/calcstor.weightsum))\n",
    "    println(\"Cov Balance on y,x\")\n",
    "    println(cov_balance_comp(calcstor.CYRmX/calcstor.weightsum,calcstor.CXRmY/calcstor.weightsum,\n",
    "                            0,calcstor.CYRpX/calcstor.weightsum,calcstor.CXRpY/calcstor.weightsum))\n",
    "    println(steps)\n",
    "    println(endstate)\n",
    "    println(calcstor.meanx)\n",
    "    println(calcstor.meany)\n",
    "\n",
    "\n",
    "    return calcstor\n",
    "end"
   ]
  },
  {
   "cell_type": "code",
   "execution_count": 14,
   "metadata": {},
   "outputs": [
    {
     "name": "stdout",
     "output_type": "stream",
     "text": [
      "Flux Balance on x\n",
      "0.0003785245592879545\n",
      "Flux Balance on y\n",
      "0.00022101976757423308\n",
      "Cov Balance on x,x\n",
      "0.023911299392200755\n",
      "Cov Balance on y,y\n",
      "0.02025916664898015\n",
      "Cov Balance on y,x\n",
      "0.021533861160396104\n",
      "100034590\n",
      "[8, 24]\n",
      "6.62374664466483\n",
      "26.440466636341835\n"
     ]
    },
    {
     "data": {
      "text/plain": [
       "BalanceEqData(6.62374664466483, 26.440466636341835, 1.5127794362795355e6, 8.808344845843764e6, 9.47753503049765e7, 1.3626114786334293e7, 6.6092691905836345, 6.611771908631462, 26.447087634525847, 26.452934255906744, 8.665520906935355e6, -1.127534778819131e6, 1.4006779973914923e7, -7.966060620822394e6, 1.3276763060674649e7, 3.466208362774142e7, 9.41330944944052e7, 5.602711989565969e7)"
      ]
     },
     "execution_count": 14,
     "metadata": {},
     "output_type": "execute_result"
    }
   ],
   "source": [
    "calcs = balance_test([10,50],[10.,1.,4.,1.,-1.,50.],10^7,10^10,Random.Xoshiro())"
   ]
  },
  {
   "cell_type": "code",
   "execution_count": null,
   "metadata": {},
   "outputs": [],
   "source": []
  }
 ],
 "metadata": {
  "kernelspec": {
   "display_name": "Julia 1.7.2",
   "language": "julia",
   "name": "julia-1.7"
  },
  "language_info": {
   "file_extension": ".jl",
   "mimetype": "application/julia",
   "name": "julia",
   "version": "1.7.2"
  },
  "orig_nbformat": 4
 },
 "nbformat": 4,
 "nbformat_minor": 2
}
