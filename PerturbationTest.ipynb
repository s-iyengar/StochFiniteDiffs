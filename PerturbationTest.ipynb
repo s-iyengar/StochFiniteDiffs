{
 "cells": [
  {
   "cell_type": "code",
   "execution_count": 1,
   "metadata": {},
   "outputs": [],
   "source": [
    "import Random"
   ]
  },
  {
   "cell_type": "code",
   "execution_count": 2,
   "metadata": {},
   "outputs": [
    {
     "data": {
      "text/plain": [
       "tt_protein_fb_rates! (generic function with 1 method)"
      ]
     },
     "metadata": {},
     "output_type": "display_data"
    }
   ],
   "source": [
    "include(\"Storage.jl\")\n",
    "include(\"GillespieFunctions.jl\")\n",
    "include(\"Rates.jl\")"
   ]
  },
  {
   "cell_type": "code",
   "execution_count": 5,
   "metadata": {},
   "outputs": [
    {
     "data": {
      "text/plain": [
       "balance_test (generic function with 1 method)"
      ]
     },
     "metadata": {},
     "output_type": "display_data"
    }
   ],
   "source": [
    "function balance_test(initialstate::Vector{Int64},params::Vector{Float64},numsteps::Int64,maxsteps::Int64,rng::Random.AbstractRNG)\n",
    "    statevector = initialstate\n",
    "    outcomes = [1 0 ; -1 0; 0 1 ; 0 -1]\n",
    "    calcstor = BalanceEqData()\n",
    "\n",
    "    endstate,steps = direct_gillespie!(initialstate,params,outcomes,tt_protein_fb_rates!,calcstor,updatestorage!,rng,numsteps,maxsteps,10000)\n",
    "\n",
    "    println(\"Flux Balance on x\")\n",
    "    println(relative_error(calcstor.meanRpX,calcstor.meanRmX))\n",
    "\n",
    "    println(\"Flux Balance on y\")\n",
    "    println(relative_error(calcstor.meanRpY,calcstor.meanRmY))\n",
    "\n",
    "    println(\"Cov Balance on x,x\")\n",
    "    println(cov_balance_comp(calcstor.CXRmX/calcstor.weightsum,calcstor.CXRmX/calcstor.weightsum,\n",
    "                            calcstor.meanRpX+calcstor.meanRmX,calcstor.CXRpX/calcstor.weightsum,calcstor.CXRpX/calcstor.weightsum))\n",
    "    println(\"Cov Balance on y,y\")\n",
    "    println(cov_balance_comp(calcstor.CYRmY/calcstor.weightsum,calcstor.CYRmY/calcstor.weightsum,\n",
    "                            calcstor.meanRpY+calcstor.meanRmY,calcstor.CYRpY/calcstor.weightsum,calcstor.CYRpY/calcstor.weightsum))\n",
    "    println(\"Cov Balance on y,x\")\n",
    "    println(cov_balance_comp(calcstor.CYRmX/calcstor.weightsum,calcstor.CXRmY/calcstor.weightsum,\n",
    "                            0,calcstor.CYRpX/calcstor.weightsum,calcstor.CXRpY/calcstor.weightsum))\n",
    "    println(steps)\n",
    "    println(endstate)\n",
    "    println(calcstor.meanx)\n",
    "    println(calcstor.meany)\n",
    "\n",
    "\n",
    "    return calcstor\n",
    "end"
   ]
  },
  {
   "cell_type": "code",
   "execution_count": 6,
   "metadata": {},
   "outputs": [
    {
     "ename": "TypeError",
     "evalue": "TypeError: in typeassert, expected Type, got a value of type Int64",
     "output_type": "error",
     "traceback": [
      "TypeError: in typeassert, expected Type, got a value of type Int64\n",
      "\n",
      "Stacktrace:\n",
      " [1] direct_gillespie!(statevector::Vector{Int64}, params::Vector{Float64}, outcomes::Matrix{Int64}, rate_calc!::typeof(tt_protein_fb_rates!), calcstor::BalanceEqData, updatestorage!::typeof(updatestorage!), rng::Random.MersenneTwister, numsteps::Int64, maxsteps::Int64, ntherm::Int64)\n",
      "   @ Main ~/Library/CloudStorage/OneDrive-UniversityofToronto/StochFiniteDiffs/GillespieFunctions.jl:39\n",
      " [2] balance_test(initialstate::Vector{Int64}, params::Vector{Float64}, numsteps::Int64, maxsteps::Int64, rng::Random.MersenneTwister)\n",
      "   @ Main ~/Library/CloudStorage/OneDrive-UniversityofToronto/StochFiniteDiffs/PerturbationTest.ipynb:6\n",
      " [3] top-level scope\n",
      "   @ ./timing.jl:220 [inlined]\n",
      " [4] top-level scope\n",
      "   @ ~/Library/CloudStorage/OneDrive-UniversityofToronto/StochFiniteDiffs/PerturbationTest.ipynb:0"
     ]
    }
   ],
   "source": [
    "@time calcs = balance_test([10,50],[10.,1.,4.,1.,-1.,50.],10^7,10^10,Random.MersenneTwister())"
   ]
  },
  {
   "cell_type": "code",
   "execution_count": 6,
   "metadata": {},
   "outputs": [
    {
     "data": {
      "text/plain": [
       "reach_balance_test (generic function with 1 method)"
      ]
     },
     "metadata": {},
     "output_type": "display_data"
    }
   ],
   "source": [
    "function reach_balance_test(initialstate,params,numsteps,maxsteps,rng,flux_thres,cov_thres,tries)\n",
    "    statevector = initialstate\n",
    "    outcomes = [1 0 ; -1 0; 0 1 ; 0 -1]\n",
    "    calcstor = BalanceEqData()\n",
    "    trynum = 0\n",
    "    thresholdmet = false\n",
    "    totalsteps = 0\n",
    "    \n",
    "    while (trynum < tries) && (!thresholdmet)\n",
    "        new_max = trunc(Int,maxsteps*(tries-trynum)/tries)\n",
    "        statevector,steps = direct_gillespie!(statevector,params,outcomes,tt_protein_fb_rates!,calcstor,updatestorage!,rng,numsteps,new_max)\n",
    "        if (relative_error(calcstor.meanRpX,calcstor.meanRmX) < flux_thres) &&  (relative_error(calcstor.meanRpY,calcstor.meanRmY) < flux_thres)\n",
    "            cbxx_comp = cov_balance_comp(calcstor.CXRmX/calcstor.weightsum,calcstor.CXRmX/calcstor.weightsum,\n",
    "            calcstor.meanRpX+calcstor.meanRmX,calcstor.CXRpX/calcstor.weightsum,calcstor.CXRpX/calcstor.weightsum) < cov_thres\n",
    "            cbyy_comp = cov_balance_comp(calcstor.CYRmY/calcstor.weightsum,calcstor.CYRmY/calcstor.weightsum,\n",
    "                            calcstor.meanRpY+calcstor.meanRmY,calcstor.CYRpY/calcstor.weightsum,calcstor.CYRpY/calcstor.weightsum) < cov_thres\n",
    "            cbyx_comp = cov_balance_comp(calcstor.CYRmX/calcstor.weightsum,calcstor.CXRmY/calcstor.weightsum,\n",
    "                            0,calcstor.CYRpX/calcstor.weightsum,calcstor.CXRpY/calcstor.weightsum) <cov_thres \n",
    "            thresholdmet = all([cbxx_comp,cbyy_comp,cbyx_comp])               \n",
    "        end\n",
    "        trynum += 1\n",
    "        totalsteps += steps\n",
    "        print(\"Balance Test for chained simulation \")\n",
    "        println(trynum)\n",
    "        print(\"Current steps: \")\n",
    "        println(totalsteps)\n",
    "        print(\"Means: \")\n",
    "        println([calcstor.meanx,calcstor.meany])\n",
    "        print(\"Flux Balance on x: \")\n",
    "        println(relative_error(calcstor.meanRpX,calcstor.meanRmX))\n",
    "    \n",
    "        print(\"Flux Balance on y: \")\n",
    "        println(relative_error(calcstor.meanRpY,calcstor.meanRmY))\n",
    "    \n",
    "        print(\"Cov Balance on x,x: \")\n",
    "        println(cov_balance_comp(calcstor.CXRmX/calcstor.weightsum,calcstor.CXRmX/calcstor.weightsum,\n",
    "                                calcstor.meanRpX+calcstor.meanRmX,calcstor.CXRpX/calcstor.weightsum,calcstor.CXRpX/calcstor.weightsum))\n",
    "        print(\"Cov Balance on y,y: \")\n",
    "        println(cov_balance_comp(calcstor.CYRmY/calcstor.weightsum,calcstor.CYRmY/calcstor.weightsum,\n",
    "                                calcstor.meanRpY+calcstor.meanRmY,calcstor.CYRpY/calcstor.weightsum,calcstor.CYRpY/calcstor.weightsum))\n",
    "        print(\"Cov Balance on y,x: \")\n",
    "        println(cov_balance_comp(calcstor.CYRmX/calcstor.weightsum,calcstor.CXRmY/calcstor.weightsum,\n",
    "                                0,calcstor.CYRpX/calcstor.weightsum,calcstor.CXRpY/calcstor.weightsum))\n",
    "    end\n",
    "    print(\"Tries taken: \")\n",
    "    println(trynum)\n",
    "    print(\"Total Steps: \")\n",
    "    println(totalsteps)\n",
    "    print(\"Threshold met: \")\n",
    "    println(thresholdmet)\n",
    "return calcstor\n",
    "end"
   ]
  },
  {
   "cell_type": "code",
   "execution_count": 7,
   "metadata": {},
   "outputs": [
    {
     "name": "stdout",
     "output_type": "stream",
     "text": [
      "Balance Test for chained simulation 1\n",
      "Current steps: 997974\n",
      "Means: [6.57057141312062, 26.376926330873413]\n",
      "Flux Balance on x: 0.00892289716151807\n",
      "Flux Balance on y: 0.005842130438943456\n",
      "Cov Balance on x,x: 0.02427694083540527\n",
      "Cov Balance on y,y: 0.050038497913822484\n",
      "Cov Balance on y,x: 0.13096847414610852\n",
      "Balance Test for chained simulation 2\n",
      "Current steps: 1998000\n",
      "Means: [6.620410909557105, 26.47342223045691]\n",
      "Flux Balance on x: 8.509374977335167e-5\n",
      "Flux Balance on y: 0.0019331219228898122\n",
      "Cov Balance on x,x: 0.009997237479179216\n",
      "Cov Balance on y,y: 0.015254255302058735\n",
      "Cov Balance on y,x: 0.07778851582944875\n",
      "Balance Test for chained simulation 3\n",
      "Current steps: 2995907\n",
      "Means: [6.603983358935657, 26.384350315960365]\n",
      "Flux Balance on x: 0.0034403890753661186\n",
      "Flux Balance on y: 0.0010826328733251369\n",
      "Cov Balance on x,x: 0.006102194832940691\n",
      "Cov Balance on y,y: 0.00041909272209214056\n",
      "Cov Balance on y,x: 0.05945942945101689\n",
      "Balance Test for chained simulation 4\n",
      "Current steps: 3995867\n",
      "Means: [6.604116619880615, 26.39387071771207]\n",
      "Flux Balance on x: 0.0032646981529307214\n",
      "Flux Balance on y: 0.001423813068858023\n",
      "Cov Balance on x,x: 0.012433714608519863\n",
      "Cov Balance on y,y: 0.0018054245054892138\n",
      "Cov Balance on y,x: 0.04871196092640747\n",
      "Balance Test for chained simulation 5\n",
      "Current steps: 5000643\n",
      "Means: [6.615834189286234, 26.43351725345657]\n",
      "Flux Balance on x: 0.0009494375403370647\n",
      "Flux Balance on y: 0.0011270057827478736\n",
      "Cov Balance on x,x: 0.015074038191271972\n",
      "Cov Balance on y,y: 0.005162368881322588\n",
      "Cov Balance on y,x: 0.04797015105042704\n",
      "Balance Test for chained simulation 6\n",
      "Current steps: 6000899\n",
      "Means: [6.613722023045606, 26.415765544264453]\n",
      "Flux Balance on x: 0.0015212640323844528\n",
      "Flux Balance on y: 0.0008071349237683477\n",
      "Cov Balance on x,x: 0.019649014375110473\n",
      "Cov Balance on y,y: 0.00617038883095269\n",
      "Cov Balance on y,x: 0.043578358660775994\n",
      "Balance Test for chained simulation 7\n",
      "Current steps: 7003333\n",
      "Means: [6.622775117902122, 26.44682718292494]\n",
      "Flux Balance on x: 0.00023499780087957078\n",
      "Flux Balance on y: 0.0006280219935406114\n",
      "Cov Balance on x,x: 0.02045370882141841\n",
      "Cov Balance on y,y: 0.0072285167902737596\n",
      "Cov Balance on y,x: 0.03999360235829608\n",
      "Balance Test for chained simulation 8\n",
      "Current steps: 7997312\n",
      "Means: [6.622293154193587, 26.429064320603675]\n",
      "Flux Balance on x: 5.245631970080069e-5\n",
      "Flux Balance on y: 2.786525414784022e-5\n",
      "Cov Balance on x,x: 0.02178394773001841\n",
      "Cov Balance on y,y: 0.010170327417089174\n",
      "Cov Balance on y,x: 0.03739365573893611\n",
      "Balance Test for chained simulation 9\n",
      "Current steps: 8996821\n",
      "Means: [6.623941316810872, 26.42949743786459]\n",
      "Flux Balance on x: 0.000187564278662726\n",
      "Flux Balance on y: 0.00020418201228772739\n",
      "Cov Balance on x,x: 0.020094645852423532\n",
      "Cov Balance on y,y: 0.011128744151835632\n",
      "Cov Balance on y,x: 0.03690987384549174\n",
      "Balance Test for chained simulation 10\n",
      "Current steps: 9994715\n",
      "Means: [6.621773569554544, 26.419249217576212]\n",
      "Flux Balance on x: 0.0002632782110725622\n",
      "Flux Balance on y: 0.00026000996874410664\n",
      "Cov Balance on x,x: 0.021865592416138134\n",
      "Cov Balance on y,y: 0.012381450669017652\n",
      "Cov Balance on y,x: 0.0354096826757491\n",
      "Balance Test for chained simulation 11\n",
      "Current steps: 10995238\n",
      "Means: [6.620810474567125, 26.417452498254768]\n",
      "Flux Balance on x: 0.0004193591163685158\n",
      "Flux Balance on y: 0.00018671163661002904\n",
      "Cov Balance on x,x: 0.02243827280678986\n",
      "Cov Balance on y,y: 0.012609040968972682\n",
      "Cov Balance on y,x: 0.03335316578551543\n",
      "Balance Test for chained simulation 12\n",
      "Current steps: 11992947\n",
      "Means: [6.619472258738937, 26.411256265022008]\n",
      "Flux Balance on x: 0.0006867291988763383\n",
      "Flux Balance on y: 0.0002262294474889546\n",
      "Cov Balance on x,x: 0.022887750067762756\n",
      "Cov Balance on y,y: 0.012911620082503301\n",
      "Cov Balance on y,x: 0.03138292958405076\n",
      "Balance Test for chained simulation 13\n",
      "Current steps: 12994059\n",
      "Means: [6.618334085024053, 26.410027598804827]\n",
      "Flux Balance on x: 0.0008775071679517859\n",
      "Flux Balance on y: 9.908968493025548e-5\n",
      "Cov Balance on x,x: 0.023551993426303507\n",
      "Cov Balance on y,y: 0.013025016689736107\n",
      "Cov Balance on y,x: 0.031796116548987036\n",
      "Balance Test for chained simulation 14\n",
      "Current steps: 13998386\n",
      "Means: [6.621077782965527, 26.421315866151154]\n",
      "Flux Balance on x: 0.00032947807162873633\n",
      "Flux Balance on y: 8.916471305796551e-5\n",
      "Cov Balance on x,x: 0.024309620890397093\n",
      "Cov Balance on y,y: 0.01249788666786952\n",
      "Cov Balance on y,x: 0.0331655121011589\n",
      "Balance Test for chained simulation 15\n",
      "Current steps: 15003524\n",
      "Means: [6.620877121428067, 26.427055080638315]\n",
      "Flux Balance on x: 0.0002922447838599946\n",
      "Flux Balance on y: 0.00015070758454816278\n",
      "Cov Balance on x,x: 0.024302215392278562\n",
      "Cov Balance on y,y: 0.012347754550599\n",
      "Cov Balance on y,x: 0.03461178433463515\n",
      "Balance Test for chained simulation 16\n",
      "Current steps: 16005423\n",
      "Means: [6.6213284521660976, 26.42885122799364]\n",
      "Flux Balance on x: 0.00020211067755751373\n",
      "Flux Balance on y: 0.00014701981379116984\n",
      "Cov Balance on x,x: 0.023454755165007092\n",
      "Cov Balance on y,y: 0.012675501903672793\n",
      "Cov Balance on y,x: 0.033472775351515875\n",
      "Balance Test for chained simulation 17\n",
      "Current steps: 17007435\n",
      "Means: [6.620267410776467, 26.42712395930443]\n",
      "Flux Balance on x: 0.0003774591109626589\n",
      "Flux Balance on y: 0.00024091336551394202\n",
      "Cov Balance on x,x: 0.02375362659776139\n",
      "Cov Balance on y,y: 0.013595676428648926\n",
      "Cov Balance on y,x: 0.03235804807785013\n",
      "Balance Test for chained simulation 18\n",
      "Current steps: 18003066\n",
      "Means: [6.620533105392389, 26.427097545240446]\n",
      "Flux Balance on x: 0.0003229504254634275\n",
      "Flux Balance on y: 0.00019138082092114196\n",
      "Cov Balance on x,x: 0.02337572645709032\n",
      "Cov Balance on y,y: 0.014321063028907\n",
      "Cov Balance on y,x: 0.031061461777993703\n",
      "Balance Test for chained simulation 19\n",
      "Current steps: 18997925\n",
      "Means: [6.618567020190766, 26.422240276260876]\n",
      "Flux Balance on x: 0.0006754169767653517\n",
      "Flux Balance on y: 0.00030630442732765143\n",
      "Cov Balance on x,x: 0.024486963770603425\n",
      "Cov Balance on y,y: 0.014359893108202947\n",
      "Cov Balance on y,x: 0.029680503552910423\n",
      "Tries taken: 19\n",
      "Total Steps: 18997925\n",
      "Threshold met: true\n"
     ]
    },
    {
     "data": {
      "text/plain": [
       "BalanceEqData(6.618567020190766, 26.422240276260876, 287566.84179239837, 1.6733083994126217e6, 1.8186760572627004e7, 2.608366918014273e6, 6.610986684710762, 6.6065245258885605, 26.426098103554242, 26.434195014520032, 1.6461330633552896e6, -214017.11355457047, 2.680975135388464e6, -1.5163946118314483e6, 2.5421886371082687e6, 6.5845322534211585e6, 1.8064923938876312e7, 1.0723900541553857e7)"
      ]
     },
     "metadata": {},
     "output_type": "display_data"
    }
   ],
   "source": [
    "calcs = reach_balance_test([100,400],[10.,1.,4.,1.,-1.,50.],10^5,10^8,Random.MersenneTwister(),0.01,0.03,20)"
   ]
  },
  {
   "cell_type": "code",
   "execution_count": null,
   "metadata": {},
   "outputs": [],
   "source": []
  }
 ],
 "metadata": {
  "kernelspec": {
   "display_name": "Julia 1.7.2",
   "language": "julia",
   "name": "julia-1.7"
  },
  "language_info": {
   "file_extension": ".jl",
   "mimetype": "application/julia",
   "name": "julia",
   "version": "1.7.2"
  },
  "orig_nbformat": 4
 },
 "nbformat": 4,
 "nbformat_minor": 2
}
