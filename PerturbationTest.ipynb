{
 "cells": [
  {
   "cell_type": "code",
   "execution_count": 1,
   "metadata": {},
   "outputs": [],
   "source": [
    "import Random"
   ]
  },
  {
   "cell_type": "code",
   "execution_count": 2,
   "metadata": {},
   "outputs": [
    {
     "data": {
      "text/plain": [
       "tt_protein_fb_rates! (generic function with 1 method)"
      ]
     },
     "execution_count": 2,
     "metadata": {},
     "output_type": "execute_result"
    }
   ],
   "source": [
    "include(\"Storage.jl\")\n",
    "include(\"GillespieFunctions.jl\")\n",
    "include(\"Rates.jl\")"
   ]
  },
  {
   "cell_type": "code",
   "execution_count": 12,
   "metadata": {},
   "outputs": [
    {
     "data": {
      "text/plain": [
       "balance_test (generic function with 1 method)"
      ]
     },
     "execution_count": 12,
     "metadata": {},
     "output_type": "execute_result"
    }
   ],
   "source": [
    "function balance_test(initialstate::Vector{Int64},params::Vector{Float64},numsteps::Int64,maxsteps::Int64,rng::Random.AbstractRNG)\n",
    "    statevector = initialstate\n",
    "    outcomes = [1 0 ; -1 0; 0 1 ; 0 -1]\n",
    "    calcstor = BalanceEqData()\n",
    "\n",
    "    endstate,steps = direct_gillespie!(initialstate,params,outcomes,tt_protein_fb_rates!,calcstor,updatestorage!,rng,numsteps,maxsteps)\n",
    "\n",
    "    println(\"Flux Balance on x\")\n",
    "    println(relative_error(calcstor.meanRpX,calcstor.meanRmX))\n",
    "\n",
    "    println(\"Flux Balance on y\")\n",
    "    println(relative_error(calcstor.meanRpY,calcstor.meanRmY))\n",
    "\n",
    "    println(\"Cov Balance on x,x\")\n",
    "    println(cov_balance_comp(calcstor.CXRmX/calcstor.weightsum,calcstor.CXRmX/calcstor.weightsum,\n",
    "                            calcstor.meanRpX+calcstor.meanRmX,calcstor.CXRpX/calcstor.weightsum,calcstor.CXRpX/calcstor.weightsum))\n",
    "    println(\"Cov Balance on y,y\")\n",
    "    println(cov_balance_comp(calcstor.CYRmY/calcstor.weightsum,calcstor.CYRmY/calcstor.weightsum,\n",
    "                            calcstor.meanRpY+calcstor.meanRmY,calcstor.CYRpY/calcstor.weightsum,calcstor.CYRpY/calcstor.weightsum))\n",
    "    println(\"Cov Balance on y,x\")\n",
    "    println(cov_balance_comp(calcstor.CYRmX/calcstor.weightsum,calcstor.CXRmY/calcstor.weightsum,\n",
    "                            0,calcstor.CYRpX/calcstor.weightsum,calcstor.CXRpY/calcstor.weightsum))\n",
    "    println(steps)\n",
    "    println(endstate)\n",
    "    println(calcstor.meanx)\n",
    "    println(calcstor.meany)\n",
    "\n",
    "\n",
    "    return calcstor\n",
    "end"
   ]
  },
  {
   "cell_type": "code",
   "execution_count": 15,
   "metadata": {},
   "outputs": [
    {
     "name": "stdout",
     "output_type": "stream",
     "text": [
      "Flux Balance on x\n",
      "0.0006497384678714713\n",
      "Flux Balance on y\n",
      "0.0003582577495729137\n",
      "Cov Balance on x,x\n",
      "0.022995191812381962\n",
      "Cov Balance on y,y\n",
      "0.019856004496052293\n",
      "Cov Balance on y,x\n",
      "0.023520689079256987\n",
      "100087578\n",
      "[5, 27]\n",
      "6.624907099147678\n",
      "26.448908360587573\n"
     ]
    },
    {
     "data": {
      "text/plain": [
       "BalanceEqData(6.624907099147678, 26.448908360587573, 1.5136263069595476e6, 8.81916463327828e6, 9.500682254174376e7, 1.3668092596005922e7, 6.608646990910732, 6.612943674802119, 26.451774699208475, 26.46125464874981, 8.676208806340348e6, -1.1305538336904615e6, 1.4048130762351027e7, -7.981747644015707e6, 1.33186421763894e7, 3.470483522536139e7, 9.436410554640487e7, 5.619252304940411e7)"
      ]
     },
     "execution_count": 15,
     "metadata": {},
     "output_type": "execute_result"
    }
   ],
   "source": [
    "calcs = balance_test([10,50],[10.,1.,4.,1.,-1.,50.],10^7,10^10,Random.MersenneTwister())"
   ]
  },
  {
   "cell_type": "code",
   "execution_count": 18,
   "metadata": {},
   "outputs": [
    {
     "ename": "LoadError",
     "evalue": "MethodError: no method matching all!(::Vector{Bool})\n\u001b[0mClosest candidates are:\n\u001b[0m  all!(::AbstractArray, \u001b[91m::AbstractArray\u001b[39m; init) at /Applications/Julia-1.7 arm64.app/Contents/Resources/julia/share/julia/base/reducedim.jl:913\n\u001b[0m  all!(\u001b[91m::Function\u001b[39m, \u001b[91m::AbstractArray\u001b[39m, \u001b[91m::AbstractArray\u001b[39m; init) at /Applications/Julia-1.7 arm64.app/Contents/Resources/julia/share/julia/base/reducedim.jl:911",
     "output_type": "error",
     "traceback": [
      "MethodError: no method matching all!(::Vector{Bool})\n\u001b[0mClosest candidates are:\n\u001b[0m  all!(::AbstractArray, \u001b[91m::AbstractArray\u001b[39m; init) at /Applications/Julia-1.7 arm64.app/Contents/Resources/julia/share/julia/base/reducedim.jl:913\n\u001b[0m  all!(\u001b[91m::Function\u001b[39m, \u001b[91m::AbstractArray\u001b[39m, \u001b[91m::AbstractArray\u001b[39m; init) at /Applications/Julia-1.7 arm64.app/Contents/Resources/julia/share/julia/base/reducedim.jl:911",
      "",
      "Stacktrace:",
      " [1] top-level scope",
      "   @ In[18]:1",
      " [2] eval",
      "   @ ./boot.jl:373 [inlined]",
      " [3] include_string(mapexpr::typeof(REPL.softscope), mod::Module, code::String, filename::String)",
      "   @ Base ./loading.jl:1196"
     ]
    }
   ],
   "source": []
  },
  {
   "cell_type": "code",
   "execution_count": 39,
   "metadata": {},
   "outputs": [
    {
     "data": {
      "text/plain": [
       "reach_balance (generic function with 1 method)"
      ]
     },
     "execution_count": 39,
     "metadata": {},
     "output_type": "execute_result"
    }
   ],
   "source": [
    "function reach_balance(initialstate,params,numsteps,maxsteps,rng,flux_thres,cov_thres,tries)\n",
    "    statevector = initialstate\n",
    "    outcomes = [1 0 ; -1 0; 0 1 ; 0 -1]\n",
    "    calcstor = BalanceEqData()\n",
    "    trynum = 0\n",
    "    thresholdmet = false\n",
    "    \n",
    "    \n",
    "    while (trynum < tries) && (!thresholdmet)\n",
    "        react_steps = trunc(Int,numsteps*(tries-trynum)/tries)\n",
    "        new_max = trunc(Int,maxsteps*(tries-trynum)/tries)\n",
    "        statevector,steps = direct_gillespie!(statevector,params,outcomes,tt_protein_fb_rates!,calcstor,updatestorage!,rng,react_steps,new_max)\n",
    "        if (relative_error(calcstor.meanRpX,calcstor.meanRmX) < flux_thres) &&  (relative_error(calcstor.meanRpY,calcstor.meanRmY) < flux_thres)\n",
    "            cbxx_comp = cov_balance_comp(calcstor.CXRmX/calcstor.weightsum,calcstor.CXRmX/calcstor.weightsum,\n",
    "            calcstor.meanRpX+calcstor.meanRmX,calcstor.CXRpX/calcstor.weightsum,calcstor.CXRpX/calcstor.weightsum) < cov_thres\n",
    "            cbyy_comp = cov_balance_comp(calcstor.CYRmY/calcstor.weightsum,calcstor.CYRmY/calcstor.weightsum,\n",
    "                            calcstor.meanRpY+calcstor.meanRmY,calcstor.CYRpY/calcstor.weightsum,calcstor.CYRpY/calcstor.weightsum) < cov_thres\n",
    "            cbyx_comp = cov_balance_comp(calcstor.CYRmX/calcstor.weightsum,calcstor.CXRmY/calcstor.weightsum,\n",
    "                            0,calcstor.CYRpX/calcstor.weightsum,calcstor.CXRpY/calcstor.weightsum) <cov_thres \n",
    "            thresholdmet = all([cbxx_comp,cbyy_comp,cbyx_comp])               \n",
    "        end\n",
    "        trynum += 1\n",
    "        print(\"Balance Test for chained simulation \")\n",
    "        println(trynum)\n",
    "        println(\"Flux Balance on x\")\n",
    "        println(relative_error(calcstor.meanRpX,calcstor.meanRmX))\n",
    "    \n",
    "        println(\"Flux Balance on y\")\n",
    "        println(relative_error(calcstor.meanRpY,calcstor.meanRmY))\n",
    "    \n",
    "        println(\"Cov Balance on x,x\")\n",
    "        println(cov_balance_comp(calcstor.CXRmX/calcstor.weightsum,calcstor.CXRmX/calcstor.weightsum,\n",
    "                                calcstor.meanRpX+calcstor.meanRmX,calcstor.CXRpX/calcstor.weightsum,calcstor.CXRpX/calcstor.weightsum))\n",
    "        println(\"Cov Balance on y,y\")\n",
    "        println(cov_balance_comp(calcstor.CYRmY/calcstor.weightsum,calcstor.CYRmY/calcstor.weightsum,\n",
    "                                calcstor.meanRpY+calcstor.meanRmY,calcstor.CYRpY/calcstor.weightsum,calcstor.CYRpY/calcstor.weightsum))\n",
    "        println(\"Cov Balance on y,x\")\n",
    "        println(cov_balance_comp(calcstor.CYRmX/calcstor.weightsum,calcstor.CXRmY/calcstor.weightsum,\n",
    "                                0,calcstor.CYRpX/calcstor.weightsum,calcstor.CXRpY/calcstor.weightsum))\n",
    "    end\n",
    "    println(\"Tries taken:\")\n",
    "    println(trynum)\n",
    "return calcstor\n",
    "end"
   ]
  },
  {
   "cell_type": "code",
   "execution_count": 41,
   "metadata": {},
   "outputs": [
    {
     "name": "stdout",
     "output_type": "stream",
     "text": [
      "Balance Test for chained simulation 1\n",
      "Flux Balance on x\n",
      "0.008558661329839573\n",
      "Flux Balance on y\n",
      "0.0012700272020612477\n",
      "Cov Balance on x,x\n",
      "0.0008173211851171903\n",
      "Cov Balance on y,y\n",
      "0.01323324398396664\n",
      "Cov Balance on y,x\n",
      "0.040159143742127174\n",
      "Balance Test for chained simulation 2\n",
      "Flux Balance on x\n",
      "0.004623337021760448\n",
      "Flux Balance on y\n",
      "0.0007944232726668928\n",
      "Cov Balance on x,x\n",
      "0.018420552639757753\n",
      "Cov Balance on y,y\n",
      "0.023810882792470484\n",
      "Cov Balance on y,x\n",
      "0.02193901663095724\n",
      "Balance Test for chained simulation 3\n",
      "Flux Balance on x\n",
      "0.003739798586966899\n",
      "Flux Balance on y\n",
      "0.0004953766194218783\n",
      "Cov Balance on x,x\n",
      "0.02108819506399032\n",
      "Cov Balance on y,y\n",
      "0.018622607055314478\n",
      "Cov Balance on y,x\n",
      "0.024227953593445213\n",
      "Balance Test for chained simulation 4\n",
      "Flux Balance on x\n",
      "0.0035068766407092373\n",
      "Flux Balance on y\n",
      "9.479810252751032e-5\n",
      "Cov Balance on x,x\n",
      "0.02474285786475098\n",
      "Cov Balance on y,y\n",
      "0.0210322867525137\n",
      "Cov Balance on y,x\n",
      "0.02377568222667025\n",
      "Balance Test for chained simulation 5\n",
      "Flux Balance on x\n",
      "0.003416384931145736\n",
      "Flux Balance on y\n",
      "0.00023025901238640467\n",
      "Cov Balance on x,x\n",
      "0.025297330705094552\n",
      "Cov Balance on y,y\n",
      "0.021181951877314985\n",
      "Cov Balance on y,x\n",
      "0.021757688289937814\n",
      "Tries taken:\n",
      "5\n"
     ]
    },
    {
     "data": {
      "text/plain": [
       "BalanceEqData(6.639161547039104, 26.49253392235438, 45283.58103694541, 263588.40809664543, 2.8366864909866336e6, 407941.6046952185, 6.604830699006467, 6.627472696859598, 26.50989078743839, 26.50378805137718, 259339.2141736985, -33703.23752662457, 419250.4735216529, -238282.68776952696, 397596.39494839736, 1.037356856694794e6, 2.817643319762026e6, 1.6770018940866117e6)"
      ]
     },
     "execution_count": 41,
     "metadata": {},
     "output_type": "execute_result"
    }
   ],
   "source": [
    "calcs = reach_balance([10,50],[10.,1.,4.,1.,-1.,50.],10^5,10^6,Random.MersenneTwister(),0.01,0.02,5)"
   ]
  },
  {
   "cell_type": "code",
   "execution_count": null,
   "metadata": {},
   "outputs": [],
   "source": []
  }
 ],
 "metadata": {
  "kernelspec": {
   "display_name": "Julia 1.7.2",
   "language": "julia",
   "name": "julia-1.7"
  },
  "language_info": {
   "file_extension": ".jl",
   "mimetype": "application/julia",
   "name": "julia",
   "version": "1.7.2"
  },
  "orig_nbformat": 4
 },
 "nbformat": 4,
 "nbformat_minor": 2
}
