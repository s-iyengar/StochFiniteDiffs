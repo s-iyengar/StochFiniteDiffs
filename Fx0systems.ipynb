{
 "cells": [
  {
   "cell_type": "code",
   "execution_count": 7,
   "metadata": {},
   "outputs": [],
   "source": [
    "import Random\n",
    "using Distributions\n",
    "using Statistics\n",
    "using DelimitedFiles\n",
    "using Dates"
   ]
  },
  {
   "cell_type": "code",
   "execution_count": 8,
   "metadata": {},
   "outputs": [
    {
     "data": {
      "text/plain": [
       "tt_mRNA_fb_rates! (generic function with 1 method)"
      ]
     },
     "metadata": {},
     "output_type": "display_data"
    }
   ],
   "source": [
    "include(\"Storage.jl\")\n",
    "include(\"GillespieFunctions.jl\")\n",
    "include(\"Rates.jl\")"
   ]
  },
  {
   "cell_type": "code",
   "execution_count": 9,
   "metadata": {},
   "outputs": [
    {
     "data": {
      "text/plain": [
       "reach_balance_test (generic function with 1 method)"
      ]
     },
     "metadata": {},
     "output_type": "display_data"
    }
   ],
   "source": [
    "function data_collection(initialstate::Vector{Int64},params::Vector{Float64},outcomes,storage,numsteps::Int64,maxsteps::Int64,rng::Random.AbstractRNG,ntherm)\n",
    "    endstate,steps,weightsum = direct_gillespie!(initialstate,params,outcomes,tt_protein_fb_rates!,storage,updatestorage!,rng,numsteps,maxsteps,ntherm)\n",
    "    return storage,endstate,steps,weightsum\n",
    "end\n",
    "\n",
    "function reach_balance_test(initialstate,params,outcomes,numsteps,maxsteps,rng,flux_thres,cov_thres,tries,ntherm)\n",
    "    statevector = initialstate\n",
    "    trynum = 0\n",
    "    thresholdmet = false\n",
    "    totalsteps = 0\n",
    "    calcstor = BalanceEqData_Fy()\n",
    "    fluxcheck = [0,0]\n",
    "    cbvals = [0,0]\n",
    "    \n",
    "    while (trynum < tries) && (!thresholdmet)\n",
    "        calcstor,statevector,steps,lastsimtime = data_collection(statevector,params,outcomes,calcstor,numsteps,maxsteps,rng,ntherm)\n",
    "        weightsum = calcstor.weightsum\n",
    "        fluxcheck = [relative_error(calcstor.meanRpX,calcstor.meanRmX),relative_error(calcstor.meanRpY,calcstor.meanRmY)]\n",
    "        if (fluxcheck[1] < flux_thres) &&  (fluxcheck[2] < flux_thres)\n",
    "            cbxx_comp = cov_balance_comp(calcstor.CXRmX/weightsum,calcstor.CXRmX/weightsum,\n",
    "            calcstor.meanRpX+calcstor.meanRmX,calcstor.CXRpX/weightsum,calcstor.CXRpX/weightsum) \n",
    "            cbyy_comp = cov_balance_comp(calcstor.CYRmY/weightsum,calcstor.CYRmY/weightsum,\n",
    "                            calcstor.meanRpY+calcstor.meanRmY,calcstor.CYRpY/weightsum,calcstor.CYRpY/weightsum) \n",
    "            cbyx_comp = cov_balance_comp(calcstor.CYRmX/weightsum,calcstor.CXRmY/weightsum,\n",
    "                            0,calcstor.CYRpX/weightsum,calcstor.CXRpY/weightsum) \n",
    "            cbvals = [cbxx_comp,cbyy_comp,cbyx_comp]\n",
    "            thresholdmet = all(cbvals .< cov_thres)               \n",
    "        end\n",
    "        trynum += 1\n",
    "        totalsteps += steps\n",
    "        if maxsteps>100000\n",
    "            maxsteps = maxsteps ÷ 2\n",
    "        end\n",
    "    end\n",
    "return calcstor,totalsteps,trynum,fluxcheck,cbvals\n",
    "end"
   ]
  },
  {
   "attachments": {},
   "cell_type": "markdown",
   "metadata": {},
   "source": [
    "Run some number of simulations, storing the used parameters+simulation constraints. Save each simulation's output into a big CSV. Finally, go through the results and calculate the perturbation data"
   ]
  },
  {
   "attachments": {},
   "cell_type": "markdown",
   "metadata": {},
   "source": [
    "Generate truly independent perts: cartesian product of all the values you want to multiply"
   ]
  },
  {
   "cell_type": "code",
   "execution_count": 48,
   "metadata": {},
   "outputs": [
    {
     "data": {
      "text/plain": [
       "10-element Vector{Any}:\n",
       " [[1.0, 1.0, 1.0, 1.0, 1.0, 1.0], [1.0, 1.0, 1.0, 1.0, 1.0, 1.0], [1.0, 1.0, 1.0, 1.0, 1.0, 1.0], [1.0, 1.2, 1.0, 1.0, 1.0, 1.0], [1.0, 1.2, 1.0, 1.0, 1.0, 1.0], [1.0, 1.2, 1.0, 1.0, 1.0, 1.0], [1.0, 0.8, 1.0, 1.0, 1.0, 1.0], [1.0, 0.8, 1.0, 1.0, 1.0, 1.0], [1.0, 0.8, 1.0, 1.0, 1.0, 1.0], [1.0, 1.0, 1.0, 1.0, 1.0, 1.0]  …  [1.0, 0.8, 1.0, 1.0, 1.0, 1.0], [1.0, 1.0, 1.0, 1.0, 1.0, 1.0], [1.0, 1.0, 1.0, 1.0, 1.0, 1.0], [1.0, 1.0, 1.0, 1.0, 1.0, 1.0], [1.0, 1.2, 1.0, 1.0, 1.0, 1.0], [1.0, 1.2, 1.0, 1.0, 1.0, 1.0], [1.0, 1.2, 1.0, 1.0, 1.0, 1.0], [1.0, 0.8, 1.0, 1.0, 1.0, 1.0], [1.0, 0.8, 1.0, 1.0, 1.0, 1.0], [1.0, 0.8, 1.0, 1.0, 1.0, 1.0]]\n",
       " [[1.0, 1.0, 1.0, 1.0, 1.0, 1.0], [1.0, 1.0, 1.0666666666666667, 1.0, 1.0, 1.0], [1.0, 1.0, 0.9333333333333333, 1.0, 1.0, 1.0], [1.0, 1.2, 1.0, 1.0, 1.0, 1.0], [1.0, 1.2, 1.0666666666666667, 1.0, 1.0, 1.0], [1.0, 1.2, 0.9333333333333333, 1.0, 1.0, 1.0], [1.0, 0.8, 1.0, 1.0, 1.0, 1.0], [1.0, 0.8, 1.0666666666666667, 1.0, 1.0, 1.0], [1.0, 0.8, 0.9333333333333333, 1.0, 1.0, 1.0], [1.0, 1.0, 1.0, 1.0, 1.0, 1.0]  …  [1.0, 0.8, 0.9333333333333333, 1.0, 1.0, 1.0], [1.0, 1.0, 1.0, 1.0, 1.0, 1.0], [1.0, 1.0, 1.0666666666666667, 1.0, 1.0, 1.0], [1.0, 1.0, 0.9333333333333333, 1.0, 1.0, 1.0], [1.0, 1.2, 1.0, 1.0, 1.0, 1.0], [1.0, 1.2, 1.0666666666666667, 1.0, 1.0, 1.0], [1.0, 1.2, 0.9333333333333333, 1.0, 1.0, 1.0], [1.0, 0.8, 1.0, 1.0, 1.0, 1.0], [1.0, 0.8, 1.0666666666666667, 1.0, 1.0, 1.0], [1.0, 0.8, 0.9333333333333333, 1.0, 1.0, 1.0]]\n",
       " [[1.0, 1.0, 1.0, 1.0, 1.0, 1.0], [1.0, 1.0, 1.1333333333333333, 1.0, 1.0, 1.0], [1.0, 1.0, 0.8666666666666667, 1.0, 1.0, 1.0], [1.0, 1.2, 1.0, 1.0, 1.0, 1.0], [1.0, 1.2, 1.1333333333333333, 1.0, 1.0, 1.0], [1.0, 1.2, 0.8666666666666667, 1.0, 1.0, 1.0], [1.0, 0.8, 1.0, 1.0, 1.0, 1.0], [1.0, 0.8, 1.1333333333333333, 1.0, 1.0, 1.0], [1.0, 0.8, 0.8666666666666667, 1.0, 1.0, 1.0], [1.0, 1.0, 1.0, 1.0, 1.0, 1.0]  …  [1.0, 0.8, 0.8666666666666667, 1.0, 1.0, 1.0], [1.0, 1.0, 1.0, 1.0, 1.0, 1.0], [1.0, 1.0, 1.1333333333333333, 1.0, 1.0, 1.0], [1.0, 1.0, 0.8666666666666667, 1.0, 1.0, 1.0], [1.0, 1.2, 1.0, 1.0, 1.0, 1.0], [1.0, 1.2, 1.1333333333333333, 1.0, 1.0, 1.0], [1.0, 1.2, 0.8666666666666667, 1.0, 1.0, 1.0], [1.0, 0.8, 1.0, 1.0, 1.0, 1.0], [1.0, 0.8, 1.1333333333333333, 1.0, 1.0, 1.0], [1.0, 0.8, 0.8666666666666667, 1.0, 1.0, 1.0]]\n",
       " [[1.0, 1.0, 1.0, 1.0, 1.0, 1.0], [1.0, 1.0, 1.2, 1.0, 1.0, 1.0], [1.0, 1.0, 0.8, 1.0, 1.0, 1.0], [1.0, 1.2, 1.0, 1.0, 1.0, 1.0], [1.0, 1.2, 1.2, 1.0, 1.0, 1.0], [1.0, 1.2, 0.8, 1.0, 1.0, 1.0], [1.0, 0.8, 1.0, 1.0, 1.0, 1.0], [1.0, 0.8, 1.2, 1.0, 1.0, 1.0], [1.0, 0.8, 0.8, 1.0, 1.0, 1.0], [1.0, 1.0, 1.0, 1.0, 1.0, 1.0]  …  [1.0, 0.8, 0.8, 1.0, 1.0, 1.0], [1.0, 1.0, 1.0, 1.0, 1.0, 1.0], [1.0, 1.0, 1.2, 1.0, 1.0, 1.0], [1.0, 1.0, 0.8, 1.0, 1.0, 1.0], [1.0, 1.2, 1.0, 1.0, 1.0, 1.0], [1.0, 1.2, 1.2, 1.0, 1.0, 1.0], [1.0, 1.2, 0.8, 1.0, 1.0, 1.0], [1.0, 0.8, 1.0, 1.0, 1.0, 1.0], [1.0, 0.8, 1.2, 1.0, 1.0, 1.0], [1.0, 0.8, 0.8, 1.0, 1.0, 1.0]]\n",
       " [[1.0, 1.0, 1.0, 1.0, 1.0, 1.0], [1.0, 1.0, 1.2666666666666666, 1.0, 1.0, 1.0], [1.0, 1.0, 0.7333333333333334, 1.0, 1.0, 1.0], [1.0, 1.2, 1.0, 1.0, 1.0, 1.0], [1.0, 1.2, 1.2666666666666666, 1.0, 1.0, 1.0], [1.0, 1.2, 0.7333333333333334, 1.0, 1.0, 1.0], [1.0, 0.8, 1.0, 1.0, 1.0, 1.0], [1.0, 0.8, 1.2666666666666666, 1.0, 1.0, 1.0], [1.0, 0.8, 0.7333333333333334, 1.0, 1.0, 1.0], [1.0, 1.0, 1.0, 1.0, 1.0, 1.0]  …  [1.0, 0.8, 0.7333333333333334, 1.0, 1.0, 1.0], [1.0, 1.0, 1.0, 1.0, 1.0, 1.0], [1.0, 1.0, 1.2666666666666666, 1.0, 1.0, 1.0], [1.0, 1.0, 0.7333333333333334, 1.0, 1.0, 1.0], [1.0, 1.2, 1.0, 1.0, 1.0, 1.0], [1.0, 1.2, 1.2666666666666666, 1.0, 1.0, 1.0], [1.0, 1.2, 0.7333333333333334, 1.0, 1.0, 1.0], [1.0, 0.8, 1.0, 1.0, 1.0, 1.0], [1.0, 0.8, 1.2666666666666666, 1.0, 1.0, 1.0], [1.0, 0.8, 0.7333333333333334, 1.0, 1.0, 1.0]]\n",
       " [[1.0, 1.0, 1.0, 1.0, 1.0, 1.0], [1.0, 1.0, 1.3333333333333333, 1.0, 1.0, 1.0], [1.0, 1.0, 0.6666666666666667, 1.0, 1.0, 1.0], [1.0, 1.2, 1.0, 1.0, 1.0, 1.0], [1.0, 1.2, 1.3333333333333333, 1.0, 1.0, 1.0], [1.0, 1.2, 0.6666666666666667, 1.0, 1.0, 1.0], [1.0, 0.8, 1.0, 1.0, 1.0, 1.0], [1.0, 0.8, 1.3333333333333333, 1.0, 1.0, 1.0], [1.0, 0.8, 0.6666666666666667, 1.0, 1.0, 1.0], [1.0, 1.0, 1.0, 1.0, 1.0, 1.0]  …  [1.0, 0.8, 0.6666666666666667, 1.0, 1.0, 1.0], [1.0, 1.0, 1.0, 1.0, 1.0, 1.0], [1.0, 1.0, 1.3333333333333333, 1.0, 1.0, 1.0], [1.0, 1.0, 0.6666666666666667, 1.0, 1.0, 1.0], [1.0, 1.2, 1.0, 1.0, 1.0, 1.0], [1.0, 1.2, 1.3333333333333333, 1.0, 1.0, 1.0], [1.0, 1.2, 0.6666666666666667, 1.0, 1.0, 1.0], [1.0, 0.8, 1.0, 1.0, 1.0, 1.0], [1.0, 0.8, 1.3333333333333333, 1.0, 1.0, 1.0], [1.0, 0.8, 0.6666666666666667, 1.0, 1.0, 1.0]]\n",
       " [[1.0, 1.0, 1.0, 1.0, 1.0, 1.0], [1.0, 1.0, 1.4, 1.0, 1.0, 1.0], [1.0, 1.0, 0.6000000000000001, 1.0, 1.0, 1.0], [1.0, 1.2, 1.0, 1.0, 1.0, 1.0], [1.0, 1.2, 1.4, 1.0, 1.0, 1.0], [1.0, 1.2, 0.6000000000000001, 1.0, 1.0, 1.0], [1.0, 0.8, 1.0, 1.0, 1.0, 1.0], [1.0, 0.8, 1.4, 1.0, 1.0, 1.0], [1.0, 0.8, 0.6000000000000001, 1.0, 1.0, 1.0], [1.0, 1.0, 1.0, 1.0, 1.0, 1.0]  …  [1.0, 0.8, 0.6000000000000001, 1.0, 1.0, 1.0], [1.0, 1.0, 1.0, 1.0, 1.0, 1.0], [1.0, 1.0, 1.4, 1.0, 1.0, 1.0], [1.0, 1.0, 0.6000000000000001, 1.0, 1.0, 1.0], [1.0, 1.2, 1.0, 1.0, 1.0, 1.0], [1.0, 1.2, 1.4, 1.0, 1.0, 1.0], [1.0, 1.2, 0.6000000000000001, 1.0, 1.0, 1.0], [1.0, 0.8, 1.0, 1.0, 1.0, 1.0], [1.0, 0.8, 1.4, 1.0, 1.0, 1.0], [1.0, 0.8, 0.6000000000000001, 1.0, 1.0, 1.0]]\n",
       " [[1.0, 1.0, 1.0, 1.0, 1.0, 1.0], [1.0, 1.0, 1.4666666666666668, 1.0, 1.0, 1.0], [1.0, 1.0, 0.5333333333333333, 1.0, 1.0, 1.0], [1.0, 1.2, 1.0, 1.0, 1.0, 1.0], [1.0, 1.2, 1.4666666666666668, 1.0, 1.0, 1.0], [1.0, 1.2, 0.5333333333333333, 1.0, 1.0, 1.0], [1.0, 0.8, 1.0, 1.0, 1.0, 1.0], [1.0, 0.8, 1.4666666666666668, 1.0, 1.0, 1.0], [1.0, 0.8, 0.5333333333333333, 1.0, 1.0, 1.0], [1.0, 1.0, 1.0, 1.0, 1.0, 1.0]  …  [1.0, 0.8, 0.5333333333333333, 1.0, 1.0, 1.0], [1.0, 1.0, 1.0, 1.0, 1.0, 1.0], [1.0, 1.0, 1.4666666666666668, 1.0, 1.0, 1.0], [1.0, 1.0, 0.5333333333333333, 1.0, 1.0, 1.0], [1.0, 1.2, 1.0, 1.0, 1.0, 1.0], [1.0, 1.2, 1.4666666666666668, 1.0, 1.0, 1.0], [1.0, 1.2, 0.5333333333333333, 1.0, 1.0, 1.0], [1.0, 0.8, 1.0, 1.0, 1.0, 1.0], [1.0, 0.8, 1.4666666666666668, 1.0, 1.0, 1.0], [1.0, 0.8, 0.5333333333333333, 1.0, 1.0, 1.0]]\n",
       " [[1.0, 1.0, 1.0, 1.0, 1.0, 1.0], [1.0, 1.0, 1.5333333333333332, 1.0, 1.0, 1.0], [1.0, 1.0, 0.4666666666666667, 1.0, 1.0, 1.0], [1.0, 1.2, 1.0, 1.0, 1.0, 1.0], [1.0, 1.2, 1.5333333333333332, 1.0, 1.0, 1.0], [1.0, 1.2, 0.4666666666666667, 1.0, 1.0, 1.0], [1.0, 0.8, 1.0, 1.0, 1.0, 1.0], [1.0, 0.8, 1.5333333333333332, 1.0, 1.0, 1.0], [1.0, 0.8, 0.4666666666666667, 1.0, 1.0, 1.0], [1.0, 1.0, 1.0, 1.0, 1.0, 1.0]  …  [1.0, 0.8, 0.4666666666666667, 1.0, 1.0, 1.0], [1.0, 1.0, 1.0, 1.0, 1.0, 1.0], [1.0, 1.0, 1.5333333333333332, 1.0, 1.0, 1.0], [1.0, 1.0, 0.4666666666666667, 1.0, 1.0, 1.0], [1.0, 1.2, 1.0, 1.0, 1.0, 1.0], [1.0, 1.2, 1.5333333333333332, 1.0, 1.0, 1.0], [1.0, 1.2, 0.4666666666666667, 1.0, 1.0, 1.0], [1.0, 0.8, 1.0, 1.0, 1.0, 1.0], [1.0, 0.8, 1.5333333333333332, 1.0, 1.0, 1.0], [1.0, 0.8, 0.4666666666666667, 1.0, 1.0, 1.0]]\n",
       " [[1.0, 1.0, 1.0, 1.0, 1.0, 1.0], [1.0, 1.0, 1.6, 1.0, 1.0, 1.0], [1.0, 1.0, 0.4, 1.0, 1.0, 1.0], [1.0, 1.2, 1.0, 1.0, 1.0, 1.0], [1.0, 1.2, 1.6, 1.0, 1.0, 1.0], [1.0, 1.2, 0.4, 1.0, 1.0, 1.0], [1.0, 0.8, 1.0, 1.0, 1.0, 1.0], [1.0, 0.8, 1.6, 1.0, 1.0, 1.0], [1.0, 0.8, 0.4, 1.0, 1.0, 1.0], [1.0, 1.0, 1.0, 1.0, 1.0, 1.0]  …  [1.0, 0.8, 0.4, 1.0, 1.0, 1.0], [1.0, 1.0, 1.0, 1.0, 1.0, 1.0], [1.0, 1.0, 1.6, 1.0, 1.0, 1.0], [1.0, 1.0, 0.4, 1.0, 1.0, 1.0], [1.0, 1.2, 1.0, 1.0, 1.0, 1.0], [1.0, 1.2, 1.6, 1.0, 1.0, 1.0], [1.0, 1.2, 0.4, 1.0, 1.0, 1.0], [1.0, 0.8, 1.0, 1.0, 1.0, 1.0], [1.0, 0.8, 1.6, 1.0, 1.0, 1.0], [1.0, 0.8, 0.4, 1.0, 1.0, 1.0]]"
      ]
     },
     "metadata": {},
     "output_type": "display_data"
    }
   ],
   "source": [
    "ds = LinRange(0,0.6,10)\n",
    "\n",
    "ipset = []\n",
    "for d in ds\n",
    "    lambdas = [1]\n",
    "    betaxs = [1,1.2,0.8]\n",
    "    gammas = [1,1+d,1-d]\n",
    "    betays = [1]\n",
    "    ns=[1]\n",
    "    ks=[1]\n",
    "    independentperts = [[d_l,d_bx,d_g,d_by,d_n,d_k] for d_l in lambdas for d_bx in betaxs for d_g in gammas for d_by in betays for d_n in ns for d_k in ks]\n",
    "    append!(ipset,[repeat(independentperts,9)])\n",
    "end\n",
    "\n",
    "ns = [-1,-0.5,0.1,0.5,1.]\n",
    "paramsets = [[200.,5.,200.,1.,n,100.] for n in ns]"
   ]
  },
  {
   "cell_type": "code",
   "execution_count": 49,
   "metadata": {},
   "outputs": [],
   "source": [
    "folder = \"yfb_sims_lownoise_\"*Dates.format(now(),\"yyyy-udd_HHMM\")*\"/\"\n",
    "mkdir(folder)\n",
    "is = [10,10]\n",
    "statevector = copy(is)\n",
    "outcomes = [1 0 ; -1 0; 0 1 ; 0 -1]\n",
    "numsteps = Int(1e5)\n",
    "maxsteps = Int(1e8)\n",
    "fluxt = 0.02\n",
    "covt = 0.05\n",
    "tries = 150\n",
    "ntherm = Int(10e5)\n",
    "adder = 0\n",
    "for (a,ips) in enumerate(ipset)\n",
    "    pertsetcov = cov(ips)\n",
    "    open(folder*\"perturbationset_$(a)_covs.tsv\",\"w\") do io\n",
    "        writedlm(io,pertsetcov)\n",
    "    end\n",
    "    for (i,params) in enumerate(paramsets)\n",
    "        pertparams = copy(params)\n",
    "        open(folder*\"pertset_$(a)_paramset_$(i)_settings.tsv\", \"w\") do io\n",
    "            titles = [\"params\",\"outcomes\",\"initialstate\",\"numsteps\",\"maxsteps\",\"flux thres\",\"cov thres\",\"max tries\",\"thermalisation\"]\n",
    "            data = [params,outcomes,is,numsteps,maxsteps,fluxt,covt,tries,ntherm]\n",
    "            writedlm(io,reshape(titles,1,length(titles)))\n",
    "            writedlm(io,reshape(data,1,length(data)))\n",
    "        end;\n",
    "        open(folder*\"pertset_$(a)_paramset_$(i)_simresults.tsv\", \"w\") do io\n",
    "            titles = [\"sim #\",\"time\",\"steps\",\"flux thres\",\"cov thres\",\"<x>\",\"<y>\",\"Var(x)\",\"Var(y)\",\"cov(x,y)\",\"usedparams\",\"Fy\"]\n",
    "            writedlm(io, reshape(titles,1,length(titles)))\n",
    "        end;\n",
    "        for (j,perturbation) in enumerate(ips)\n",
    "            statevector .= is\n",
    "            pertparams .*= perturbation\n",
    "            rng = Random.Xoshiro()\n",
    "            calcstor,totalsteps,trynum,fluxcheck,cbvals = reach_balance_test(statevector,pertparams,outcomes,numsteps,maxsteps,rng,fluxt,covt,tries,ntherm)\n",
    "            open(folder*\"pertset_$(a)_paramset_$(i)_simresults.tsv\", \"a+\") do io\n",
    "                data = [j,calcstor.weightsum,totalsteps,fluxcheck,cbvals,calcstor.meanx,calcstor.meany,calcstor.VX/calcstor.weightsum,calcstor.VY/calcstor.weightsum,calcstor.CXY/calcstor.weightsum,pertparams,calcstor.meanF_y]\n",
    "                writedlm(io, reshape(data,1,length(data)))\n",
    "            end;\n",
    "            pertparams ./= perturbation\n",
    "        end\n",
    "    end\n",
    "end"
   ]
  },
  {
   "cell_type": "code",
   "execution_count": 5,
   "metadata": {},
   "outputs": [
    {
     "data": {
      "text/plain": [
       "4-element Vector{Float64}:\n",
       " -2.0\n",
       " -1.366666666666667\n",
       " -0.7333333333333334\n",
       " -0.1"
      ]
     },
     "metadata": {},
     "output_type": "display_data"
    }
   ],
   "source": []
  },
  {
   "cell_type": "code",
   "execution_count": null,
   "metadata": {},
   "outputs": [],
   "source": []
  }
 ],
 "metadata": {
  "kernelspec": {
   "display_name": "Julia 1.7.2",
   "language": "julia",
   "name": "julia-1.7"
  },
  "language_info": {
   "file_extension": ".jl",
   "mimetype": "application/julia",
   "name": "julia",
   "version": "1.7.2"
  },
  "orig_nbformat": 4
 },
 "nbformat": 4,
 "nbformat_minor": 2
}
