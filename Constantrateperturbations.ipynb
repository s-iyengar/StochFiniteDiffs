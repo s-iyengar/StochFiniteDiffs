{
 "cells": [
  {
   "cell_type": "code",
   "execution_count": 7,
   "metadata": {},
   "outputs": [
    {
     "ename": "LoadError",
     "evalue": "ArgumentError: Package Filesystem not found in current path:\n- Run `import Pkg; Pkg.add(\"Filesystem\")` to install the Filesystem package.\n",
     "output_type": "error",
     "traceback": [
      "ArgumentError: Package Filesystem not found in current path:\n- Run `import Pkg; Pkg.add(\"Filesystem\")` to install the Filesystem package.\n",
      "",
      "Stacktrace:",
      " [1] require(into::Module, mod::Symbol)",
      "   @ Base ./loading.jl:967",
      " [2] eval",
      "   @ ./boot.jl:373 [inlined]",
      " [3] include_string(mapexpr::typeof(REPL.softscope), mod::Module, code::String, filename::String)",
      "   @ Base ./loading.jl:1196"
     ]
    }
   ],
   "source": [
    "import Random\n",
    "using Distributions\n",
    "using Statistics\n",
    "using DelimitedFiles\n",
    "using Dates"
   ]
  },
  {
   "cell_type": "code",
   "execution_count": 8,
   "metadata": {},
   "outputs": [
    {
     "data": {
      "text/plain": [
       "tt_protein_fb_rates! (generic function with 1 method)"
      ]
     },
     "execution_count": 8,
     "metadata": {},
     "output_type": "execute_result"
    }
   ],
   "source": [
    "include(\"Storage.jl\")\n",
    "include(\"GillespieFunctions.jl\")\n",
    "include(\"Rates.jl\")"
   ]
  },
  {
   "cell_type": "code",
   "execution_count": 3,
   "metadata": {},
   "outputs": [
    {
     "data": {
      "text/plain": [
       "reach_balance_test (generic function with 1 method)"
      ]
     },
     "execution_count": 3,
     "metadata": {},
     "output_type": "execute_result"
    }
   ],
   "source": [
    "function data_collection(initialstate::Vector{Int64},params::Vector{Float64},outcomes,storage,numsteps::Int64,maxsteps::Int64,rng::Random.AbstractRNG,ntherm)\n",
    "    endstate,steps,weightsum = direct_gillespie!(initialstate,params,outcomes,transcription_translation_rates!,storage,updatestorage!,rng,numsteps,maxsteps,ntherm)\n",
    "    return storage,endstate,steps,weightsum\n",
    "end\n",
    "\n",
    "function reach_balance_test(initialstate,params,outcomes,numsteps,maxsteps,rng,flux_thres,cov_thres,tries,ntherm)\n",
    "    statevector = initialstate\n",
    "    trynum = 0\n",
    "    thresholdmet = false\n",
    "    totalsteps = 0\n",
    "    calcstor = BalanceEqData_nofb()\n",
    "    fluxcheck = [0,0]\n",
    "    cbvals = [0,0]\n",
    "    \n",
    "    while (trynum < tries) && (!thresholdmet)\n",
    "        calcstor,statevector,steps,lastsimtime = data_collection(statevector,params,outcomes,calcstor,numsteps,maxsteps,rng,ntherm)\n",
    "        weightsum = calcstor.weightsum\n",
    "        fluxcheck = [relative_error(calcstor.meanRpX,calcstor.meanRmX),relative_error(calcstor.meanRpY,calcstor.meanRmY)]\n",
    "        if (fluxcheck[1] < flux_thres) &&  (fluxcheck[2] < flux_thres)\n",
    "            cbxx_comp = cov_balance_comp(calcstor.CXRmX/weightsum,calcstor.CXRmX/weightsum,\n",
    "            calcstor.meanRpX+calcstor.meanRmX,calcstor.CXRpX/weightsum,calcstor.CXRpX/weightsum) \n",
    "            cbyy_comp = cov_balance_comp(calcstor.CYRmY/weightsum,calcstor.CYRmY/weightsum,\n",
    "                            calcstor.meanRpY+calcstor.meanRmY,calcstor.CYRpY/weightsum,calcstor.CYRpY/weightsum) \n",
    "            cbyx_comp = cov_balance_comp(calcstor.CYRmX/weightsum,calcstor.CXRmY/weightsum,\n",
    "                            0,calcstor.CYRpX/weightsum,calcstor.CXRpY/weightsum) \n",
    "            cbvals = [cbxx_comp,cbyy_comp,cbyx_comp]\n",
    "            thresholdmet = all(cbvals .< cov_thres)               \n",
    "        end\n",
    "        trynum += 1\n",
    "        totalsteps += steps\n",
    "        if maxsteps>100000\n",
    "            maxsteps = maxsteps ÷ 10\n",
    "        end\n",
    "    end\n",
    "return calcstor,totalsteps,trynum,fluxcheck,cbvals\n",
    "end"
   ]
  },
  {
   "attachments": {},
   "cell_type": "markdown",
   "metadata": {},
   "source": [
    "Run some number of simulations, storing the used parameters+simulation constraints. Save each simulation's output into a big CSV. Finally, go through the results and calculate the perturbation data"
   ]
  },
  {
   "cell_type": "code",
   "execution_count": 4,
   "metadata": {},
   "outputs": [
    {
     "data": {
      "text/plain": [
       "(BalanceEqData_nofb(1960.427528278479, 49.9455226811168, 499.62484949817537, 97464.26173543432, 9.018199935329095e6, 807821.7991980104, 50.0, 49.94527825282817, 2497.263912641121, 2498.125414750803, 97446.75842761256, 0.0, 808001.5696178481, 0.0, 4.038329870038797e6, 4.87233792137949e6, 4.508635087504509e7, 4.040007848089755e7), 10000001, 1, [0.0010956340436192086, 0.0003448594312339664], [0.005346293554985924, 0.004663872274317854, 0.005366220211444509])"
      ]
     },
     "execution_count": 4,
     "metadata": {},
     "output_type": "execute_result"
    }
   ],
   "source": [
    "is = [10,10]\n",
    "params = [50.,1.,50.,5.]\n",
    "outcomes = [1 0 ; -1 0; 0 1 ; 0 -1]\n",
    "numsteps = Int(10e6)\n",
    "maxsteps = Int(10e6)\n",
    "rng = Random.MersenneTwister()\n",
    "fluxt = 0.01\n",
    "covt = 0.01\n",
    "tries = 20\n",
    "ntherm = Int(10e3)\n",
    "reach_balance_test(is,params,outcomes,numsteps,maxsteps,rng,fluxt,covt,tries,ntherm)"
   ]
  },
  {
   "cell_type": "code",
   "execution_count": 15,
   "metadata": {},
   "outputs": [
    {
     "name": "stdout",
     "output_type": "stream",
     "text": [
      "Paramset ([2.0, 1.0, 50.0, 10.0], [50.0, 10.0, 5.0, 1.0], [40.0, 1.0, 2.0, 3.0], [10.0, 1.0, 20.0, 1.0], [40.0, 5.0, 40.0, 1.0], [10.0, 1.0, 15.0, 15.0], [25.0, 1.0, 2.0, 1.0], [10.0, 1.0, 15.0, 5.0])\n",
      "Paramset ([2.0, 1.0, 50.0, 10.0], [50.0, 10.0, 5.0, 1.0], [40.0, 1.0, 2.0, 3.0], [10.0, 1.0, 20.0, 1.0], [40.0, 5.0, 40.0, 1.0], [10.0, 1.0, 15.0, 15.0], [25.0, 1.0, 2.0, 1.0], [10.0, 1.0, 15.0, 5.0])\n",
      "Paramset ([2.0, 1.0, 50.0, 10.0], [50.0, 10.0, 5.0, 1.0], [40.0, 1.0, 2.0, 3.0], [10.0, 1.0, 20.0, 1.0], [40.0, 5.0, 40.0, 1.0], [10.0, 1.0, 15.0, 15.0], [25.0, 1.0, 2.0, 1.0], [10.0, 1.0, 15.0, 5.0])\n",
      "Paramset ([2.0, 1.0, 50.0, 10.0], [50.0, 10.0, 5.0, 1.0], [40.0, 1.0, 2.0, 3.0], [10.0, 1.0, 20.0, 1.0], [40.0, 5.0, 40.0, 1.0], [10.0, 1.0, 15.0, 15.0], [25.0, 1.0, 2.0, 1.0], [10.0, 1.0, 15.0, 5.0])\n",
      "Paramset ([2.0, 1.0, 50.0, 10.0], [50.0, 10.0, 5.0, 1.0], [40.0, 1.0, 2.0, 3.0], [10.0, 1.0, 20.0, 1.0], [40.0, 5.0, 40.0, 1.0], [10.0, 1.0, 15.0, 15.0], [25.0, 1.0, 2.0, 1.0], [10.0, 1.0, 15.0, 5.0])\n",
      "Paramset ([2.0, 1.0, 50.0, 10.0], [50.0, 10.0, 5.0, 1.0], [40.0, 1.0, 2.0, 3.0], [10.0, 1.0, 20.0, 1.0], [40.0, 5.0, 40.0, 1.0], [10.0, 1.0, 15.0, 15.0], [25.0, 1.0, 2.0, 1.0], [10.0, 1.0, 15.0, 5.0])\n",
      "Paramset ([2.0, 1.0, 50.0, 10.0], [50.0, 10.0, 5.0, 1.0], [40.0, 1.0, 2.0, 3.0], [10.0, 1.0, 20.0, 1.0], [40.0, 5.0, 40.0, 1.0], [10.0, 1.0, 15.0, 15.0], [25.0, 1.0, 2.0, 1.0], [10.0, 1.0, 15.0, 5.0])\n",
      "Paramset ([2.0, 1.0, 50.0, 10.0], [50.0, 10.0, 5.0, 1.0], [40.0, 1.0, 2.0, 3.0], [10.0, 1.0, 20.0, 1.0], [40.0, 5.0, 40.0, 1.0], [10.0, 1.0, 15.0, 15.0], [25.0, 1.0, 2.0, 1.0], [10.0, 1.0, 15.0, 5.0])\n"
     ]
    }
   ],
   "source": [
    "folder = \"no_fb_sims_largerange3_\"*Dates.format(today(),\"yyyy-mm-dd\")*\"/\"\n",
    "mkdir(folder)\n",
    "nsims = 30\n",
    "is = [10,10]\n",
    "outcomes = [1 0 ; -1 0; 0 1 ; 0 -1]\n",
    "numsteps = Int(10e6)\n",
    "maxsteps = Int(10e8)\n",
    "fluxt = 0.02\n",
    "covt = 0.05\n",
    "tries = 40\n",
    "ntherm = Int(10e3)\n",
    "\n",
    "paramsets = (\n",
    "[50.,10.,5.,1.],\n",
    "[40.,1.,2.,3.],\n",
    "[10.,1.,20.,1.],\n",
    "[40.,5.,40.,1.],\n",
    "[10.,1.,15.,15.],\n",
    "[25.,1.,2.,1.,],\n",
    "[10.,1.,15.,5.],\n",
    "[10.,0.1,5.,1.])\n",
    "for (k,params) in enumerate(paramsets)\n",
    "    i = k\n",
    "    println(\"Paramset $(paramsets)\")\n",
    "    pertparams = copy(params)\n",
    "    open(folder*\"paramset_$(i)_settings.tsv\", \"w\") do io\n",
    "        titles = [\"params\",\"outcomes\",\"initialstate\",\"numsteps\",\"maxsteps\",\"flux thres\",\"cov thres\",\"max tries\",\"thermalisation\"]\n",
    "        data = [params,outcomes,is,numsteps,maxsteps,fluxt,covt,tries,ntherm]\n",
    "        writedlm(io,reshape(titles,1,length(titles)))\n",
    "        writedlm(io,reshape(data,1,length(data)))\n",
    "    end;\n",
    "    open(folder*\"paramset_$(i)_simresults.tsv\", \"w\") do io\n",
    "        titles = [\"sim #\",\"Perturbed param\",\"Pert Size\",\"time\",\"steps\",\"flux thres\",\"cov thres\",\"<x>\",\"<y>\",\"Var(x)\",\"Var(y)\",\"cov(x,y)\"]\n",
    "        writedlm(io, reshape(titles,1,length(titles)))\n",
    "    end;\n",
    "    for j = 1:nsims\n",
    "        pertrng = Random.Xoshiro()\n",
    "        statevector = copy(is)\n",
    "        pertsize = rand(pertrng,Uniform(0.8,1.2))\n",
    "        pertparams[j%4+1] *= pertsize\n",
    "        rng = Random.Xoshiro()\n",
    "        calcstor,totalsteps,trynum,fluxcheck,cbvals = reach_balance_test(statevector,pertparams,outcomes,numsteps,maxsteps,rng,fluxt,covt,tries,ntherm)\n",
    "        open(folder*\"paramset_$(i)_simresults.tsv\", \"a+\") do io\n",
    "            data = [j,j%4+1,pertsize,calcstor.weightsum,totalsteps,fluxcheck,cbvals,calcstor.meanx,calcstor.meany,calcstor.VX/calcstor.weightsum,calcstor.VY/calcstor.weightsum,calcstor.CXY/calcstor.weightsum]\n",
    "            writedlm(io, reshape(data,1,length(data)))\n",
    "        end;\n",
    "        pertparams[j%4+1] /= pertsize\n",
    "    end\n",
    "end\n"
   ]
  },
  {
   "cell_type": "code",
   "execution_count": 85,
   "metadata": {},
   "outputs": [
    {
     "data": {
      "text/plain": [
       "1×3 adjoint(::Vector{Int64}) with eltype Int64:\n",
       " 1  2  3"
      ]
     },
     "execution_count": 85,
     "metadata": {},
     "output_type": "execute_result"
    }
   ],
   "source": []
  },
  {
   "cell_type": "code",
   "execution_count": null,
   "metadata": {},
   "outputs": [],
   "source": []
  }
 ],
 "metadata": {
  "kernelspec": {
   "display_name": "Julia 1.7.2",
   "language": "julia",
   "name": "julia-1.7"
  },
  "language_info": {
   "file_extension": ".jl",
   "mimetype": "application/julia",
   "name": "julia",
   "version": "1.7.2"
  },
  "orig_nbformat": 4
 },
 "nbformat": 4,
 "nbformat_minor": 2
}
