{
 "cells": [
  {
   "cell_type": "code",
   "execution_count": 1,
   "metadata": {},
   "outputs": [],
   "source": [
    "import Random\n",
    "using Distributions\n",
    "using Statistics\n",
    "using DelimitedFiles\n",
    "using Dates"
   ]
  },
  {
   "cell_type": "code",
   "execution_count": 2,
   "metadata": {},
   "outputs": [
    {
     "data": {
      "text/plain": [
       "tt_protein_fb_rates! (generic function with 1 method)"
      ]
     },
     "execution_count": 2,
     "metadata": {},
     "output_type": "execute_result"
    }
   ],
   "source": [
    "include(\"Storage.jl\")\n",
    "include(\"GillespieFunctions.jl\")\n",
    "include(\"Rates.jl\")"
   ]
  },
  {
   "cell_type": "code",
   "execution_count": 3,
   "metadata": {},
   "outputs": [
    {
     "data": {
      "text/plain": [
       "balance_test (generic function with 1 method)"
      ]
     },
     "execution_count": 3,
     "metadata": {},
     "output_type": "execute_result"
    }
   ],
   "source": [
    "function balance_test(initialstate::Vector{Int64},params::Vector{Float64},numsteps::Int64,maxsteps::Int64,rng::Random.AbstractRNG)\n",
    "    statevector = initialstate\n",
    "    outcomes = [1 0 ; -1 0; 0 1 ; 0 -1]\n",
    "    calcstor_main = Balance_with_Derivative()\n",
    "    calcstor = calcstor_main.balancedata\n",
    "    endstate,steps,weightsum = direct_gillespie!(initialstate,params,outcomes,tt_protein_fb_rates!,calcstor,updatestorage!,rng,numsteps,maxsteps,50000)\n",
    "\n",
    "    println(\"Flux Balance on x\")\n",
    "    println(relative_error(calcstor.meanRpX,calcstor.meanRmX))\n",
    "\n",
    "    println(\"Flux Balance on y\")\n",
    "    println(relative_error(calcstor.meanRpY,calcstor.meanRmY))\n",
    "\n",
    "    println(\"Cov Balance on x,x\")\n",
    "    println(cov_balance_comp(calcstor.CXRmX/weightsum,calcstor.CXRmX/weightsum,\n",
    "                            calcstor.meanRpX+calcstor.meanRmX,calcstor.CXRpX/weightsum,calcstor.CXRpX/weightsum))\n",
    "    println(\"Cov Balance on y,y\")\n",
    "    println(cov_balance_comp(calcstor.CYRmY/weightsum,calcstor.CYRmY/weightsum,\n",
    "                            calcstor.meanRpY+calcstor.meanRmY,calcstor.CYRpY/weightsum,calcstor.CYRpY/weightsum))\n",
    "    println(\"Cov Balance on y,x\")\n",
    "    println(cov_balance_comp(calcstor.CYRmX/weightsum,calcstor.CXRmY/weightsum,\n",
    "                            0,calcstor.CYRpX/weightsum,calcstor.CXRpY/weightsum))\n",
    "    println(steps)\n",
    "    println(endstate)\n",
    "    println(calcstor.meanx)\n",
    "    println(calcstor.meany)\n",
    "\n",
    "\n",
    "    return calcstor\n",
    "end"
   ]
  },
  {
   "cell_type": "code",
   "execution_count": 4,
   "metadata": {},
   "outputs": [
    {
     "name": "stdout",
     "output_type": "stream",
     "text": [
      "Flux Balance on x\n",
      "0.19851121789022305\n",
      "Flux Balance on y\n",
      "0.08717366424605855\n",
      "Cov Balance on x,x\n",
      "0.21667545038211228\n",
      "Cov Balance on y,y\n",
      "0.029608392490179197\n",
      "Cov Balance on y,x\n",
      "0.5740614319211529\n",
      "50912\n",
      "[6, 20]\n",
      "5.6573828109019235\n",
      "24.696150661045547\n",
      "  0.167646 seconds (385.49 k allocations: 21.151 MiB, 21.91% gc time, 97.84% compilation time)\n"
     ]
    },
    {
     "data": {
      "text/plain": [
       "BalanceEqData(5.6573828109019235, 24.696150661045547, 103.73865627853179, 817.5481799282336, 109.1603433765791, 6.758551158574645, 5.639122152291519, 22.556488609166077, 24.710602362864268, 102.82912707449297, -8.848642241710285, 112.24973641579979, -70.44656944018918, 104.3046698768114, 411.3165082979719, 813.9320054198462, 448.99894566319915, -0.09223778506934445)"
      ]
     },
     "execution_count": 4,
     "metadata": {},
     "output_type": "execute_result"
    }
   ],
   "source": [
    "@time calcs = balance_test([10,50],[10.,1.,4.,1.,-1.,50.],10^2,10^10,Random.MersenneTwister())"
   ]
  },
  {
   "cell_type": "code",
   "execution_count": 5,
   "metadata": {},
   "outputs": [
    {
     "data": {
      "text/plain": [
       "data_collection (generic function with 1 method)"
      ]
     },
     "execution_count": 5,
     "metadata": {},
     "output_type": "execute_result"
    }
   ],
   "source": [
    "function data_collection(initialstate::Vector{Int64},params::Vector{Float64},numsteps::Int64,maxsteps::Int64,rng::Random.AbstractRNG)\n",
    "    outcomes = [1 0 ; -1 0; 0 1 ; 0 -1]\n",
    "    datastor = BalanceEqData()\n",
    "    endstate,steps,weightsum = direct_gillespie!(initialstate,params,outcomes,tt_protein_fb_rates!,datastor,updatestorage!,rng,numsteps,maxsteps,50000)\n",
    "    return datastor.meanx,datastor.meany,datastor.meanF_y,datastor\n",
    "end\n"
   ]
  },
  {
   "cell_type": "code",
   "execution_count": 6,
   "metadata": {},
   "outputs": [
    {
     "data": {
      "text/plain": [
       "(0.8265514523557882, 6.799167741221834, -0.9532693798944024, BalanceEqData(0.8265514523557882, 6.799167741221834, 1.9313980746099814e6, 2.3438866236714877e7, 203533.893713568, 3.5146613880701634, 3.5151885156905727, 7.030377031381145, 7.027355157067339, 7.460122789686122e6, 873636.1864150699, 6.423421321568257e6, -1.6627060288550772e7, -794158.0539330422, 1.4920245579372244e7, 2.268941703481551e7, 1.2846842643136514e7, -0.9532693798944024))"
      ]
     },
     "execution_count": 6,
     "metadata": {},
     "output_type": "execute_result"
    }
   ],
   "source": [
    "x,y,f_y,d = data_collection([10,50],[10.,5.,10.,1.,-3.,5.],10^7,10^10,Random.MersenneTwister())"
   ]
  },
  {
   "cell_type": "code",
   "execution_count": 14,
   "metadata": {},
   "outputs": [
    {
     "data": {
      "text/plain": [
       "pert_dot (generic function with 1 method)"
      ]
     },
     "execution_count": 14,
     "metadata": {},
     "output_type": "execute_result"
    }
   ],
   "source": [
    "function CVratio(meanxs,meanys)\n",
    "    return (std(meanys,corrected=false)/mean(meanys))/(std(meanxs,corrected=false)/mean(meanxs))\n",
    "end\n",
    "function pert_dot(initialparameters,numsamples,initialstate,numsteps,maxsteps)\n",
    "    mean_xs = Vector{Float64}(undef,0)\n",
    "    mean_ys = Vector{Float64}(undef,0)\n",
    "    mean_fys = Vector{Float64}(undef,0)\n",
    "    params = copy(initialparameters)\n",
    "    outcomes = [1 0 ; -1 0; 0 1 ; 0 -1]\n",
    "    statevector = copy(initialstate)\n",
    "    \n",
    "    for i in 1:numsamples\n",
    "        statevector .= initialstate\n",
    "        rng = Random.MersenneTwister()\n",
    "        params[i%4+1] *= rand(Uniform(0.9, 1.1))\n",
    "        datastor = BalanceEqData()\n",
    "        endstate,steps,weightsum = direct_gillespie!(statevector,params,outcomes,tt_protein_fb_rates!,datastor,updatestorage!,rng,numsteps,maxsteps,50000)\n",
    "        append!(mean_xs,datastor.meanx)\n",
    "        append!(mean_ys,datastor.meany)\n",
    "        append!(mean_fys,datastor.meanF_y)\n",
    "        params[i%4+1] = initialparameters[i%4+1]\n",
    "    end\n",
    "\n",
    "    return CVratio(mean_xs,mean_ys),cor(mean_xs,mean_ys),mean(mean_fys),var(mean_xs),var(mean_ys),var(mean_fys)\n",
    "end"
   ]
  },
  {
   "cell_type": "markdown",
   "metadata": {},
   "source": [
    "C,rho,avgFy,varx,vary,varFy = pert_dot([40.,1.,20.,5.,0.,50.],50,[10,10],10^6,10^8)\n",
    "println(join((1/C,C,rho,avgFy),' '))"
   ]
  },
  {
   "cell_type": "code",
   "execution_count": 15,
   "metadata": {},
   "outputs": [
    {
     "name": "stdout",
     "output_type": "stream",
     "text": [
      "All rates trivially zero at state [0, 0] after 6110224 steps\n",
      "All rates trivially zero at state [0, 0] after 20925648 steps\n",
      "All rates trivially zero at state [0, 0] after 39471296 steps\n",
      "All rates trivially zero at state [0, 0] after 19463370 steps\n",
      "All rates trivially zero at state [0, 0] after 10090356 steps\n",
      "All rates trivially zero at state [0, 0] after 3547536 steps\n",
      "All rates trivially zero at state [0, 0] after 34938198 steps\n",
      "All rates trivially zero at state [0, 0] after 39964080 steps\n",
      "All rates trivially zero at state [0, 0] after 19610632 steps\n",
      "All rates trivially zero at state [0, 0] after 21803022 steps\n",
      "All rates trivially zero at state [0, 0] after 31131902 steps\n",
      "All rates trivially zero at state [0, 0] after 30988322 steps\n",
      "All rates trivially zero at state [0, 0] after 29407652 steps\n",
      "All rates trivially zero at state [0, 0] after 3677096 steps\n",
      "All rates trivially zero at state [0, 0] after 11482436 steps\n",
      "All rates trivially zero at state [0, 0] after 30393296 steps\n",
      "All rates trivially zero at state [0, 0] after 28142810 steps\n",
      "All rates trivially zero at state [0, 0] after 27334194 steps\n",
      "All rates trivially zero at state [0, 0] after 29793068 steps\n",
      "All rates trivially zero at state [0, 0] after 34666484 steps\n",
      "All rates trivially zero at state [0, 0] after 19130810 steps\n",
      "All rates trivially zero at state [0, 0] after 27946068 steps\n"
     ]
    }
   ],
   "source": [
    "filename = \"pertresults/\"*Dates.format(now(),\"yyyy-udd_HHMM\")*\"_res.csv\"\n",
    "ns = [-2,-1,0,1,2]\n",
    "res = Array{Float64,2}(undef,(length(ns),6))\n",
    "for i in 1:length(ns)\n",
    "    params = [40.,1.,20.,5.,ns[i],50.]\n",
    "    res[i,:] .= pert_dot(params,50,[40,20],10^6,10^8)\n",
    "end\n",
    "writedlm(filename,  res, ',')"
   ]
  },
  {
   "cell_type": "code",
   "execution_count": 13,
   "metadata": {},
   "outputs": [
    {
     "data": {
      "text/plain": [
       "1.5151515151515151"
      ]
     },
     "execution_count": 13,
     "metadata": {},
     "output_type": "execute_result"
    }
   ],
   "source": []
  },
  {
   "cell_type": "code",
   "execution_count": 18,
   "metadata": {},
   "outputs": [],
   "source": [
    "filename = \"pertresults/\"*Dates.format(now(),\"yyyy-udd_HHMM\")*\"_res.csv\"\n",
    "ns = repeat([-2,-1,0,1,2],3)\n",
    "res = Array{Float64,2}(undef,(length(ns),6))\n",
    "open(filename,'w') do io\n",
    "for i in 1:length(ns)\n",
    "    params = [rand(Uniform(30, 50)),\n",
    "                rand(Uniform(0.5, 1.5)),\n",
    "                rand(Uniform(20, 30)),\n",
    "                rand(Uniform(0.5,1.5)),ns[i],rand(Uniform(20,70))]\n",
    "    res[i,:] .= pert_dot(params,50,[40,20],10^6,10^8)\n",
    "end\n",
    "writedlm(filename,  res, ',')"
   ]
  },
  {
   "cell_type": "code",
   "execution_count": 20,
   "metadata": {},
   "outputs": [],
   "source": [
    "filename = \"pertresults/\"*Dates.format(now(),\"yyyy-udd_HHMM\")*\"_res.csv\"\n",
    "ns = repeat([-3,-4,0,3,4],2)\n",
    "res = Array{Float64,2}(undef,(length(ns),6))\n",
    "for i in 1:length(ns)\n",
    "    params = [rand(Uniform(30, 35)),\n",
    "                rand(Uniform(0.5, 1.5)),\n",
    "                rand(Uniform(20, 30)),\n",
    "                rand(Uniform(0.5,1.5)),ns[i],rand(Uniform(30,50))]\n",
    "    res[i,:] .= pert_dot(params,50,[40,20],10^6,10^8)\n",
    "end\n",
    "writedlm(filename,  res, ',')"
   ]
  },
  {
   "cell_type": "code",
   "execution_count": null,
   "metadata": {},
   "outputs": [],
   "source": []
  }
 ],
 "metadata": {
  "kernelspec": {
   "display_name": "Julia 1.7.2",
   "language": "julia",
   "name": "julia-1.7"
  },
  "language_info": {
   "file_extension": ".jl",
   "mimetype": "application/julia",
   "name": "julia",
   "version": "1.7.2"
  },
  "orig_nbformat": 4,
  "vscode": {
   "interpreter": {
    "hash": "31f2aee4e71d21fbe5cf8b01ff0e069b9275f58929596ceb00d14d90e3e16cd6"
   }
  }
 },
 "nbformat": 4,
 "nbformat_minor": 2
}
