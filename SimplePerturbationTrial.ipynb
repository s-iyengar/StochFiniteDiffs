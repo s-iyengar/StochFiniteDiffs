{
 "cells": [
  {
   "cell_type": "code",
   "execution_count": 37,
   "metadata": {},
   "outputs": [],
   "source": [
    "import Random\n",
    "using Distributions\n",
    "using Statistics"
   ]
  },
  {
   "cell_type": "code",
   "execution_count": 3,
   "metadata": {},
   "outputs": [
    {
     "data": {
      "text/plain": [
       "tt_protein_fb_rates! (generic function with 1 method)"
      ]
     },
     "execution_count": 3,
     "metadata": {},
     "output_type": "execute_result"
    }
   ],
   "source": [
    "include(\"Storage.jl\")\n",
    "include(\"GillespieFunctions.jl\")\n",
    "include(\"Rates.jl\")"
   ]
  },
  {
   "cell_type": "code",
   "execution_count": 4,
   "metadata": {},
   "outputs": [
    {
     "data": {
      "text/plain": [
       "balance_test (generic function with 1 method)"
      ]
     },
     "execution_count": 4,
     "metadata": {},
     "output_type": "execute_result"
    }
   ],
   "source": [
    "function balance_test(initialstate::Vector{Int64},params::Vector{Float64},numsteps::Int64,maxsteps::Int64,rng::Random.AbstractRNG)\n",
    "    statevector = initialstate\n",
    "    outcomes = [1 0 ; -1 0; 0 1 ; 0 -1]\n",
    "    calcstor_main = Balance_with_Derivative()\n",
    "    calcstor = calcstor_main.balancedata\n",
    "    endstate,steps,weightsum = direct_gillespie!(initialstate,params,outcomes,tt_protein_fb_rates!,calcstor,updatestorage!,rng,numsteps,maxsteps,50000)\n",
    "\n",
    "    println(\"Flux Balance on x\")\n",
    "    println(relative_error(calcstor.meanRpX,calcstor.meanRmX))\n",
    "\n",
    "    println(\"Flux Balance on y\")\n",
    "    println(relative_error(calcstor.meanRpY,calcstor.meanRmY))\n",
    "\n",
    "    println(\"Cov Balance on x,x\")\n",
    "    println(cov_balance_comp(calcstor.CXRmX/weightsum,calcstor.CXRmX/weightsum,\n",
    "                            calcstor.meanRpX+calcstor.meanRmX,calcstor.CXRpX/weightsum,calcstor.CXRpX/weightsum))\n",
    "    println(\"Cov Balance on y,y\")\n",
    "    println(cov_balance_comp(calcstor.CYRmY/weightsum,calcstor.CYRmY/weightsum,\n",
    "                            calcstor.meanRpY+calcstor.meanRmY,calcstor.CYRpY/weightsum,calcstor.CYRpY/weightsum))\n",
    "    println(\"Cov Balance on y,x\")\n",
    "    println(cov_balance_comp(calcstor.CYRmX/weightsum,calcstor.CXRmY/weightsum,\n",
    "                            0,calcstor.CYRpX/weightsum,calcstor.CXRpY/weightsum))\n",
    "    println(steps)\n",
    "    println(endstate)\n",
    "    println(calcstor.meanx)\n",
    "    println(calcstor.meany)\n",
    "\n",
    "\n",
    "    return calcstor\n",
    "end"
   ]
  },
  {
   "cell_type": "code",
   "execution_count": 5,
   "metadata": {},
   "outputs": [
    {
     "name": "stdout",
     "output_type": "stream",
     "text": [
      "Flux Balance on x\n",
      "0.03699327873888824\n",
      "Flux Balance on y\n",
      "0.05206147913303602\n",
      "Cov Balance on x,x\n",
      "0.008525856319191604\n",
      "Cov Balance on y,y\n",
      "0.016751712367545402\n",
      "Cov Balance on y,x\n",
      "0.4303883762244462\n",
      "50914\n",
      "[6, 20]\n",
      "6.696495802213428\n",
      "28.21756412759429\n",
      "  0.128658 seconds (387.05 k allocations: 21.241 MiB, 97.19% compilation time)\n"
     ]
    },
    {
     "data": {
      "text/plain": [
       "BalanceEqData(6.696495802213428, 28.21756412759429, 77.84016064639447, 742.3076660279346, 86.89127480438832, 6.447484376996817, 6.695160308490341, 26.780641233961365, 28.25145370131005, 76.80809408116403, -6.1247820090086185, 92.82591976522471, -57.46944903622024, 81.7860467747249, 307.2323763246561, 733.5989802623286, 371.30367906089884, -0.08395932510593487)"
      ]
     },
     "execution_count": 5,
     "metadata": {},
     "output_type": "execute_result"
    }
   ],
   "source": [
    "@time calcs = balance_test([10,50],[10.,1.,4.,1.,-1.,50.],10^2,10^10,Random.MersenneTwister())"
   ]
  },
  {
   "cell_type": "code",
   "execution_count": 6,
   "metadata": {},
   "outputs": [
    {
     "data": {
      "text/plain": [
       "data_collection (generic function with 1 method)"
      ]
     },
     "execution_count": 6,
     "metadata": {},
     "output_type": "execute_result"
    }
   ],
   "source": [
    "function data_collection(initialstate::Vector{Int64},params::Vector{Float64},numsteps::Int64,maxsteps::Int64,rng::Random.AbstractRNG)\n",
    "    outcomes = [1 0 ; -1 0; 0 1 ; 0 -1]\n",
    "    datastor = BalanceEqData()\n",
    "    endstate,steps,weightsum = direct_gillespie!(initialstate,params,outcomes,tt_protein_fb_rates!,datastor,updatestorage!,rng,numsteps,maxsteps,50000)\n",
    "    return datastor.meanx,datastor.meany,datastor.meanF_y,datastor\n",
    "end\n"
   ]
  },
  {
   "cell_type": "code",
   "execution_count": 11,
   "metadata": {},
   "outputs": [
    {
     "data": {
      "text/plain": [
       "(0.8262001436856997, 6.7979795915029895, -0.9533316759193812, BalanceEqData(0.8262001436856997, 6.7979795915029895, 1.9308884332341724e6, 2.3421685270311877e7, 202521.91992837333, 3.515202800850065, 3.5132929166229556, 7.026585833245911, 7.026189553713489, 7.456448923047642e6, 873305.0140694319, 6.415969381453213e6, -1.6630788405519536e7, -795153.0935573414, 1.4912897846095284e7, 2.2672290708936676e7, 1.2831938762906427e7, -0.9533316759193812))"
      ]
     },
     "execution_count": 11,
     "metadata": {},
     "output_type": "execute_result"
    }
   ],
   "source": [
    "x,y,f_y,d = data_collection([10,50],[10.,5.,10.,1.,-3.,5.],10^7,10^10,Random.MersenneTwister())"
   ]
  },
  {
   "cell_type": "code",
   "execution_count": 126,
   "metadata": {},
   "outputs": [
    {
     "data": {
      "text/plain": [
       "pert_dot (generic function with 1 method)"
      ]
     },
     "execution_count": 126,
     "metadata": {},
     "output_type": "execute_result"
    }
   ],
   "source": [
    "function CVratio(meanxs,meanys)\n",
    "    return (std(meanys,corrected=false)/mean(meanys))/(std(meanxs,corrected=false)/mean(meanxs))\n",
    "end\n",
    "function pert_dot(initialparameters,numsamples,initialstate,numsteps,maxsteps)\n",
    "    mean_xs = Vector{Float64}(undef,0)\n",
    "    mean_ys = Vector{Float64}(undef,0)\n",
    "    mean_fys = Vector{Float64}(undef,0)\n",
    "    params = copy(initialparameters)\n",
    "    outcomes = [1 0 ; -1 0; 0 1 ; 0 -1]\n",
    "    \n",
    "    for i in 1:numsamples\n",
    "        rng = Random.MersenneTwister()\n",
    "        params[i%4+1] *= rand(Uniform(0.9, 1.1))\n",
    "        datastor = BalanceEqData()\n",
    "        endstate,steps,weightsum = direct_gillespie!(initialstate,params,outcomes,tt_protein_fb_rates!,datastor,updatestorage!,rng,numsteps,maxsteps)\n",
    "        append!(mean_xs,datastor.meanx)\n",
    "        append!(mean_ys,datastor.meany)\n",
    "        append!(mean_fys,datastor.meanF_y)\n",
    "        println(params)\n",
    "        params[i%4+1] = initialparameters[i%4+1]\n",
    "        println(datastor.meanx)\n",
    "        println(datastor.meany)\n",
    "    end\n",
    "\n",
    "    mean_dxs = mean_xs .- mean(mean_xs)\n",
    "    mean_dys = mean_ys .- mean(mean_ys)\n",
    "\n",
    "    return CVratio(mean_xs,mean_ys),cor(mean_xs,mean_ys),mean(mean_fys)\n",
    "end"
   ]
  },
  {
   "cell_type": "code",
   "execution_count": 130,
   "metadata": {},
   "outputs": [
    {
     "name": "stdout",
     "output_type": "stream",
     "text": [
      "[10.0, 1.064585742623212, 10.0, 1.0, 0.0, 10.0]\n",
      "4.7021230554975375\n",
      "46.90280078199826\n",
      "[10.0, 1.0, 9.304353960657691, 1.0, 0.0, 10.0]\n",
      "5.016362355219791\n",
      "46.55825335794532\n",
      "[10.0, 1.0, 10.0, 1.0616641408374194, 0.0, 10.0]\n",
      "5.012300413780164\n",
      "47.11459623533006\n",
      "[9.072912565877926, 1.0, 10.0, 1.0, 0.0, 10.0]\n",
      "4.538411342387438\n",
      "45.29860643454072\n",
      "[10.0, 0.9897202364733025, 10.0, 1.0, 0.0, 10.0]\n",
      "5.037650936742899\n",
      "50.22915707271101\n",
      "[10.0, 1.0, 10.608393284138577, 1.0, 0.0, 10.0]\n",
      "5.010051833832056\n",
      "53.025746708557335\n",
      "[10.0, 1.0, 10.0, 1.0200628842534203, 0.0, 10.0]\n",
      "5.013870454335425\n",
      "49.01432877498337\n",
      "[9.40958413232023, 1.0, 10.0, 1.0, 0.0, 10.0]\n",
      "4.71854581879848\n",
      "47.047377163633364\n",
      "[10.0, 0.9030028798273947, 10.0, 1.0, 0.0, 10.0]\n",
      "5.531644219777885\n",
      "55.16874312492964\n",
      "[10.0, 1.0, 10.463383779104028, 1.0, 0.0, 10.0]\n",
      "5.015916792454711\n",
      "52.309447682764\n",
      "[10.0, 1.0, 10.0, 0.9335111637854254, 0.0, 10.0]\n",
      "5.0120691817234375\n",
      "53.607798214251375\n",
      "[9.573974334328422, 1.0, 10.0, 1.0, 0.0, 10.0]\n",
      "4.795176091897978\n",
      "47.83873509026345\n",
      "[10.0, 0.9957680665412798, 10.0, 1.0, 0.0, 10.0]\n",
      "5.014551849715891\n",
      "50.038001320235594\n",
      "[10.0, 1.0, 9.925195991220985, 1.0, 0.0, 10.0]\n",
      "5.007898713717443\n",
      "49.610625642582896\n",
      "[10.0, 1.0, 10.0, 1.0698277666886546, 0.0, 10.0]\n",
      "5.013698794778233\n",
      "46.75754261015156\n",
      "[10.599044590200094, 1.0, 10.0, 1.0, 0.0, 10.0]\n",
      "5.30506754703827\n",
      "52.92486247704323\n",
      "[10.0, 1.0367793542092363, 10.0, 1.0, 0.0, 10.0]\n",
      "4.812210706752413\n",
      "48.00641302660497\n",
      "[10.0, 1.0, 10.768922036483824, 1.0, 0.0, 10.0]\n",
      "5.010694048274617\n",
      "53.85444370220191\n",
      "[10.0, 1.0, 10.0, 1.0797545287826218, 0.0, 10.0]\n",
      "5.008513211522492\n",
      "46.278038244949514\n",
      "[10.3255037805257, 1.0, 10.0, 1.0, 0.0, 10.0]\n",
      "5.16634383814599\n",
      "51.51962305743872\n",
      "[10.0, 1.0670550280543427, 10.0, 1.0, 0.0, 10.0]\n",
      "4.69573125837582\n",
      "46.81607788922842\n",
      "[10.0, 1.0, 10.738114595558532, 1.0, 0.0, 10.0]\n",
      "5.00362851544111\n",
      "53.622863337144075\n",
      "[10.0, 1.0, 10.0, 1.0635723445331877, 0.0, 10.0]\n",
      "5.014307959280662\n",
      "47.030985312313874\n",
      "[10.737874943336465, 1.0, 10.0, 1.0, 0.0, 10.0]\n",
      "5.369528104776411\n",
      "53.6112067367803\n",
      "[10.0, 0.9525538733859614, 10.0, 1.0, 0.0, 10.0]\n",
      "5.252857450077602\n",
      "52.427437861367906\n",
      "[10.0, 1.0, 9.688311322339715, 1.0, 0.0, 10.0]\n",
      "4.998457155120065\n",
      "48.33704538972419\n",
      "[10.0, 1.0, 10.0, 0.9782155414848573, 0.0, 10.0]\n",
      "5.014418672822722\n",
      "51.1444926454326\n",
      "[10.79960450704981, 1.0, 10.0, 1.0, 0.0, 10.0]\n",
      "5.390052192400254\n",
      "53.77488326085898\n",
      "[10.0, 0.9483289299269416, 10.0, 1.0, 0.0, 10.0]\n",
      "5.274168526969011\n",
      "52.64231230763059\n",
      "[10.0, 1.0, 9.90798861735338, 1.0, 0.0, 10.0]\n",
      "5.009863015252612\n",
      "49.53587060407421\n",
      "[10.0, 1.0, 10.0, 1.0055764504291065, 0.0, 10.0]\n",
      "5.0100598136461185\n",
      "49.702547824888576\n",
      "[9.294184385306304, 1.0, 10.0, 1.0, 0.0, 10.0]\n",
      "4.649454409490079\n",
      "46.38648908765509\n",
      "[10.0, 0.9337816803270111, 10.0, 1.0, 0.0, 10.0]\n",
      "5.359420225576434\n",
      "53.50628525340896\n",
      "[10.0, 1.0, 10.732262064439206, 1.0, 0.0, 10.0]\n",
      "5.010238551824359\n",
      "53.65305410628829\n",
      "[10.0, 1.0, 10.0, 0.9578650477003801, 0.0, 10.0]\n",
      "5.0111258778633605\n",
      "52.24802824538054\n",
      "[10.670910685081992, 1.0, 10.0, 1.0, 0.0, 10.0]\n",
      "5.334074996978351\n",
      "53.23254115994309\n",
      "[10.0, 0.9112833264257196, 10.0, 1.0, 0.0, 10.0]\n",
      "5.500747217449628\n",
      "54.932175008104466\n",
      "[10.0, 1.0, 9.177146665821404, 1.0, 0.0, 10.0]\n",
      "5.0022348360481015\n",
      "45.80122614123746\n",
      "[10.0, 1.0, 10.0, 1.002739716091184, 0.0, 10.0]\n",
      "5.014790950574052\n",
      "49.89516244912252\n",
      "[9.44380228051443, 1.0, 10.0, 1.0, 0.0, 10.0]\n",
      "4.734918558946111\n",
      "47.212688274662646\n",
      "[10.0, 0.9402875208321303, 10.0, 1.0, 0.0, 10.0]\n",
      "5.321711054788487\n",
      "53.109549844837645\n",
      "[10.0, 1.0, 9.714069924610676, 1.0, 0.0, 10.0]\n",
      "5.010687401605625\n",
      "48.55921762977977\n",
      "[10.0, 1.0, 10.0, 0.9521670855896778, 0.0, 10.0]\n",
      "5.016893174963666\n",
      "52.55878980029882\n",
      "[9.72091908440931, 1.0, 10.0, 1.0, 0.0, 10.0]\n",
      "4.871756988313182\n",
      "48.621390354994155\n",
      "[10.0, 1.0694755149475548, 10.0, 1.0, 0.0, 10.0]\n",
      "4.686808332402045\n",
      "46.732089654914375\n",
      "[10.0, 1.0, 10.217703768468807, 1.0, 0.0, 10.0]\n",
      "5.017957787931848\n",
      "51.15091722596561\n",
      "[10.0, 1.0, 10.0, 1.0649147025192605, 0.0, 10.0]\n",
      "5.016035269606544\n",
      "46.996647752068114\n",
      "[10.696661250606766, 1.0, 10.0, 1.0, 0.0, 10.0]\n",
      "5.338450630408803\n",
      "53.28541751275033\n",
      "[10.0, 0.9551564432970991, 10.0, 1.0, 0.0, 10.0]\n",
      "5.24277431150964\n",
      "52.33737100214508\n",
      "[10.0, 1.0, 9.462383631216854, 1.0, 0.0, 10.0]\n",
      "5.007910001127577\n",
      "47.244752344239565\n",
      "0.7524821513409056 1.328935175695561 0.7612664466971333 0.0\n"
     ]
    }
   ],
   "source": [
    "C,rho,avgFy = pert_dot([10.,1.,10.,1.,0.,10.],50,[10,10],10^6,10^8)\n",
    "println(join((1/C,C,rho,avgFy),' '))"
   ]
  },
  {
   "cell_type": "code",
   "execution_count": 131,
   "metadata": {},
   "outputs": [
    {
     "data": {
      "text/plain": [
       "0.013157894736842105"
      ]
     },
     "execution_count": 131,
     "metadata": {},
     "output_type": "execute_result"
    }
   ],
   "source": []
  },
  {
   "cell_type": "code",
   "execution_count": 43,
   "metadata": {},
   "outputs": [
    {
     "data": {
      "text/plain": [
       "9.455873842491803"
      ]
     },
     "execution_count": 43,
     "metadata": {},
     "output_type": "execute_result"
    }
   ],
   "source": []
  },
  {
   "cell_type": "code",
   "execution_count": null,
   "metadata": {},
   "outputs": [],
   "source": []
  }
 ],
 "metadata": {
  "kernelspec": {
   "display_name": "Julia 1.7.2",
   "language": "julia",
   "name": "julia-1.7"
  },
  "language_info": {
   "file_extension": ".jl",
   "mimetype": "application/julia",
   "name": "julia",
   "version": "1.7.2"
  },
  "orig_nbformat": 4,
  "vscode": {
   "interpreter": {
    "hash": "31f2aee4e71d21fbe5cf8b01ff0e069b9275f58929596ceb00d14d90e3e16cd6"
   }
  }
 },
 "nbformat": 4,
 "nbformat_minor": 2
}
