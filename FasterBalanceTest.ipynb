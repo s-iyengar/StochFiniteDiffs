{
 "cells": [
  {
   "cell_type": "code",
   "execution_count": 1,
   "metadata": {},
   "outputs": [],
   "source": [
    "import Random"
   ]
  },
  {
   "cell_type": "code",
   "execution_count": 2,
   "metadata": {},
   "outputs": [
    {
     "data": {
      "text/plain": [
       "tt_protein_fb_rates! (generic function with 1 method)"
      ]
     },
     "metadata": {},
     "output_type": "display_data"
    }
   ],
   "source": [
    "include(\"BalanceEquation.jl\")\n",
    "include(\"GillespieFunctions.jl\")\n",
    "include(\"Rates.jl\")"
   ]
  },
  {
   "cell_type": "code",
   "execution_count": 3,
   "metadata": {},
   "outputs": [
    {
     "data": {
      "text/plain": [
       "balance_test (generic function with 1 method)"
      ]
     },
     "metadata": {},
     "output_type": "display_data"
    }
   ],
   "source": [
    "function balance_test(initialstate::Vector{Int64},params::Vector{Float64},numsteps::Int64,maxsteps::Int64,rng::Random.AbstractRNG)\n",
    "    statevector = initialstate\n",
    "    outcomes = [1 0 ; -1 0; 0 1 ; 0 -1]\n",
    "    calcstor = BalanceEquationData2D()\n",
    "\n",
    "    endstate,steps = direct_gillespie!(initialstate,params,outcomes,tt_protein_fb_rates!,calcstor,updatestorage!,rng,numsteps,maxsteps)\n",
    "    normedvars = calcstor.statevariances / calcstor.weightsum[1]\n",
    "    normedsfcovs = calcstor.statefluxcovs / calcstor.weightsum[1]\n",
    "    D_ij = [calcstor.meanfluxes[1]+calcstor.meanfluxes[2] 0; 0 calcstor.meanfluxes[3]+calcstor.meanfluxes[4]]\n",
    "\n",
    "    println(\"Flux Balance on Rates\")\n",
    "    println(relative_error(calcstor.meanfluxes[1],calcstor.meanfluxes[2]))\n",
    "    println(relative_error(calcstor.meanfluxes[3],calcstor.meanfluxes[4]))\n",
    "\n",
    "    println(\"Cov Balances\")\n",
    "    for (i,j) in [(1,1),(1,2),(2,2)]\n",
    "        print(i,j)\n",
    "        print(\": \")\n",
    "        println(balance_eq_check(normedsfcovs,D_ij,i,j))\n",
    "    end\n",
    "\n",
    "    println(steps)\n",
    "    println(endstate)\n",
    "\n",
    "    return calcstor\n",
    "end"
   ]
  },
  {
   "cell_type": "code",
   "execution_count": 5,
   "metadata": {},
   "outputs": [
    {
     "name": "stdout",
     "output_type": "stream",
     "text": [
      "Flux Balance on Rates\n",
      "0.03979137235750163\n",
      "0.0011936133472214545\n",
      "Cov Balances\n",
      "11: 0.8250368548496109\n",
      "12: 0.5350223611049191\n",
      "22: 0.5069811913105207\n",
      "9966\n",
      "[8, 34]\n",
      "  0.009293 seconds (120.02 k allocations: 5.659 MiB)\n"
     ]
    },
    {
     "data": {
      "text/plain": [
       "BalanceEquationData2D([147.68069160552722], [6.821641145519286, 27.255871948186286], [724.3388664431508 1099.7792563719818; 1099.7792563719818 8956.682190562027], [6.537008800975598, 6.807904670701871, 27.231618682807483, 27.264161549934286], [-90.11045542970281 709.6691645218413 2838.676658087365 1068.0061205460422; -745.4676445380844 1140.6102808150274 4562.44112326011 8890.437003858924], [1.1784312015984781, 6.744542117719465], [-0.5846637427024968, 0.19210712328037616, 0.7684284931215046, 6.736252007018873], [1.178358854480714, 6.744128051813714])"
      ]
     },
     "metadata": {},
     "output_type": "display_data"
    }
   ],
   "source": [
    "@time calcs = balance_test([10,50],[10.,1.,4.,1.,-1.,50.],10^3,10^4,Random.MersenneTwister())"
   ]
  },
  {
   "cell_type": "code",
   "execution_count": 6,
   "metadata": {},
   "outputs": [
    {
     "ename": "MethodError",
     "evalue": "MethodError: no method matching copyto!(::Float64, ::Base.Broadcast.Broadcasted{Base.Broadcast.DefaultArrayStyle{0}, Tuple{}, typeof(+), Tuple{Float64, Float64}})\nClosest candidates are:\n  copyto!(!Matched::AbstractArray, ::Base.Broadcast.Broadcasted{<:Base.Broadcast.AbstractArrayStyle{0}}) at /Applications/Julia-1.7 arm64.app/Contents/Resources/julia/share/julia/base/broadcast.jl:916\n  copyto!(!Matched::AbstractArray, ::Base.Broadcast.Broadcasted) at /Applications/Julia-1.7 arm64.app/Contents/Resources/julia/share/julia/base/broadcast.jl:913\n  copyto!(!Matched::AbstractArray, ::Any) at /Applications/Julia-1.7 arm64.app/Contents/Resources/julia/share/julia/base/abstractarray.jl:887",
     "output_type": "error",
     "traceback": [
      "MethodError: no method matching copyto!(::Float64, ::Base.Broadcast.Broadcasted{Base.Broadcast.DefaultArrayStyle{0}, Tuple{}, typeof(+), Tuple{Float64, Float64}})\n",
      "Closest candidates are:\n",
      "  copyto!(!Matched::AbstractArray, ::Base.Broadcast.Broadcasted{<:Base.Broadcast.AbstractArrayStyle{0}}) at /Applications/Julia-1.7 arm64.app/Contents/Resources/julia/share/julia/base/broadcast.jl:916\n",
      "  copyto!(!Matched::AbstractArray, ::Base.Broadcast.Broadcasted) at /Applications/Julia-1.7 arm64.app/Contents/Resources/julia/share/julia/base/broadcast.jl:913\n",
      "  copyto!(!Matched::AbstractArray, ::Any) at /Applications/Julia-1.7 arm64.app/Contents/Resources/julia/share/julia/base/abstractarray.jl:887\n",
      "\n",
      "Stacktrace:\n",
      " [1] materialize!\n",
      "   @ ./broadcast.jl:871 [inlined]\n",
      " [2] materialize!(dest::Float64, bc::Base.Broadcast.Broadcasted{Base.Broadcast.DefaultArrayStyle{0}, Nothing, typeof(+), Tuple{Float64, Float64}})\n",
      "   @ Base.Broadcast ./broadcast.jl:868\n",
      " [3] top-level scope\n",
      "   @ ~/Library/CloudStorage/OneDrive-UniversityofToronto/StochFiniteDiffs/FasterBalanceTest.ipynb:1"
     ]
    }
   ],
   "source": []
  },
  {
   "cell_type": "code",
   "execution_count": 68,
   "metadata": {},
   "outputs": [
    {
     "data": {
      "text/plain": [
       "reach_balance (generic function with 1 method)"
      ]
     },
     "execution_count": 68,
     "metadata": {},
     "output_type": "execute_result"
    }
   ],
   "source": [
    "function reach_balance_test(initialstate,params,numsteps,maxsteps,rng,flux_thres,cov_thres,tries)\n",
    "    statevector = initialstate\n",
    "    outcomes = [1 0 ; -1 0; 0 1 ; 0 -1]\n",
    "    calcstor = BalanceEqData()\n",
    "    trynum = 0\n",
    "    thresholdmet = false\n",
    "    totalsteps = 0\n",
    "    \n",
    "    while (trynum < tries) && (!thresholdmet)\n",
    "        new_max = trunc(Int,maxsteps*(tries-trynum)/tries)\n",
    "        statevector,steps = direct_gillespie!(statevector,params,outcomes,tt_protein_fb_rates!,calcstor,updatestorage!,rng,numsteps,new_max)\n",
    "        if (relative_error(calcstor.meanRpX,calcstor.meanRmX) < flux_thres) &&  (relative_error(calcstor.meanRpY,calcstor.meanRmY) < flux_thres)\n",
    "            cbxx_comp = cov_balance_comp(calcstor.CXRmX/calcstor.weightsum,calcstor.CXRmX/calcstor.weightsum,\n",
    "            calcstor.meanRpX+calcstor.meanRmX,calcstor.CXRpX/calcstor.weightsum,calcstor.CXRpX/calcstor.weightsum) < cov_thres\n",
    "            cbyy_comp = cov_balance_comp(calcstor.CYRmY/calcstor.weightsum,calcstor.CYRmY/calcstor.weightsum,\n",
    "                            calcstor.meanRpY+calcstor.meanRmY,calcstor.CYRpY/calcstor.weightsum,calcstor.CYRpY/calcstor.weightsum) < cov_thres\n",
    "            cbyx_comp = cov_balance_comp(calcstor.CYRmX/calcstor.weightsum,calcstor.CXRmY/calcstor.weightsum,\n",
    "                            0,calcstor.CYRpX/calcstor.weightsum,calcstor.CXRpY/calcstor.weightsum) <cov_thres \n",
    "            thresholdmet = all([cbxx_comp,cbyy_comp,cbyx_comp])               \n",
    "        end\n",
    "        trynum += 1\n",
    "        totalsteps += steps\n",
    "        print(\"Balance Test for chained simulation \")\n",
    "        println(trynum)\n",
    "        print(\"Current steps: \")\n",
    "        println(totalsteps)\n",
    "        print(\"Means: \")\n",
    "        println([calcstor.meanx,calcstor.meany])\n",
    "        print(\"Flux Balance on x: \")\n",
    "        println(relative_error(calcstor.meanRpX,calcstor.meanRmX))\n",
    "    \n",
    "        print(\"Flux Balance on y: \")\n",
    "        println(relative_error(calcstor.meanRpY,calcstor.meanRmY))\n",
    "    \n",
    "        print(\"Cov Balance on x,x: \")\n",
    "        println(cov_balance_comp(calcstor.CXRmX/calcstor.weightsum,calcstor.CXRmX/calcstor.weightsum,\n",
    "                                calcstor.meanRpX+calcstor.meanRmX,calcstor.CXRpX/calcstor.weightsum,calcstor.CXRpX/calcstor.weightsum))\n",
    "        print(\"Cov Balance on y,y: \")\n",
    "        println(cov_balance_comp(calcstor.CYRmY/calcstor.weightsum,calcstor.CYRmY/calcstor.weightsum,\n",
    "                                calcstor.meanRpY+calcstor.meanRmY,calcstor.CYRpY/calcstor.weightsum,calcstor.CYRpY/calcstor.weightsum))\n",
    "        print(\"Cov Balance on y,x: \")\n",
    "        println(cov_balance_comp(calcstor.CYRmX/calcstor.weightsum,calcstor.CXRmY/calcstor.weightsum,\n",
    "                                0,calcstor.CYRpX/calcstor.weightsum,calcstor.CXRpY/calcstor.weightsum))\n",
    "    end\n",
    "    print(\"Tries taken: \")\n",
    "    println(trynum)\n",
    "    print(\"Total Steps: \")\n",
    "    println(totalsteps)\n",
    "    print(\"Threshold met: \")\n",
    "    println(thresholdmet)\n",
    "return calcstor\n",
    "end"
   ]
  },
  {
   "cell_type": "code",
   "execution_count": 69,
   "metadata": {},
   "outputs": [
    {
     "name": "stdout",
     "output_type": "stream",
     "text": [
      "Balance Test for chained simulation 1\n",
      "Current steps: 1002014\n",
      "Means: [6.647977522540511, 26.552698451158967]\n",
      "Flux Balance on x: 0.005043072669317034\n",
      "Flux Balance on y: 0.0008175182777894587\n",
      "Cov Balance on x,x: 0.011229121212588521\n",
      "Cov Balance on y,y: 0.06138630238400563\n",
      "Cov Balance on y,x: 0.10288129171531248\n",
      "Balance Test for chained simulation 2\n",
      "Current steps: 2004566\n",
      "Means: [6.634438750881015, 26.529792196278333]\n",
      "Flux Balance on x: 0.0029248028932045327\n",
      "Flux Balance on y: 0.0019839862167321644\n",
      "Cov Balance on x,x: 0.010302289941230643\n",
      "Cov Balance on y,y: 0.027404145418627616\n",
      "Cov Balance on y,x: 0.07438037576969497\n",
      "Balance Test for chained simulation 3\n",
      "Current steps: 3008093\n",
      "Means: [6.6431742187695635, 26.572020818748584]\n",
      "Flux Balance on x: 0.004772571571547394\n",
      "Flux Balance on y: 0.0022748585233842177\n",
      "Cov Balance on x,x: 0.012120487281425788\n",
      "Cov Balance on y,y: 0.01536651099384867\n",
      "Cov Balance on y,x: 0.06019330212356481\n",
      "Balance Test for chained simulation 4\n",
      "Current steps: 4009033\n",
      "Means: [6.640607781807234, 26.528816439525258]\n",
      "Flux Balance on x: 0.003922720254909065\n",
      "Flux Balance on y: 0.0009931106081680354\n",
      "Cov Balance on x,x: 0.017713450400531176\n",
      "Cov Balance on y,y: 0.00697572613799433\n",
      "Cov Balance on y,x: 0.0510567106435292\n",
      "Balance Test for chained simulation 5\n",
      "Current steps: 5014066\n",
      "Means: [6.638807747100529, 26.537896837405217]\n",
      "Flux Balance on x: 0.0037863366619124827\n",
      "Flux Balance on y: 0.0016057934496607508\n",
      "Cov Balance on x,x: 0.0216801362577234\n",
      "Cov Balance on y,y: 0.002609185468008866\n",
      "Cov Balance on y,x: 0.047507559711181646\n",
      "Balance Test for chained simulation 6\n",
      "Current steps: 6012987\n",
      "Means: [6.629278001492428, 26.508535995313018]\n",
      "Flux Balance on x: 0.0019966910751790107\n",
      "Flux Balance on y: 0.0019320652068849614\n",
      "Cov Balance on x,x: 0.024111307589470308\n",
      "Cov Balance on y,y: 0.0008762550021535815\n",
      "Cov Balance on y,x: 0.04343554764070718\n",
      "Balance Test for chained simulation 7\n",
      "Current steps: 7013658\n",
      "Means: [6.626661834555946, 26.498051138219918]\n",
      "Flux Balance on x: 0.0014625921220087989\n",
      "Flux Balance on y: 0.0019332923455763617\n",
      "Cov Balance on x,x: 0.023462720682309115\n",
      "Cov Balance on y,y: 0.001658967582021678\n",
      "Cov Balance on y,x: 0.039744687259927504\n",
      "Balance Test for chained simulation 8\n",
      "Current steps: 8006147\n",
      "Means: [6.616965470564124, 26.4501475297819]\n",
      "Flux Balance on x: 0.0005997666620184365\n",
      "Flux Balance on y: 0.0015895661749213915\n",
      "Cov Balance on x,x: 0.026066175880158544\n",
      "Cov Balance on y,y: 0.0038569807106250305\n",
      "Cov Balance on y,x: 0.03750251380063604\n",
      "Balance Test for chained simulation 9\n",
      "Current steps: 9003542\n",
      "Means: [6.617356019078301, 26.450637049913368]\n",
      "Flux Balance on x: 0.000516951394790224\n",
      "Flux Balance on y: 0.0015494772312880107\n",
      "Cov Balance on x,x: 0.02583119244215019\n",
      "Cov Balance on y,y: 0.005781352458356056\n",
      "Cov Balance on y,x: 0.03467291737145396\n",
      "Balance Test for chained simulation 10\n",
      "Current steps: 10004642\n",
      "Means: [6.619616084598371, 26.45454097116633]\n",
      "Flux Balance on x: 0.00010304998504818622\n",
      "Flux Balance on y: 0.001350397052634291\n",
      "Cov Balance on x,x: 0.026358663424878293\n",
      "Cov Balance on y,y: 0.007547891231986214\n",
      "Cov Balance on y,x: 0.033309932192711535\n",
      "Balance Test for chained simulation 11\n",
      "Current steps: 11011058\n",
      "Means: [6.620268685976461, 26.467854001446167]\n",
      "Flux Balance on x: 0.0001843918634093744\n",
      "Flux Balance on y: 0.0017562374225825286\n",
      "Cov Balance on x,x: 0.024435304001742996\n",
      "Cov Balance on y,y: 0.009711203092547596\n",
      "Cov Balance on y,x: 0.0314834477047589\n",
      "Balance Test for chained simulation 12\n",
      "Current steps: 12009059\n",
      "Means: [6.618648083798361, 26.461924442789442]\n",
      "Flux Balance on x: 0.00012528291788150558\n",
      "Flux Balance on y: 0.0017863725837243328\n",
      "Cov Balance on x,x: 0.024700252885028674\n",
      "Cov Balance on y,y: 0.011242043938600357\n",
      "Cov Balance on y,x: 0.028615688829844284\n",
      "Tries taken: 12\n",
      "Total Steps: 12009059\n",
      "Threshold met: true\n"
     ]
    },
    {
     "data": {
      "text/plain": [
       "BalanceEqData(6.618648083798361, 26.461924442789442, 181660.85494635877, 1.0567876898205164e6, 1.1518479075625038e7, 1.6456221917784193e6, 6.607545805198764, 6.606718096278041, 26.426872385112166, 26.4741651078378, 1.0397121113305165e6, -134863.97550653399, 1.6912737921273627e6, -958153.4985967941, 1.6037093673902424e6, 4.158848445322066e6, 1.144149324795211e7, 6.765095168509451e6)"
      ]
     },
     "execution_count": 69,
     "metadata": {},
     "output_type": "execute_result"
    }
   ],
   "source": [
    "calcs = reach_balance_test([100,400],[10.,1.,4.,1.,-1.,50.],10^5,10^8,Random.MersenneTwister(),0.01,0.03,20)"
   ]
  }
 ],
 "metadata": {
  "kernelspec": {
   "display_name": "Julia 1.7.2",
   "language": "julia",
   "name": "julia-1.7"
  },
  "language_info": {
   "file_extension": ".jl",
   "mimetype": "application/julia",
   "name": "julia",
   "version": "1.7.2"
  },
  "orig_nbformat": 4
 },
 "nbformat": 4,
 "nbformat_minor": 2
}
