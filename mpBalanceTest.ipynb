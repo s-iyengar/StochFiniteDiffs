{
 "cells": [
  {
   "cell_type": "code",
   "execution_count": 1,
   "metadata": {},
   "outputs": [],
   "source": [
    "import Random"
   ]
  },
  {
   "cell_type": "markdown",
   "metadata": {},
   "source": [
    "Utility functions"
   ]
  },
  {
   "cell_type": "code",
   "execution_count": 2,
   "metadata": {},
   "outputs": [
    {
     "data": {
      "text/plain": [
       "random_fill! (generic function with 1 method)"
      ]
     },
     "metadata": {},
     "output_type": "display_data"
    }
   ],
   "source": [
    "function CDFsample(rng::Random.AbstractRNG, weights::Vector{Float64},n::Int, weightsum::Float64)\n",
    "    t = rand(rng) * weightsum\n",
    "    i = 1\n",
    "    cuw = weights[1] #current cumulative sum\n",
    "    while cuw < t && i < n #check if t in current part of weights, and you're in bounds\n",
    "        i += 1\n",
    "        @inbounds cuw += weights[i]\n",
    "    end\n",
    "    return i\n",
    "end\n",
    "\n",
    "function relative_error(x,y)\n",
    "    abs(x-y)/y\n",
    "end\n",
    "\n",
    "function vectorreplace!(vec::Vector,index::UInt,newvalue)\n",
    "    vec[index] = newvalue\n",
    "    return vec\n",
    "end\n",
    "\n",
    "#To reduce allocations, you want to in place calc randvec and then take argmin\n",
    "function exponential_sample!(rng::Random.AbstractRNG,weights::Vector{Float64},randvec::Vector{Float64})\n",
    "    Random.rand!(rng,randvec)\n",
    "    randvec .= -1 .* log.(randvec) ./ weights\n",
    "    argmin(randvec)\n",
    "end\n",
    "\n",
    "function random_fill!(rng::Random.AbstractRNG,vec::Vector{Float64})\n",
    "    for i in 1:length(a)\n",
    "        vec[i] = rand(rng)\n",
    "    end\n",
    "    return nothing\n",
    "end"
   ]
  },
  {
   "cell_type": "markdown",
   "metadata": {},
   "source": [
    "Defining rates and system used"
   ]
  },
  {
   "cell_type": "code",
   "execution_count": 22,
   "metadata": {},
   "outputs": [
    {
     "data": {
      "text/plain": [
       "transcription_translation_rates! (generic function with 1 method)"
      ]
     },
     "metadata": {},
     "output_type": "display_data"
    }
   ],
   "source": [
    "function constantrate(param::Float64)\n",
    "    return param\n",
    "end\n",
    "\n",
    "function linearrate(param::Float64,moleculelevel::Int64)\n",
    "    return param*moleculelevel\n",
    "end\n",
    "\n",
    "function hillfunction(lambda::Float64,n::Float64,K::Float64,x::Int64)\n",
    "    if n >= 0\n",
    "        return lambda*(x^n)/(K^n + x^n)\n",
    "    else\n",
    "        N = abs(n)\n",
    "        return lambda*(K^N)/(K^N+x^N)\n",
    "    end\n",
    "end\n",
    "\n",
    "function transcription_translation_rates!(state::Vector{Int64},params::Vector{Float64},rates::Vector{Float64})\n",
    "    rates[1] = constantrate(params[1])\n",
    "    rates[2] = linearrate(params[2],state[1])\n",
    "    rates[3] = linearrate(params[3],state[1])\n",
    "    rates[4] = linearrate(params[4],state[2])\n",
    "    return nothing\n",
    "end\n"
   ]
  },
  {
   "cell_type": "markdown",
   "metadata": {},
   "source": [
    "Data Storage Utilities"
   ]
  },
  {
   "cell_type": "code",
   "execution_count": 4,
   "metadata": {},
   "outputs": [
    {
     "data": {
      "text/plain": [
       "updatestorage! (generic function with 1 method)"
      ]
     },
     "metadata": {},
     "output_type": "display_data"
    }
   ],
   "source": [
    "mutable struct online_weighted_Avg_Covs_2D\n",
    "    meanx::Float64\n",
    "    meany::Float64\n",
    "    weightsum::Float64\n",
    "    VX::Float64\n",
    "    VY::Float64\n",
    "    C::Float64\n",
    "    function online_weighted_Avg_Covs_2D()\n",
    "        return new(0,0,0,0,0,0)\n",
    "    end\n",
    "\n",
    "end\n",
    "\n",
    "function updatestorage!(storage::online_weighted_Avg_Covs_2D,x,y,weight)\n",
    "    storage.weightsum += weight\n",
    "    dx = x - storage.meanx\n",
    "    dy = y - storage.meany\n",
    "    storage.meanx += (weight/storage.weightsum)*dx\n",
    "    storage.meany += (weight/storage.weightsum)*dy\n",
    "    storage.VX += weight*dx*(x-storage.meanx)\n",
    "    storage.VY += weight*dy*(y-storage.meany)\n",
    "    storage.C += weight*dx*(y-storage.meany)\n",
    "    return nothing\n",
    "end"
   ]
  },
  {
   "cell_type": "markdown",
   "metadata": {},
   "source": [
    "Main Code: Run a direct Gillespie simulation"
   ]
  },
  {
   "cell_type": "code",
   "execution_count": 17,
   "metadata": {},
   "outputs": [
    {
     "data": {
      "text/plain": [
       "main (generic function with 1 method)"
      ]
     },
     "metadata": {},
     "output_type": "display_data"
    }
   ],
   "source": [
    "function main(initialstate::Vector{Int64},params::Vector{Float64},numsteps::Int64,maxsteps::Int64,rng::Random.AbstractRNG)\n",
    "    statevector = initialstate\n",
    "    outcomes = [1 0 ; -1 0; 0 1 ; 0 -1]\n",
    "\n",
    "    numreactions,statevars = size(outcomes)\n",
    "    reactioncounters = fill(numsteps,numreactions)\n",
    "    stoppingvec = reactioncounters .!= 0\n",
    "    steps = 0\n",
    "    rates = Vector{Float64}(undef,numreactions)\n",
    "    zerorates = Vector{Bool}(undef,numreactions)\n",
    "\n",
    "    calcstor = online_weighted_Avg_Covs_2D()\n",
    "    while (steps <= maxsteps-1) & (any(stoppingvec))\n",
    "        transcription_translation_rates!(statevector,params,rates)\n",
    "        zerorates .= rates .== 0\n",
    "        if all(zerorates)\n",
    "            return \"All rates trivially zero at state $(statevector) after $(steps) steps\"\n",
    "        end\n",
    "        totalrate = sum(rates)\n",
    "        reaction = CDFsample(rng,rates,numreactions,totalrate)\n",
    "        timestep = log(1/rand(rng))/totalrate\n",
    "        delta = view(outcomes,reaction,:)\n",
    "        statevector .+= delta\n",
    "        updatestorage!(calcstor,statevector[1],statevector[2],timestep)\n",
    "        steps += 1\n",
    "        reactioncounters[reaction] -= 1\n",
    "        if reactioncounters[reaction] <= 0\n",
    "            reactioncounters[reaction] = 0\n",
    "            stoppingvec[reaction] = false\n",
    "        end\n",
    "    end\n",
    "    expectedmeanm = params[1]/params[2]\n",
    "    expectedmeanp = expectedmeanm*params[3]/params[4]\n",
    "    expectedetamm = 1/expectedmeanm\n",
    "    expectedcov = expectedetamm*(params[4]/(params[4]+params[2]))\n",
    "    expectedetapp = 1/expectedmeanp + expectedcov\n",
    "\n",
    "    calcdmeanm = calcstor.meanx\n",
    "    calcdmeanp = calcstor.meany\n",
    "    calcdetamm = (calcstor.VX/calcstor.weightsum)/calcdmeanm^2\n",
    "    calcdetapp = (calcstor.VY/calcstor.weightsum)/calcdmeanp^2\n",
    "    calcdcovmp = (calcstor.C/calcstor.weightsum)/(calcdmeanm*calcdmeanp)\n",
    "\n",
    "    println(relative_error(calcdmeanm,expectedmeanm))\n",
    "    println(relative_error(calcdmeanp,expectedmeanp))\n",
    "    println(relative_error(calcdcovmp,expectedcov))\n",
    "    println(relative_error(calcdetamm,expectedetamm))\n",
    "    println(relative_error(calcdetapp,expectedetapp))\n",
    "    println(calcdetapp)\n",
    "    println(steps)\n",
    "\n",
    "    return nothing\n",
    "end"
   ]
  },
  {
   "cell_type": "markdown",
   "metadata": {},
   "source": [
    "The test below verifies this system can return results for the analytic case that are sufficiently accurate. The exact value of $\\eta_{pp}$ here is 0.14"
   ]
  },
  {
   "cell_type": "code",
   "execution_count": 21,
   "metadata": {},
   "outputs": [
    {
     "name": "stdout",
     "output_type": "stream",
     "text": [
      "0.0030727892466691385\n",
      "0.0006354904909926518\n",
      "0.0021944623985092893\n",
      "0.006258558449920293\n",
      "0.00915483480317233\n",
      "0.14128167687244414\n",
      "1200086342\n"
     ]
    }
   ],
   "source": [
    "main([1000,1000],[5.,1.,5.,1.],10^8,10^10,Random.MersenneTwister())"
   ]
  },
  {
   "cell_type": "markdown",
   "metadata": {},
   "source": [
    "Next, we want to create a test showing that the flux balance and covariance balance equations are satisfied. \n",
    "\n",
    "The flux balance equations require that for all species $\\langle R^+_i \\rangle = \\langle R^-_i \\rangle$.\n",
    "\n",
    "The covariance balance equations require that for all pairs of species \n",
    "$$ Cov\\left[x_i,R^-_j - R^+_j\\right] + Cov\\left[x_j,R^-_i - R^+_i\\right] = \\langle\\Sigma^N_{k=1}\\delta_{ik}\\delta_{jk}r_k\\rangle$$\n",
    "\n",
    "On the right hand side, the sum requires going through all reactions and checking checking how much $ x_i,x_j$ change in the $k$th reaction. Therefore, in the case like mRNA and protein where only one species changes at a time with step size, this is the average total rate $\\sum \\langle r_k \\rangle$ where the species changes if $i=j$ and otherwise 0. \n",
    "\n",
    "Rewrite to avoid 0=0 comparisons:\n",
    "$$ Cov\\left[x_i,R^-_j\\right] + Cov\\left[x_j,R^-_i\\right] = \\langle\\Sigma^N_{k=1}\\delta_{ik}\\delta_{jk}r_k\\rangle + \\left(Cov\\left[x_i, R^+_j\\right] + Cov\\left[x_j, R^+_i\\right]\\right)$$"
   ]
  },
  {
   "cell_type": "markdown",
   "metadata": {},
   "source": [
    "We will reimplment a Gillespie algorithm, but now with a modified rate set that includes protein feedback such that $R_m^+ = \\frac{p^n}{K^n+p^n}$. We will check whether the flux balance and covariance balance equations are satisfied after a large number of steps. We will test it on a system displaying negative feedback."
   ]
  },
  {
   "cell_type": "code",
   "execution_count": 52,
   "metadata": {},
   "outputs": [
    {
     "data": {
      "text/plain": [
       "updatestorage! (generic function with 2 methods)"
      ]
     },
     "metadata": {},
     "output_type": "display_data"
    }
   ],
   "source": [
    "function cov_balance_comp(CiRmj,CjRmi,Dij,CiRpj,CjRpi)\n",
    "    LHS = CiRmj+CjRmi\n",
    "    RHS = CiRpj+CjRpi+Dij\n",
    "    return relative_error(RHS,LHS)\n",
    "end\n",
    "\n",
    "function tt_protein_fb_rates!(state::Vector{Int64},params::Vector{Float64},rates::Vector{Float64})\n",
    "    rates[1] = hillfunction(params[1],params[5],params[6],state[2])\n",
    "    rates[2] = linearrate(params[2],state[1])\n",
    "    rates[3] = linearrate(params[3],state[1])\n",
    "    rates[4] = linearrate(params[4],state[2])\n",
    "    return nothing\n",
    "end\n",
    "\n",
    "mutable struct BalanceEqData\n",
    "    meanx::Float64\n",
    "    meany::Float64\n",
    "    weightsum::Float64\n",
    "    VX::Float64\n",
    "    VY::Float64\n",
    "    CXY::Float64\n",
    "    meanRpX::Float64\n",
    "    meanRmX::Float64\n",
    "    meanRpY::Float64\n",
    "    meanRmY::Float64\n",
    "    CXRmX::Float64\n",
    "    CXRpX::Float64\n",
    "    CYRmX::Float64\n",
    "    CYRpX::Float64\n",
    "    CXRmY::Float64\n",
    "    CXRpY::Float64\n",
    "    CYRmY::Float64\n",
    "    CYRpY::Float64\n",
    "\n",
    "    function BalanceEqData()\n",
    "        return new(0,0,0,0,0,0,0,0,0,0,0,0,0,0,0,0,0,0)\n",
    "    end\n",
    "    \n",
    "end\n",
    "\n",
    "function updatestorage!(storage::BalanceEqData,state::Vector{Int64},rates::Vector{Float64},weight)\n",
    "    #States: [x,y]\n",
    "    #Rates: [RpX,RmX,RpY,RmY]\n",
    "    storage.weightsum += weight\n",
    "    rw = weight/storage.weightsum\n",
    "\n",
    "    x = state[1]\n",
    "    y = state[2]\n",
    "    RpX = rates[1]\n",
    "    RmX = rates[2]\n",
    "    RpY = rates[3]\n",
    "    RmY = rates[4]\n",
    "\n",
    "\n",
    "    dx = x - storage.meanx\n",
    "    dy = y - storage.meany\n",
    "    dRpX = RpX - storage.meanRpX\n",
    "    dRmX = RmX - storage.meanRmX\n",
    "    dRpY = RpY - storage.meanRpY\n",
    "    dRmY = RmY - storage.meanRmY\n",
    "\n",
    "    storage.meanx += (rw)*dx\n",
    "    storage.meany += (rw)*dy\n",
    "    storage.meanRpX += (rw)*dRpX\n",
    "    storage.meanRmX += (rw)*dRmX\n",
    "    storage.meanRpY += (rw)*dRpY\n",
    "    storage.meanRmY += (rw)*dRmY\n",
    "\n",
    "    xdiff = x - storage.meanx\n",
    "    ydiff = y - storage.meany\n",
    "\n",
    "    storage.VX += weight*dx*xdiff\n",
    "    storage.VY += weight*dy*ydiff\n",
    "\n",
    "    storage.CXY += weight*dx*ydiff\n",
    "\n",
    "    storage.CXRmX += weight*dRmX*xdiff\n",
    "    storage.CXRpX += weight*dRpX*xdiff\n",
    "    storage.CYRmX += weight*dRmX*ydiff\n",
    "    storage.CYRpX += weight*dRpX*ydiff\n",
    "    storage.CXRmY += weight*dRmY*xdiff\n",
    "    storage.CXRpY += weight*dRpY*xdiff\n",
    "    storage.CYRmY += weight*dRmY*ydiff\n",
    "    storage.CYRpY += weight*dRpY*ydiff\n",
    "    return nothing\n",
    "end"
   ]
  },
  {
   "cell_type": "code",
   "execution_count": 53,
   "metadata": {},
   "outputs": [
    {
     "data": {
      "text/plain": [
       "balance_test (generic function with 1 method)"
      ]
     },
     "metadata": {},
     "output_type": "display_data"
    }
   ],
   "source": [
    "function balance_test(initialstate::Vector{Int64},params::Vector{Float64},numsteps::Int64,maxsteps::Int64,rng::Random.AbstractRNG)\n",
    "    statevector = initialstate\n",
    "    outcomes = [1 0 ; -1 0; 0 1 ; 0 -1]\n",
    "\n",
    "    numreactions,statevars = size(outcomes)\n",
    "    reactioncounters = fill(numsteps,numreactions)\n",
    "    stoppingvec = reactioncounters .!= 0\n",
    "    steps = 0\n",
    "    rates = Vector{Float64}(undef,numreactions)\n",
    "    zerorates = Vector{Bool}(undef,numreactions)\n",
    "\n",
    "    calcstor = BalanceEqData()\n",
    "    while (steps <= maxsteps-1) & (any(stoppingvec))\n",
    "        tt_protein_fb_rates!(statevector,params,rates)\n",
    "        zerorates .= rates .== 0\n",
    "        if all(zerorates)\n",
    "            return \"All rates trivially zero at state $(statevector) after $(steps) steps\"\n",
    "        end\n",
    "        totalrate = sum(rates)\n",
    "        reaction = CDFsample(rng,rates,numreactions,totalrate)\n",
    "        timestep = log(1/rand(rng))/totalrate\n",
    "        delta = view(outcomes,reaction,:)\n",
    "        statevector .+= delta\n",
    "        updatestorage!(calcstor,statevector,rates,timestep)\n",
    "        steps += 1\n",
    "        reactioncounters[reaction] -= 1\n",
    "        if reactioncounters[reaction] <= 0\n",
    "            reactioncounters[reaction] = 0\n",
    "            stoppingvec[reaction] = false\n",
    "        end\n",
    "    end\n",
    "\n",
    "    println(\"Flux Balance on x\")\n",
    "    println(relative_error(calcstor.meanRpX,calcstor.meanRmX))\n",
    "\n",
    "    println(\"Flux Balance on y\")\n",
    "    println(relative_error(calcstor.meanRpY,calcstor.meanRmY))\n",
    "\n",
    "    println(\"Cov Balance on x,x\")\n",
    "    println(cov_balance_comp(calcstor.CXRmX/calcstor.weightsum,calcstor.CXRmX/calcstor.weightsum,\n",
    "                            calcstor.meanRpX+calcstor.meanRmX,calcstor.CXRpX/calcstor.weightsum,calcstor.CXRpX/calcstor.weightsum))\n",
    "    println(\"Cov Balance on y,y\")\n",
    "    println(cov_balance_comp(calcstor.CYRmY/calcstor.weightsum,calcstor.CYRmY/calcstor.weightsum,\n",
    "                            calcstor.meanRpY+calcstor.meanRmY,calcstor.CYRpY/calcstor.weightsum,calcstor.CYRpY/calcstor.weightsum))\n",
    "    println(\"Cov Balance on y,x\")\n",
    "    println(cov_balance_comp(calcstor.CYRmX/calcstor.weightsum,calcstor.CXRmY/calcstor.weightsum,\n",
    "                            0,calcstor.CYRpX/calcstor.weightsum,calcstor.CXRpY/calcstor.weightsum))\n",
    "    println(steps)\n",
    "    println(calcstor.meanx)\n",
    "    println(calcstor.meany)\n",
    "\n",
    "\n",
    "    return calcstor\n",
    "end"
   ]
  },
  {
   "cell_type": "code",
   "execution_count": 54,
   "metadata": {},
   "outputs": [
    {
     "name": "stdout",
     "output_type": "stream",
     "text": [
      "Flux Balance on x\n",
      "0.00017966070031279695\n",
      "Flux Balance on y\n",
      "2.267653427449925e-5\n",
      "Cov Balance on x,x\n",
      "0.007353657857875004\n",
      "Cov Balance on y,y\n",
      "0.011714656476694875\n",
      "Cov Balance on y,x\n",
      "0.015444923655552873\n",
      "1200386289\n",
      "8.308762163490087\n",
      "41.49480216553076\n"
     ]
    },
    {
     "data": {
      "text/plain": [
       "BalanceEqData(8.308762163490087, 41.49480216553076, 1.205129650045403e7, 9.336600039407799e7, 1.5434102394243867e9, 2.081844391692029e8, 8.299296209677898, 8.30078753497958, 41.50393767476148, 41.504878861569544, 9.241556300162306e7, -6.931110136937372e6, 2.1117274537703872e8, -5.190972748046623e7, 2.0542973566527665e8, 4.6207781500836915e8, 1.53802818516003e9, 1.0558637268850957e9)"
      ]
     },
     "metadata": {},
     "output_type": "display_data"
    }
   ],
   "source": [
    "calcs = balance_test([1000,1000],[10.,1.,5.,1.,-1.,200.],10^8,10^10,Random.MersenneTwister())"
   ]
  },
  {
   "cell_type": "code",
   "execution_count": 44,
   "metadata": {},
   "outputs": [
    {
     "data": {
      "text/plain": [
       "37.85979874291953"
      ]
     },
     "metadata": {},
     "output_type": "display_data"
    }
   ],
   "source": []
  },
  {
   "cell_type": "code",
   "execution_count": 45,
   "metadata": {},
   "outputs": [
    {
     "data": {
      "text/plain": [
       "-0.18839068850767732"
      ]
     },
     "metadata": {},
     "output_type": "display_data"
    }
   ],
   "source": []
  },
  {
   "cell_type": "code",
   "execution_count": null,
   "metadata": {},
   "outputs": [],
   "source": []
  }
 ],
 "metadata": {
  "kernelspec": {
   "display_name": "Julia 1.7.2",
   "language": "julia",
   "name": "julia-1.7"
  },
  "language_info": {
   "file_extension": ".jl",
   "mimetype": "application/julia",
   "name": "julia",
   "version": "1.7.2"
  },
  "orig_nbformat": 4
 },
 "nbformat": 4,
 "nbformat_minor": 2
}
