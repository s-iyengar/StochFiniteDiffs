{
 "cells": [
  {
   "attachments": {},
   "cell_type": "markdown",
   "metadata": {},
   "source": [
    "## Perturbation simulations for hill feedback system:\n",
    "$$R^+_x = f(y,\\lambda,K,n)$$\n",
    "$$R^-_x = \\beta_x x $$\n",
    "$$R^+_y = \\gamma x$$\n",
    "$$R^-_y = \\beta_y y$$\n",
    "## Needed output:\n",
    "Generated from $s$ sample experiments you want to know $[\\eta_{\\bar{x}\\bar{x}},\\eta_{\\bar{y}\\bar{y}},\\eta_{\\bar{x}\\bar{y}}]$, but should collect all order 3 moments"
   ]
  },
  {
   "cell_type": "code",
   "execution_count": null,
   "metadata": {},
   "outputs": [],
   "source": []
  }
 ],
 "metadata": {
  "kernelspec": {
   "display_name": "Python 3",
   "language": "python",
   "name": "python3"
  },
  "language_info": {
   "name": "python",
   "version": "3.9.6 (default, Oct 18 2022, 12:41:40) \n[Clang 14.0.0 (clang-1400.0.29.202)]"
  },
  "orig_nbformat": 4,
  "vscode": {
   "interpreter": {
    "hash": "31f2aee4e71d21fbe5cf8b01ff0e069b9275f58929596ceb00d14d90e3e16cd6"
   }
  }
 },
 "nbformat": 4,
 "nbformat_minor": 2
}
