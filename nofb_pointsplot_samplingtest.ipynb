{
 "cells": [
  {
   "cell_type": "code",
   "execution_count": 5,
   "metadata": {},
   "outputs": [],
   "source": [
    "import matplotlib.pyplot as plt\n",
    "import pandas as pd\n",
    "import seaborn as sns\n",
    "import glob\n",
    "import numpy as np\n",
    "import itertools\n",
    "sns.set(context='talk')"
   ]
  },
  {
   "cell_type": "code",
   "execution_count": 6,
   "metadata": {},
   "outputs": [],
   "source": [
    "def bootstrap_gen(dataframe):\n",
    "    return dataframe.sample(frac=1,replace=True)\n",
    "def CVratio(experimentdata):\n",
    "    return (experimentdata[\"<y>\"].std(ddof=0)/experimentdata[\"<y>\"].mean())/(experimentdata[\"<x>\"].std(ddof=0)/experimentdata[\"<x>\"].mean())\n",
    "def xycorr(experimentdata):\n",
    "    return experimentdata[\"<x>\"].corr(experimentdata[\"<y>\"])\n",
    "def bootstrap_stderr_mean(experimentdata,f,n):\n",
    "    bootstrap_fs = [f(bootstrap_gen(experimentdata)) for i in range(n)]\n",
    "    return np.std(bootstrap_fs,ddof=0)/np.sqrt(len(experimentdata)),np.mean(bootstrap_fs)\n",
    "def joinedbootstrap(experimentdata,n):\n",
    "    rhos = []\n",
    "    Cs = []\n",
    "    for i in range(n):\n",
    "        sample = bootstrap_gen(experimentdata)\n",
    "        rhos.append(xycorr(sample))\n",
    "        Cs.append(CVratio(sample))\n",
    "    return np.std(Cs)/np.sqrt(len(experimentdata)),np.std(rhos)/np.sqrt(len(experimentdata))\n"
   ]
  },
  {
   "cell_type": "markdown",
   "metadata": {},
   "source": [
    "files = glob.glob('no_fb_sims_largerange4_2023-02-02/*_simresults.tsv')\n",
    "dfs = list()\n",
    "for f in files:\n",
    "    data = pd.read_csv(f,sep='\\t')\n",
    "    data['file'] = f\n",
    "    dfs.append(data)\n",
    "\n",
    "df = pd.concat(dfs, ignore_index=True)"
   ]
  },
  {
   "cell_type": "code",
   "execution_count": 7,
   "metadata": {},
   "outputs": [],
   "source": [
    "folders = glob.glob('samplingdist_test*')\n",
    "df = pd.DataFrame()\n",
    "for i,folder in enumerate(folders):\n",
    "    files = glob.glob(folder+'/*_simresults.tsv')\n",
    "    for f in files:\n",
    "        data = pd.read_csv(f,sep='\\t')\n",
    "        simsettings = pd.read_csv(f[:-14]+'settings.tsv',sep='\\t')\n",
    "        simsettings = simsettings.drop(['cov thres','flux thres'],axis=1)\n",
    "        data = pd.concat([data,simsettings.loc[simsettings.index.repeat(len(data))].reset_index(drop=True)],axis=1)\n",
    "        data[\"file\"] = f\n",
    "        data['covcheck'] = data['cov thres'].apply(lambda x: all(float(i) <= 0.05 for i in x.strip('[]').split(',')))\n",
    "        data['usedparams'] =  data['usedparams'].apply(lambda x: np.array([float(i) for i in x.strip('[]').split(',')]))\n",
    "        df = pd.concat([df,data],ignore_index=True)\n"
   ]
  },
  {
   "cell_type": "code",
   "execution_count": 8,
   "metadata": {},
   "outputs": [],
   "source": [
    "cols = [\"file\",\"C\",\"rho\",\"std_rho\",\"std_C\",\"covcheck\",\"numsims\",\"glcov\",\"etaxx\"]\n",
    "pertdata = pd.DataFrame(columns=cols)\n",
    "for f in df['file'].unique():\n",
    "    #isolate data by parameter set\n",
    "    experimentdata = df[df[\"file\"] == f]\n",
    "    #Total sims in the point\n",
    "    nsims = len(experimentdata)\n",
    "    #number of sims in data that didn't reach cov balance\n",
    "    ncov = len(experimentdata[experimentdata[\"covcheck\"]==False])\n",
    "    #calculate quantity\n",
    "    rho = xycorr(experimentdata)\n",
    "    C_val = CVratio(experimentdata)\n",
    "    #estimate standard error by bootstrapping\n",
    "    std_Cval,std_rho = joinedbootstrap(experimentdata,10000)\n",
    "    glcov = np.cov(np.stack(experimentdata['usedparams'].to_numpy()),rowvar=False)[0,2]\n",
    "    means = np.mean(np.stack(experimentdata['usedparams'].to_numpy()),axis=0)\n",
    "    denom = (experimentdata[\"<x>\"].std()/(experimentdata[\"<x>\"].mean()))**2\n",
    "    \n",
    "    df2 = pd.DataFrame([[f,C_val,rho,std_rho,std_Cval,ncov,nsims,glcov/(means[0]*means[2]),denom]], columns= cols)\n",
    "    pertdata = pd.concat([pertdata,df2])"
   ]
  },
  {
   "cell_type": "code",
   "execution_count": 9,
   "metadata": {},
   "outputs": [
    {
     "data": {
      "text/html": [
       "<div>\n",
       "<style scoped>\n",
       "    .dataframe tbody tr th:only-of-type {\n",
       "        vertical-align: middle;\n",
       "    }\n",
       "\n",
       "    .dataframe tbody tr th {\n",
       "        vertical-align: top;\n",
       "    }\n",
       "\n",
       "    .dataframe thead th {\n",
       "        text-align: right;\n",
       "    }\n",
       "</style>\n",
       "<table border=\"1\" class=\"dataframe\">\n",
       "  <thead>\n",
       "    <tr style=\"text-align: right;\">\n",
       "      <th></th>\n",
       "      <th>file</th>\n",
       "      <th>C</th>\n",
       "      <th>rho</th>\n",
       "      <th>std_rho</th>\n",
       "      <th>std_C</th>\n",
       "      <th>covcheck</th>\n",
       "      <th>numsims</th>\n",
       "      <th>glcov</th>\n",
       "      <th>etaxx</th>\n",
       "    </tr>\n",
       "  </thead>\n",
       "  <tbody>\n",
       "    <tr>\n",
       "      <th>0</th>\n",
       "      <td>samplingdist_test_2023-Feb13_1545/pertset_2_pa...</td>\n",
       "      <td>1.4271</td>\n",
       "      <td>0.715921</td>\n",
       "      <td>0.012054</td>\n",
       "      <td>0.020681</td>\n",
       "      <td>0</td>\n",
       "      <td>40</td>\n",
       "      <td>0.000498</td>\n",
       "      <td>0.012131</td>\n",
       "    </tr>\n",
       "    <tr>\n",
       "      <th>0</th>\n",
       "      <td>samplingdist_test_2023-Feb13_1545/pertset_2_pa...</td>\n",
       "      <td>1.434143</td>\n",
       "      <td>0.717179</td>\n",
       "      <td>0.011821</td>\n",
       "      <td>0.020916</td>\n",
       "      <td>0</td>\n",
       "      <td>40</td>\n",
       "      <td>0.000498</td>\n",
       "      <td>0.012055</td>\n",
       "    </tr>\n",
       "    <tr>\n",
       "      <th>0</th>\n",
       "      <td>samplingdist_test_2023-Feb13_1545/pertset_1_pa...</td>\n",
       "      <td>1.259644</td>\n",
       "      <td>0.666823</td>\n",
       "      <td>0.012522</td>\n",
       "      <td>0.018639</td>\n",
       "      <td>0</td>\n",
       "      <td>40</td>\n",
       "      <td>-0.000684</td>\n",
       "      <td>0.003962</td>\n",
       "    </tr>\n",
       "    <tr>\n",
       "      <th>0</th>\n",
       "      <td>samplingdist_test_2023-Feb13_1545/pertset_3_pa...</td>\n",
       "      <td>1.422591</td>\n",
       "      <td>0.748966</td>\n",
       "      <td>0.00902</td>\n",
       "      <td>0.023012</td>\n",
       "      <td>0</td>\n",
       "      <td>40</td>\n",
       "      <td>0.00223</td>\n",
       "      <td>0.032836</td>\n",
       "    </tr>\n",
       "    <tr>\n",
       "      <th>0</th>\n",
       "      <td>samplingdist_test_2023-Feb13_1545/pertset_3_pa...</td>\n",
       "      <td>1.41813</td>\n",
       "      <td>0.749505</td>\n",
       "      <td>0.009084</td>\n",
       "      <td>0.022966</td>\n",
       "      <td>0</td>\n",
       "      <td>40</td>\n",
       "      <td>0.00223</td>\n",
       "      <td>0.032986</td>\n",
       "    </tr>\n",
       "    <tr>\n",
       "      <th>0</th>\n",
       "      <td>samplingdist_test_2023-Feb13_1545/pertset_1_pa...</td>\n",
       "      <td>1.251671</td>\n",
       "      <td>0.667903</td>\n",
       "      <td>0.012157</td>\n",
       "      <td>0.018704</td>\n",
       "      <td>0</td>\n",
       "      <td>40</td>\n",
       "      <td>-0.000684</td>\n",
       "      <td>0.004012</td>\n",
       "    </tr>\n",
       "    <tr>\n",
       "      <th>0</th>\n",
       "      <td>samplingdist_test_2023-Feb13_1719/pertset_2_pa...</td>\n",
       "      <td>1.518268</td>\n",
       "      <td>0.695059</td>\n",
       "      <td>0.01173</td>\n",
       "      <td>0.023345</td>\n",
       "      <td>0</td>\n",
       "      <td>40</td>\n",
       "      <td>0.000594</td>\n",
       "      <td>0.011976</td>\n",
       "    </tr>\n",
       "    <tr>\n",
       "      <th>0</th>\n",
       "      <td>samplingdist_test_2023-Feb13_1719/pertset_2_pa...</td>\n",
       "      <td>1.524904</td>\n",
       "      <td>0.696838</td>\n",
       "      <td>0.011699</td>\n",
       "      <td>0.023481</td>\n",
       "      <td>0</td>\n",
       "      <td>40</td>\n",
       "      <td>0.000594</td>\n",
       "      <td>0.01188</td>\n",
       "    </tr>\n",
       "    <tr>\n",
       "      <th>0</th>\n",
       "      <td>samplingdist_test_2023-Feb13_1719/pertset_1_pa...</td>\n",
       "      <td>1.44574</td>\n",
       "      <td>0.685837</td>\n",
       "      <td>0.012596</td>\n",
       "      <td>0.021561</td>\n",
       "      <td>0</td>\n",
       "      <td>40</td>\n",
       "      <td>-0.000094</td>\n",
       "      <td>0.003124</td>\n",
       "    </tr>\n",
       "    <tr>\n",
       "      <th>0</th>\n",
       "      <td>samplingdist_test_2023-Feb13_1719/pertset_3_pa...</td>\n",
       "      <td>1.439943</td>\n",
       "      <td>0.733261</td>\n",
       "      <td>0.010629</td>\n",
       "      <td>0.022419</td>\n",
       "      <td>0</td>\n",
       "      <td>40</td>\n",
       "      <td>0.001985</td>\n",
       "      <td>0.03134</td>\n",
       "    </tr>\n",
       "    <tr>\n",
       "      <th>0</th>\n",
       "      <td>samplingdist_test_2023-Feb13_1719/pertset_3_pa...</td>\n",
       "      <td>1.439207</td>\n",
       "      <td>0.733135</td>\n",
       "      <td>0.010813</td>\n",
       "      <td>0.022286</td>\n",
       "      <td>0</td>\n",
       "      <td>40</td>\n",
       "      <td>0.001985</td>\n",
       "      <td>0.031422</td>\n",
       "    </tr>\n",
       "    <tr>\n",
       "      <th>0</th>\n",
       "      <td>samplingdist_test_2023-Feb13_1719/pertset_1_pa...</td>\n",
       "      <td>1.437461</td>\n",
       "      <td>0.685083</td>\n",
       "      <td>0.012763</td>\n",
       "      <td>0.021408</td>\n",
       "      <td>0</td>\n",
       "      <td>40</td>\n",
       "      <td>-0.000094</td>\n",
       "      <td>0.003147</td>\n",
       "    </tr>\n",
       "  </tbody>\n",
       "</table>\n",
       "</div>"
      ],
      "text/plain": [
       "                                                file         C       rho  \\\n",
       "0  samplingdist_test_2023-Feb13_1545/pertset_2_pa...    1.4271  0.715921   \n",
       "0  samplingdist_test_2023-Feb13_1545/pertset_2_pa...  1.434143  0.717179   \n",
       "0  samplingdist_test_2023-Feb13_1545/pertset_1_pa...  1.259644  0.666823   \n",
       "0  samplingdist_test_2023-Feb13_1545/pertset_3_pa...  1.422591  0.748966   \n",
       "0  samplingdist_test_2023-Feb13_1545/pertset_3_pa...   1.41813  0.749505   \n",
       "0  samplingdist_test_2023-Feb13_1545/pertset_1_pa...  1.251671  0.667903   \n",
       "0  samplingdist_test_2023-Feb13_1719/pertset_2_pa...  1.518268  0.695059   \n",
       "0  samplingdist_test_2023-Feb13_1719/pertset_2_pa...  1.524904  0.696838   \n",
       "0  samplingdist_test_2023-Feb13_1719/pertset_1_pa...   1.44574  0.685837   \n",
       "0  samplingdist_test_2023-Feb13_1719/pertset_3_pa...  1.439943  0.733261   \n",
       "0  samplingdist_test_2023-Feb13_1719/pertset_3_pa...  1.439207  0.733135   \n",
       "0  samplingdist_test_2023-Feb13_1719/pertset_1_pa...  1.437461  0.685083   \n",
       "\n",
       "    std_rho     std_C covcheck numsims     glcov     etaxx  \n",
       "0  0.012054  0.020681        0      40  0.000498  0.012131  \n",
       "0  0.011821  0.020916        0      40  0.000498  0.012055  \n",
       "0  0.012522  0.018639        0      40 -0.000684  0.003962  \n",
       "0   0.00902  0.023012        0      40   0.00223  0.032836  \n",
       "0  0.009084  0.022966        0      40   0.00223  0.032986  \n",
       "0  0.012157  0.018704        0      40 -0.000684  0.004012  \n",
       "0   0.01173  0.023345        0      40  0.000594  0.011976  \n",
       "0  0.011699  0.023481        0      40  0.000594   0.01188  \n",
       "0  0.012596  0.021561        0      40 -0.000094  0.003124  \n",
       "0  0.010629  0.022419        0      40  0.001985   0.03134  \n",
       "0  0.010813  0.022286        0      40  0.001985  0.031422  \n",
       "0  0.012763  0.021408        0      40 -0.000094  0.003147  "
      ]
     },
     "execution_count": 9,
     "metadata": {},
     "output_type": "execute_result"
    }
   ],
   "source": [
    "pertdata"
   ]
  },
  {
   "attachments": {},
   "cell_type": "markdown",
   "metadata": {},
   "source": [
    "All of the points, regardless if good or not"
   ]
  },
  {
   "cell_type": "code",
   "execution_count": 18,
   "metadata": {},
   "outputs": [
    {
     "data": {
      "image/png": "[encoded data removed]",
      "text/plain": [
       "<Figure size 432x288 with 1 Axes>"
      ]
     },
     "metadata": {},
     "output_type": "display_data"
    }
   ],
   "source": [
    "plotted = pertdata[(pertdata['covcheck']==0)&(pertdata['numsims']>9)]\n",
    "f2,ax2 = plt.subplots()\n",
    "ax2.set(ylim=(0.4,1),xlabel=r\"$CV_{\\bar{y}}/CV_{\\bar{x}} $\",ylabel=r\"$\\rho_{\\bar{x} \\bar{y}}$\")\n",
    "plt.errorbar(y=\"rho\", x=\"C\", xerr=\"std_C\", \n",
    "              yerr=\"std_rho\", elinewidth=1,data=plotted, label=None, capsize=1, capthick=1,color='k',fmt='none')\n",
    "plt.plot(np.linspace(0.9*plotted[\"C\"].min(),(1.1)*plotted[\"C\"].max()),1/np.linspace(0.9*plotted[\"C\"].min(),(1.1)*plotted[\"C\"].max()),'--',color='gray')\n",
    "sns.scatterplot(data=plotted,x=\"C\",y=\"rho\",hue='covcheck',\n",
    "                alpha=1,edgecolor='k',legend=False,\n",
    "                marker='s',palette=['#DC267F'],s=15)\n",
    "plt.tight_layout()\n",
    "plt.savefig(\"nofbsims_sampling.svg\",transparent=True)"
   ]
  },
  {
   "attachments": {},
   "cell_type": "markdown",
   "metadata": {},
   "source": [
    "Correction for calcualted covariance"
   ]
  },
  {
   "cell_type": "code",
   "execution_count": 21,
   "metadata": {},
   "outputs": [
    {
     "data": {
      "image/png": "[encoded data removed]",
      "text/plain": [
       "<Figure size 432x288 with 1 Axes>"
      ]
     },
     "metadata": {},
     "output_type": "display_data"
    }
   ],
   "source": [
    "pertdata['rho/(1+glcov/etaxx)'] = pertdata['rho']/(1+(pertdata['glcov']/pertdata['etaxx']))\n",
    "plotted = pertdata[(pertdata['covcheck']==0)&(pertdata['numsims']>9)]\n",
    "f2,ax2 = plt.subplots()\n",
    "ax2.set(ylim=(0.4,1),xlabel=r\"$CV_{\\bar{y}}/CV_{\\bar{x}} $\",ylabel=r\"$\\rho_{\\bar{x} \\bar{y}}/\\left(1+\\frac{\\eta_{ab}}{\\eta_{\\bar{x}\\bar{x}}} \\right)$\")\n",
    "plt.errorbar(y='rho/(1+glcov/etaxx)', x=\"C\", xerr=\"std_C\", \n",
    "              yerr=\"std_rho\", elinewidth=1,data=plotted, label=None, capsize=1, capthick=1,color='k',fmt='none')\n",
    "plt.plot(np.linspace(0.9*plotted[\"C\"].min(),(1.1)*plotted[\"C\"].max()),1/np.linspace(0.9*plotted[\"C\"].min(),(1.1)*plotted[\"C\"].max()),'--',color='gray')\n",
    "sns.scatterplot(data=plotted,x=\"C\",y='rho/(1+glcov/etaxx)',hue='covcheck',\n",
    "                alpha=1,edgecolor='k',\n",
    "                marker='s',palette=['#DC267F'],s=15,legend=False)\n",
    "plt.tight_layout()\n",
    "plt.savefig(\"nofbsims_sampling_corrected.svg\",transparent=True)"
   ]
  },
  {
   "attachments": {},
   "cell_type": "markdown",
   "metadata": {},
   "source": [
    "just points where all sims passed covcheck"
   ]
  },
  {
   "cell_type": "code",
   "execution_count": 12,
   "metadata": {},
   "outputs": [
    {
     "data": {
      "image/png": "[encoded data removed]",
      "text/plain": [
       "<Figure size 432x288 with 1 Axes>"
      ]
     },
     "metadata": {},
     "output_type": "display_data"
    }
   ],
   "source": [
    "cleared = pertdata[pertdata[\"covcheck\"]==0]\n",
    "sns.scatterplot(data=cleared,x=\"C\",y=\"rho\",hue='numsims')\n",
    "plt.errorbar(y=\"rho\", x=\"C\", xerr=\"std_C\", \n",
    "              yerr=\"std_rho\", elinewidth=0.5,data=cleared, label=None, capsize=2, capthick=0.5,color='k',fmt='none',zorder=-1)\n",
    "plt.plot(np.linspace(1,cleared[\"C\"].max()),1/np.linspace(1,cleared[\"C\"].max()))\n",
    "plt.plot(np.linspace(0.5,1),np.linspace(0.5,1))\n",
    "plt.xscale('log')"
   ]
  },
  {
   "cell_type": "code",
   "execution_count": null,
   "metadata": {},
   "outputs": [],
   "source": []
  }
 ],
 "metadata": {
  "kernelspec": {
   "display_name": "data_analysis",
   "language": "python",
   "name": "python3"
  },
  "language_info": {
   "codemirror_mode": {
    "name": "ipython",
    "version": 3
   },
   "file_extension": ".py",
   "mimetype": "text/x-python",
   "name": "python",
   "nbconvert_exporter": "python",
   "pygments_lexer": "ipython3",
   "version": "3.8.12"
  },
  "orig_nbformat": 4,
  "vscode": {
   "interpreter": {
    "hash": "99be9620eabd8c8d248f2fca6fe1036ffe8995492cebd7a6acb862d91adb3149"
   }
  }
 },
 "nbformat": 4,
 "nbformat_minor": 2
}
