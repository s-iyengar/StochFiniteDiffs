{
 "cells": [
  {
   "cell_type": "code",
   "execution_count": 1,
   "metadata": {},
   "outputs": [],
   "source": [
    "import matplotlib.pyplot as plt\n",
    "import pandas as pd\n",
    "import seaborn as sns\n",
    "import glob\n",
    "import numpy as np\n",
    "import itertools"
   ]
  },
  {
   "cell_type": "code",
   "execution_count": 2,
   "metadata": {},
   "outputs": [],
   "source": [
    "def bootstrap_gen(dataframe):\n",
    "    return dataframe.sample(frac=1,replace=True)\n",
    "def CVratio(experimentdata):\n",
    "    return (experimentdata[\"<y>\"].std(ddof=0)/experimentdata[\"<y>\"].mean())/(experimentdata[\"<x>\"].std(ddof=0)/experimentdata[\"<x>\"].mean())\n",
    "def xycorr(experimentdata):\n",
    "    return experimentdata[\"<x>\"].corr(experimentdata[\"<y>\"])\n",
    "def bootstrap_stderr_mean(experimentdata,f,n):\n",
    "    bootstrap_fs = [f(bootstrap_gen(experimentdata)) for i in range(n)]\n",
    "    return np.std(bootstrap_fs,ddof=0)/np.sqrt(len(experimentdata)),np.mean(bootstrap_fs)\n",
    "def joinedbootstrap(experimentdata,n):\n",
    "    rhos = []\n",
    "    Cs = []\n",
    "    for i in range(n):\n",
    "        sample = bootstrap_gen(experimentdata)\n",
    "        rhos.append(xycorr(sample))\n",
    "        Cs.append(CVratio(sample))\n",
    "    return np.std(Cs)/np.sqrt(len(experimentdata)),np.std(rhos)/np.sqrt(len(experimentdata))\n"
   ]
  },
  {
   "cell_type": "markdown",
   "metadata": {},
   "source": [
    "files = glob.glob('no_fb_sims_largerange4_2023-02-02/*_simresults.tsv')\n",
    "dfs = list()\n",
    "for f in files:\n",
    "    data = pd.read_csv(f,sep='\\t')\n",
    "    data['file'] = f\n",
    "    dfs.append(data)\n",
    "\n",
    "df = pd.concat(dfs, ignore_index=True)"
   ]
  },
  {
   "cell_type": "code",
   "execution_count": 3,
   "metadata": {},
   "outputs": [],
   "source": [
    "folders = glob.glob('samplingdist_test*')\n",
    "df = pd.DataFrame()\n",
    "for i,folder in enumerate(folders):\n",
    "    files = glob.glob(folder+'/*_simresults.tsv')\n",
    "    for f in files:\n",
    "        data = pd.read_csv(f,sep='\\t')\n",
    "        simsettings = pd.read_csv(f[:-14]+'settings.tsv',sep='\\t')\n",
    "        simsettings = simsettings.drop(['cov thres','flux thres'],axis=1)\n",
    "        data = pd.concat([data,simsettings.loc[simsettings.index.repeat(len(data))].reset_index(drop=True)],axis=1)\n",
    "        data[\"file\"] = f\n",
    "        data['covcheck'] = data['cov thres'].apply(lambda x: all(float(i) <= 0.05 for i in x.strip('[]').split(',')))\n",
    "        data['usedparams'] =  data['usedparams'].apply(lambda x: np.array([float(i) for i in x.strip('[]').split(',')]))\n",
    "        df = pd.concat([df,data],ignore_index=True)\n"
   ]
  },
  {
   "cell_type": "code",
   "execution_count": 16,
   "metadata": {},
   "outputs": [],
   "source": [
    "cols = [\"file\",\"C\",\"rho\",\"std_rho\",\"std_C\",\"covcheck\",\"numsims\",\"glcov\",\"CVx*CVy\"]\n",
    "pertdata = pd.DataFrame(columns=cols)\n",
    "for f in df['file'].unique():\n",
    "    #isolate data by parameter set\n",
    "    experimentdata = df[df[\"file\"] == f]\n",
    "    #Total sims in the point\n",
    "    nsims = len(experimentdata)\n",
    "    #number of sims in data that didn't reach cov balance\n",
    "    ncov = len(experimentdata[experimentdata[\"covcheck\"]==False])\n",
    "    #calculate quantity\n",
    "    rho = xycorr(experimentdata)\n",
    "    C_val = CVratio(experimentdata)\n",
    "    #estimate standard error by bootstrapping\n",
    "    std_Cval,std_rho = joinedbootstrap(experimentdata,10000)\n",
    "    glcov = np.cov(np.stack(experimentdata['usedparams'].to_numpy()),rowvar=False)[0,2]\n",
    "    means = np.mean(np.stack(experimentdata['usedparams'].to_numpy()),axis=0)\n",
    "    denom = (experimentdata[\"<x>\"].std()/(experimentdata[\"<x>\"].mean()))*experimentdata[\"<y>\"].std()/(experimentdata[\"<y>\"].mean())\n",
    "    \n",
    "    df2 = pd.DataFrame([[f,C_val,rho,std_rho,std_Cval,ncov,nsims,glcov/(means[0]*means[2]),denom]], columns= cols)\n",
    "    pertdata = pd.concat([pertdata,df2])"
   ]
  },
  {
   "cell_type": "code",
   "execution_count": 17,
   "metadata": {},
   "outputs": [
    {
     "data": {
      "text/html": [
       "<div>\n",
       "<style scoped>\n",
       "    .dataframe tbody tr th:only-of-type {\n",
       "        vertical-align: middle;\n",
       "    }\n",
       "\n",
       "    .dataframe tbody tr th {\n",
       "        vertical-align: top;\n",
       "    }\n",
       "\n",
       "    .dataframe thead th {\n",
       "        text-align: right;\n",
       "    }\n",
       "</style>\n",
       "<table border=\"1\" class=\"dataframe\">\n",
       "  <thead>\n",
       "    <tr style=\"text-align: right;\">\n",
       "      <th></th>\n",
       "      <th>file</th>\n",
       "      <th>C</th>\n",
       "      <th>rho</th>\n",
       "      <th>std_rho</th>\n",
       "      <th>std_C</th>\n",
       "      <th>covcheck</th>\n",
       "      <th>numsims</th>\n",
       "      <th>glcov</th>\n",
       "      <th>CVx*CVy</th>\n",
       "    </tr>\n",
       "  </thead>\n",
       "  <tbody>\n",
       "    <tr>\n",
       "      <th>0</th>\n",
       "      <td>samplingdist_test_2023-Feb13_1545/pertset_2_pa...</td>\n",
       "      <td>1.4271</td>\n",
       "      <td>0.715921</td>\n",
       "      <td>0.012021</td>\n",
       "      <td>0.021163</td>\n",
       "      <td>0</td>\n",
       "      <td>40</td>\n",
       "      <td>0.000498</td>\n",
       "      <td>0.017312</td>\n",
       "    </tr>\n",
       "    <tr>\n",
       "      <th>0</th>\n",
       "      <td>samplingdist_test_2023-Feb13_1545/pertset_2_pa...</td>\n",
       "      <td>1.434143</td>\n",
       "      <td>0.717179</td>\n",
       "      <td>0.012001</td>\n",
       "      <td>0.02087</td>\n",
       "      <td>0</td>\n",
       "      <td>40</td>\n",
       "      <td>0.000498</td>\n",
       "      <td>0.017288</td>\n",
       "    </tr>\n",
       "    <tr>\n",
       "      <th>0</th>\n",
       "      <td>samplingdist_test_2023-Feb13_1545/pertset_1_pa...</td>\n",
       "      <td>1.259644</td>\n",
       "      <td>0.666823</td>\n",
       "      <td>0.012479</td>\n",
       "      <td>0.018686</td>\n",
       "      <td>0</td>\n",
       "      <td>40</td>\n",
       "      <td>-0.000684</td>\n",
       "      <td>0.004991</td>\n",
       "    </tr>\n",
       "    <tr>\n",
       "      <th>0</th>\n",
       "      <td>samplingdist_test_2023-Feb13_1545/pertset_3_pa...</td>\n",
       "      <td>1.422591</td>\n",
       "      <td>0.748966</td>\n",
       "      <td>0.008908</td>\n",
       "      <td>0.022528</td>\n",
       "      <td>0</td>\n",
       "      <td>40</td>\n",
       "      <td>0.00223</td>\n",
       "      <td>0.046712</td>\n",
       "    </tr>\n",
       "    <tr>\n",
       "      <th>0</th>\n",
       "      <td>samplingdist_test_2023-Feb13_1545/pertset_3_pa...</td>\n",
       "      <td>1.41813</td>\n",
       "      <td>0.749505</td>\n",
       "      <td>0.008951</td>\n",
       "      <td>0.022919</td>\n",
       "      <td>0</td>\n",
       "      <td>40</td>\n",
       "      <td>0.00223</td>\n",
       "      <td>0.046779</td>\n",
       "    </tr>\n",
       "    <tr>\n",
       "      <th>0</th>\n",
       "      <td>samplingdist_test_2023-Feb13_1545/pertset_1_pa...</td>\n",
       "      <td>1.251671</td>\n",
       "      <td>0.667903</td>\n",
       "      <td>0.012274</td>\n",
       "      <td>0.01877</td>\n",
       "      <td>0</td>\n",
       "      <td>40</td>\n",
       "      <td>-0.000684</td>\n",
       "      <td>0.005021</td>\n",
       "    </tr>\n",
       "  </tbody>\n",
       "</table>\n",
       "</div>"
      ],
      "text/plain": [
       "                                                file         C       rho  \\\n",
       "0  samplingdist_test_2023-Feb13_1545/pertset_2_pa...    1.4271  0.715921   \n",
       "0  samplingdist_test_2023-Feb13_1545/pertset_2_pa...  1.434143  0.717179   \n",
       "0  samplingdist_test_2023-Feb13_1545/pertset_1_pa...  1.259644  0.666823   \n",
       "0  samplingdist_test_2023-Feb13_1545/pertset_3_pa...  1.422591  0.748966   \n",
       "0  samplingdist_test_2023-Feb13_1545/pertset_3_pa...   1.41813  0.749505   \n",
       "0  samplingdist_test_2023-Feb13_1545/pertset_1_pa...  1.251671  0.667903   \n",
       "\n",
       "    std_rho     std_C covcheck numsims     glcov   CVx*CVy  \n",
       "0  0.012021  0.021163        0      40  0.000498  0.017312  \n",
       "0  0.012001   0.02087        0      40  0.000498  0.017288  \n",
       "0  0.012479  0.018686        0      40 -0.000684  0.004991  \n",
       "0  0.008908  0.022528        0      40   0.00223  0.046712  \n",
       "0  0.008951  0.022919        0      40   0.00223  0.046779  \n",
       "0  0.012274   0.01877        0      40 -0.000684  0.005021  "
      ]
     },
     "execution_count": 17,
     "metadata": {},
     "output_type": "execute_result"
    }
   ],
   "source": [
    "pertdata"
   ]
  },
  {
   "attachments": {},
   "cell_type": "markdown",
   "metadata": {},
   "source": [
    "All of the points, regardless if good or not"
   ]
  },
  {
   "cell_type": "code",
   "execution_count": 18,
   "metadata": {},
   "outputs": [
    {
     "data": {
      "image/png": "[encoded data removed]",
      "text/plain": [
       "<Figure size 432x288 with 1 Axes>"
      ]
     },
     "metadata": {
      "needs_background": "light"
     },
     "output_type": "display_data"
    }
   ],
   "source": [
    "sns.scatterplot(data=pertdata,x=\"C\",y=\"rho\",hue='numsims')\n",
    "plt.errorbar(y=\"rho\", x=\"C\", xerr=\"std_C\", \n",
    "              yerr=\"std_rho\", elinewidth=0.5,data=pertdata, label=None, capsize=2, capthick=0.5,color='k',fmt='none')\n",
    "plt.plot(np.linspace(1,pertdata[\"C\"].max()),1/np.linspace(1,pertdata[\"C\"].max()))\n",
    "plt.plot(np.linspace(0.5,1),np.linspace(0.5,1))\n",
    "plt.xscale('log')"
   ]
  },
  {
   "cell_type": "code",
   "execution_count": 22,
   "metadata": {},
   "outputs": [
    {
     "data": {
      "text/plain": [
       "[<matplotlib.lines.Line2D at 0x15303c1c0>]"
      ]
     },
     "execution_count": 22,
     "metadata": {},
     "output_type": "execute_result"
    },
    {
     "data": {
      "image/png": "[encoded data removed]",
      "text/plain": [
       "<Figure size 432x288 with 1 Axes>"
      ]
     },
     "metadata": {
      "needs_background": "light"
     },
     "output_type": "display_data"
    }
   ],
   "source": [
    "pertdata['rho-glcov/CVx*CVy'] = pertdata['rho']-pertdata['glcov']/pertdata['CVx*CVy']\n",
    "sns.scatterplot(data=pertdata,x=\"C\",y=\"rho-glcov/CVx*CVy\",hue='numsims')\n",
    "plt.errorbar(y=\"rho-glcov/CVx*CVy\", x=\"C\", xerr=\"std_C\", \n",
    "              yerr=\"std_rho\", elinewidth=0.5,data=pertdata, label=None, capsize=2, capthick=0.5,color='k',fmt='none')\n",
    "plt.plot(np.linspace(1,pertdata[\"C\"].max()),1/np.linspace(1,pertdata[\"C\"].max()))"
   ]
  },
  {
   "attachments": {},
   "cell_type": "markdown",
   "metadata": {},
   "source": [
    "just points where all sims passed covcheck"
   ]
  },
  {
   "cell_type": "code",
   "execution_count": 6,
   "metadata": {},
   "outputs": [
    {
     "data": {
      "image/png": "[encoded data removed]",
      "text/plain": [
       "<Figure size 432x288 with 1 Axes>"
      ]
     },
     "metadata": {
      "needs_background": "light"
     },
     "output_type": "display_data"
    }
   ],
   "source": [
    "cleared = pertdata[pertdata[\"covcheck\"]==0]\n",
    "sns.scatterplot(data=cleared,x=\"C\",y=\"rho\",hue='numsims')\n",
    "plt.errorbar(y=\"rho\", x=\"C\", xerr=\"std_C\", \n",
    "              yerr=\"std_rho\", elinewidth=0.5,data=cleared, label=None, capsize=2, capthick=0.5,color='k',fmt='none',zorder=-1)\n",
    "plt.plot(np.linspace(1,cleared[\"C\"].max()),1/np.linspace(1,cleared[\"C\"].max()))\n",
    "plt.plot(np.linspace(0.5,1),np.linspace(0.5,1))\n",
    "plt.xscale('log')"
   ]
  },
  {
   "attachments": {},
   "cell_type": "markdown",
   "metadata": {},
   "source": [
    "Place to look at other slices"
   ]
  },
  {
   "cell_type": "code",
   "execution_count": 7,
   "metadata": {},
   "outputs": [
    {
     "data": {
      "text/plain": [
       "[<matplotlib.lines.Line2D at 0x1595ec7c0>]"
      ]
     },
     "execution_count": 7,
     "metadata": {},
     "output_type": "execute_result"
    },
    {
     "data": {
      "image/png": "[encoded data removed]",
      "text/plain": [
       "<Figure size 432x288 with 1 Axes>"
      ]
     },
     "metadata": {
      "needs_background": "light"
     },
     "output_type": "display_data"
    }
   ],
   "source": [
    "plotted = pertdata\n",
    "sns.scatterplot(data=plotted,x=\"C\",y=\"rho\",hue='file',alpha=1,edgecolor='k',legend=False)\n",
    "plt.errorbar(y=\"rho\", x=\"C\", xerr=\"std_C\", \n",
    "              yerr=\"std_rho\", elinewidth=0.5,data=plotted, label=None, capsize=1, capthick=0.5,color='k',fmt='none')\n",
    "plt.plot(np.linspace(0.9*plotted[\"C\"].min(),(1.1)*plotted[\"C\"].max()),1/np.linspace(0.9*plotted[\"C\"].min(),(1.1)*plotted[\"C\"].max()))"
   ]
  },
  {
   "cell_type": "code",
   "execution_count": 8,
   "metadata": {},
   "outputs": [
    {
     "data": {
      "text/html": [
       "<div>\n",
       "<style scoped>\n",
       "    .dataframe tbody tr th:only-of-type {\n",
       "        vertical-align: middle;\n",
       "    }\n",
       "\n",
       "    .dataframe tbody tr th {\n",
       "        vertical-align: top;\n",
       "    }\n",
       "\n",
       "    .dataframe thead th {\n",
       "        text-align: right;\n",
       "    }\n",
       "</style>\n",
       "<table border=\"1\" class=\"dataframe\">\n",
       "  <thead>\n",
       "    <tr style=\"text-align: right;\">\n",
       "      <th></th>\n",
       "      <th>file</th>\n",
       "      <th>C</th>\n",
       "      <th>rho</th>\n",
       "      <th>std_rho</th>\n",
       "      <th>std_C</th>\n",
       "      <th>covcheck</th>\n",
       "      <th>numsims</th>\n",
       "    </tr>\n",
       "  </thead>\n",
       "  <tbody>\n",
       "    <tr>\n",
       "      <th>0</th>\n",
       "      <td>samplingdist_test_2023-Feb13_1545/pertset_2_pa...</td>\n",
       "      <td>1.4271</td>\n",
       "      <td>0.715921</td>\n",
       "      <td>0.012117</td>\n",
       "      <td>0.020997</td>\n",
       "      <td>0</td>\n",
       "      <td>40</td>\n",
       "    </tr>\n",
       "    <tr>\n",
       "      <th>0</th>\n",
       "      <td>samplingdist_test_2023-Feb13_1545/pertset_2_pa...</td>\n",
       "      <td>1.434143</td>\n",
       "      <td>0.717179</td>\n",
       "      <td>0.012245</td>\n",
       "      <td>0.020984</td>\n",
       "      <td>0</td>\n",
       "      <td>40</td>\n",
       "    </tr>\n",
       "    <tr>\n",
       "      <th>0</th>\n",
       "      <td>samplingdist_test_2023-Feb13_1545/pertset_1_pa...</td>\n",
       "      <td>1.259644</td>\n",
       "      <td>0.666823</td>\n",
       "      <td>0.012501</td>\n",
       "      <td>0.018905</td>\n",
       "      <td>0</td>\n",
       "      <td>40</td>\n",
       "    </tr>\n",
       "    <tr>\n",
       "      <th>0</th>\n",
       "      <td>samplingdist_test_2023-Feb13_1545/pertset_3_pa...</td>\n",
       "      <td>1.422591</td>\n",
       "      <td>0.748966</td>\n",
       "      <td>0.009054</td>\n",
       "      <td>0.02293</td>\n",
       "      <td>0</td>\n",
       "      <td>40</td>\n",
       "    </tr>\n",
       "    <tr>\n",
       "      <th>0</th>\n",
       "      <td>samplingdist_test_2023-Feb13_1545/pertset_3_pa...</td>\n",
       "      <td>1.41813</td>\n",
       "      <td>0.749505</td>\n",
       "      <td>0.00905</td>\n",
       "      <td>0.022818</td>\n",
       "      <td>0</td>\n",
       "      <td>40</td>\n",
       "    </tr>\n",
       "    <tr>\n",
       "      <th>0</th>\n",
       "      <td>samplingdist_test_2023-Feb13_1545/pertset_1_pa...</td>\n",
       "      <td>1.251671</td>\n",
       "      <td>0.667903</td>\n",
       "      <td>0.012326</td>\n",
       "      <td>0.018857</td>\n",
       "      <td>0</td>\n",
       "      <td>40</td>\n",
       "    </tr>\n",
       "  </tbody>\n",
       "</table>\n",
       "</div>"
      ],
      "text/plain": [
       "                                                file         C       rho  \\\n",
       "0  samplingdist_test_2023-Feb13_1545/pertset_2_pa...    1.4271  0.715921   \n",
       "0  samplingdist_test_2023-Feb13_1545/pertset_2_pa...  1.434143  0.717179   \n",
       "0  samplingdist_test_2023-Feb13_1545/pertset_1_pa...  1.259644  0.666823   \n",
       "0  samplingdist_test_2023-Feb13_1545/pertset_3_pa...  1.422591  0.748966   \n",
       "0  samplingdist_test_2023-Feb13_1545/pertset_3_pa...   1.41813  0.749505   \n",
       "0  samplingdist_test_2023-Feb13_1545/pertset_1_pa...  1.251671  0.667903   \n",
       "\n",
       "    std_rho     std_C covcheck numsims  \n",
       "0  0.012117  0.020997        0      40  \n",
       "0  0.012245  0.020984        0      40  \n",
       "0  0.012501  0.018905        0      40  \n",
       "0  0.009054   0.02293        0      40  \n",
       "0   0.00905  0.022818        0      40  \n",
       "0  0.012326  0.018857        0      40  "
      ]
     },
     "execution_count": 8,
     "metadata": {},
     "output_type": "execute_result"
    }
   ],
   "source": [
    "pertdata"
   ]
  },
  {
   "cell_type": "code",
   "execution_count": 9,
   "metadata": {},
   "outputs": [],
   "source": [
    "df['rho_spont'] = df[\"cov(x,y)\"]/np.sqrt(df[\"Var(x)\"]*df[\"Var(y)\"])\n",
    "df['C_spont'] = (np.sqrt(df[\"Var(y)\"])/df[\"<y>\"])/(np.sqrt(df[\"Var(x)\"])/df[\"<x>\"])"
   ]
  },
  {
   "cell_type": "code",
   "execution_count": 10,
   "metadata": {},
   "outputs": [
    {
     "data": {
      "text/plain": [
       "[<matplotlib.lines.Line2D at 0x159758340>]"
      ]
     },
     "execution_count": 10,
     "metadata": {},
     "output_type": "execute_result"
    },
    {
     "data": {
      "image/png": "[encoded data removed]",
      "text/plain": [
       "<Figure size 432x288 with 1 Axes>"
      ]
     },
     "metadata": {
      "needs_background": "light"
     },
     "output_type": "display_data"
    }
   ],
   "source": [
    "#bounds = 0.9*df['C_spont'].min(),1.1*df['C_spont'].max()\n",
    "bounds=0,1.1*df['C_spont'].max()\n",
    "t=np.linspace(bounds[0],bounds[1])\n",
    "sns.scatterplot(data=df,x='C_spont',y='rho_spont',hue='<y>',palette='icefire')\n",
    "plt.plot(t,t,'k--')"
   ]
  },
  {
   "cell_type": "code",
   "execution_count": 11,
   "metadata": {},
   "outputs": [],
   "source": [
    "rs = df.groupby('file').apply(lambda x: x[\"Var(x)\"].corr(x[\"Var(y)\"]))"
   ]
  },
  {
   "cell_type": "code",
   "execution_count": 12,
   "metadata": {},
   "outputs": [],
   "source": [
    "cs = df.groupby('file').apply(lambda x: (np.std(x[\"Var(y)\"])/np.mean(x[\"Var(y)\"]))/(np.std(x[\"Var(x)\"])/np.mean(x[\"Var(x)\"])) )"
   ]
  },
  {
   "cell_type": "code",
   "execution_count": 13,
   "metadata": {},
   "outputs": [
    {
     "data": {
      "text/plain": [
       "<matplotlib.collections.PathCollection at 0x1597d1f10>"
      ]
     },
     "execution_count": 13,
     "metadata": {},
     "output_type": "execute_result"
    },
    {
     "data": {
      "image/png": "[encoded data removed]",
      "text/plain": [
       "<Figure size 432x288 with 1 Axes>"
      ]
     },
     "metadata": {
      "needs_background": "light"
     },
     "output_type": "display_data"
    }
   ],
   "source": [
    "plt.scatter(cs,rs)"
   ]
  },
  {
   "cell_type": "code",
   "execution_count": null,
   "metadata": {},
   "outputs": [],
   "source": []
  }
 ],
 "metadata": {
  "kernelspec": {
   "display_name": "data_analysis",
   "language": "python",
   "name": "python3"
  },
  "language_info": {
   "codemirror_mode": {
    "name": "ipython",
    "version": 3
   },
   "file_extension": ".py",
   "mimetype": "text/x-python",
   "name": "python",
   "nbconvert_exporter": "python",
   "pygments_lexer": "ipython3",
   "version": "3.8.12"
  },
  "orig_nbformat": 4,
  "vscode": {
   "interpreter": {
    "hash": "99be9620eabd8c8d248f2fca6fe1036ffe8995492cebd7a6acb862d91adb3149"
   }
  }
 },
 "nbformat": 4,
 "nbformat_minor": 2
}
