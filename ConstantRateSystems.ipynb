{
 "cells": [
  {
   "cell_type": "code",
   "execution_count": 1,
   "metadata": {},
   "outputs": [],
   "source": [
    "import Random\n",
    "using Distributions\n",
    "using Statistics\n",
    "using DelimitedFiles\n",
    "using Dates"
   ]
  },
  {
   "cell_type": "code",
   "execution_count": 2,
   "metadata": {},
   "outputs": [
    {
     "data": {
      "text/plain": [
       "tt_protein_fb_rates! (generic function with 1 method)"
      ]
     },
     "metadata": {},
     "output_type": "display_data"
    }
   ],
   "source": [
    "include(\"Storage.jl\")\n",
    "include(\"GillespieFunctions.jl\")\n",
    "include(\"Rates.jl\")"
   ]
  },
  {
   "cell_type": "code",
   "execution_count": 3,
   "metadata": {},
   "outputs": [
    {
     "data": {
      "text/plain": [
       "reach_balance_test (generic function with 1 method)"
      ]
     },
     "metadata": {},
     "output_type": "display_data"
    }
   ],
   "source": [
    "function data_collection(initialstate::Vector{Int64},params::Vector{Float64},outcomes,storage,numsteps::Int64,maxsteps::Int64,rng::Random.AbstractRNG,ntherm)\n",
    "    endstate,steps,weightsum = direct_gillespie!(initialstate,params,outcomes,transcription_translation_rates!,storage,updatestorage!,rng,numsteps,maxsteps,ntherm)\n",
    "    return storage,endstate,steps,weightsum\n",
    "end\n",
    "\n",
    "function reach_balance_test(initialstate,params,outcomes,numsteps,maxsteps,rng,flux_thres,cov_thres,tries,ntherm)\n",
    "    statevector = initialstate\n",
    "    trynum = 0\n",
    "    thresholdmet = false\n",
    "    totalsteps = 0\n",
    "    calcstor = BalanceEqData_nofb()\n",
    "    fluxcheck = [0,0]\n",
    "    cbvals = [0,0]\n",
    "    \n",
    "    while (trynum < tries) && (!thresholdmet)\n",
    "        calcstor,statevector,steps,lastsimtime = data_collection(statevector,params,outcomes,calcstor,numsteps,maxsteps,rng,ntherm)\n",
    "        weightsum = calcstor.weightsum\n",
    "        fluxcheck = [relative_error(calcstor.meanRpX,calcstor.meanRmX),relative_error(calcstor.meanRpY,calcstor.meanRmY)]\n",
    "        if (fluxcheck[1] < flux_thres) &&  (fluxcheck[2] < flux_thres)\n",
    "            cbxx_comp = cov_balance_comp(calcstor.CXRmX/weightsum,calcstor.CXRmX/weightsum,\n",
    "            calcstor.meanRpX+calcstor.meanRmX,calcstor.CXRpX/weightsum,calcstor.CXRpX/weightsum) \n",
    "            cbyy_comp = cov_balance_comp(calcstor.CYRmY/weightsum,calcstor.CYRmY/weightsum,\n",
    "                            calcstor.meanRpY+calcstor.meanRmY,calcstor.CYRpY/weightsum,calcstor.CYRpY/weightsum) \n",
    "            cbyx_comp = cov_balance_comp(calcstor.CYRmX/weightsum,calcstor.CXRmY/weightsum,\n",
    "                            0,calcstor.CYRpX/weightsum,calcstor.CXRpY/weightsum) \n",
    "            cbvals = [cbxx_comp,cbyy_comp,cbyx_comp]\n",
    "            thresholdmet = all(cbvals .< cov_thres)               \n",
    "        end\n",
    "        trynum += 1\n",
    "        totalsteps += steps\n",
    "        if maxsteps>100000\n",
    "            maxsteps = maxsteps ÷ 2\n",
    "        end\n",
    "    end\n",
    "return calcstor,totalsteps,trynum,fluxcheck,cbvals\n",
    "end"
   ]
  },
  {
   "attachments": {},
   "cell_type": "markdown",
   "metadata": {},
   "source": [
    "Run some number of simulations, storing the used parameters+simulation constraints. Save each simulation's output into a big CSV. Finally, go through the results and calculate the perturbation data"
   ]
  },
  {
   "attachments": {},
   "cell_type": "markdown",
   "metadata": {},
   "source": [
    "Generate truly independent perts: cartesian product of all the values you want to multiply"
   ]
  },
  {
   "cell_type": "code",
   "execution_count": 9,
   "metadata": {},
   "outputs": [
    {
     "data": {
      "text/plain": [
       "27-element Vector{Vector{Float64}}:\n",
       " [1.0, 1.0, 1.0, 1.0]\n",
       " [1.0, 1.0, 1.2, 1.0]\n",
       " [1.0, 1.0, 0.8, 1.0]\n",
       " [1.0, 0.8, 1.0, 1.0]\n",
       " [1.0, 0.8, 1.2, 1.0]\n",
       " [1.0, 0.8, 0.8, 1.0]\n",
       " [1.0, 1.2, 1.0, 1.0]\n",
       " [1.0, 1.2, 1.2, 1.0]\n",
       " [1.0, 1.2, 0.8, 1.0]\n",
       " [1.1, 1.0, 1.0, 1.0]\n",
       " ⋮\n",
       " [0.9, 1.0, 1.0, 1.0]\n",
       " [0.9, 1.0, 1.2, 1.0]\n",
       " [0.9, 1.0, 0.8, 1.0]\n",
       " [0.9, 0.8, 1.0, 1.0]\n",
       " [0.9, 0.8, 1.2, 1.0]\n",
       " [0.9, 0.8, 0.8, 1.0]\n",
       " [0.9, 1.2, 1.0, 1.0]\n",
       " [0.9, 1.2, 1.2, 1.0]\n",
       " [0.9, 1.2, 0.8, 1.0]"
      ]
     },
     "metadata": {},
     "output_type": "display_data"
    }
   ],
   "source": [
    "lambdas = [1,1.1,0.9]\n",
    "betaxs = [1,0.8,1.2]\n",
    "gammas = [1,1.2,0.8]\n",
    "betays = [1]\n",
    "\n",
    "independentperts = [[d_l,d_bx,d_g,d_by] for d_l in lambdas for d_bx in betaxs for d_g in gammas for d_by in betays]"
   ]
  },
  {
   "cell_type": "code",
   "execution_count": 10,
   "metadata": {},
   "outputs": [
    {
     "name": "stdout",
     "output_type": "stream",
     "text": [
      "Paramset [[25.0, 1.0, 2.0, 1.0], [10.0, 1.0, 20.0, 5.0], [50.0, 2.0, 1.0, 1.0]]\n"
     ]
    },
    {
     "ename": "InterruptException",
     "evalue": "InterruptException:",
     "output_type": "error",
     "traceback": [
      "InterruptException:\n",
      "\n",
      "Stacktrace:\n",
      "  [1] direct_gillespie!(statevector::Vector{Int64}, params::Vector{Float64}, outcomes::Matrix{Int64}, rate_calc!::typeof(transcription_translation_rates!), calcstor::BalanceEqData_nofb, updatestorage!::typeof(updatestorage!), rng::Random.Xoshiro, numsteps::Int64, maxsteps::Int64, ntherm::Int64)\n",
      "    @ Main ~/Library/CloudStorage/OneDrive-UniversityofToronto/StochFiniteDiffs/GillespieFunctions.jl:76\n",
      "  [2] data_collection\n",
      "    @ ~/Library/CloudStorage/OneDrive-UniversityofToronto/StochFiniteDiffs/ConstantRateSystems.ipynb:2 [inlined]\n",
      "  [3] reach_balance_test(initialstate::Vector{Int64}, params::Vector{Float64}, outcomes::Matrix{Int64}, numsteps::Int64, maxsteps::Int64, rng::Random.Xoshiro, flux_thres::Float64, cov_thres::Float64, tries::Int64, ntherm::Int64)\n",
      "    @ Main ~/Library/CloudStorage/OneDrive-UniversityofToronto/StochFiniteDiffs/ConstantRateSystems.ipynb:16\n",
      "  [4] eval\n",
      "    @ ./boot.jl:373 [inlined]\n",
      "  [5] include_string(mapexpr::typeof(REPL.softscope), mod::Module, code::String, filename::String)\n",
      "    @ Base ./loading.jl:1196\n",
      "  [6] #invokelatest#2\n",
      "    @ ./essentials.jl:716 [inlined]\n",
      "  [7] invokelatest\n",
      "    @ ./essentials.jl:714 [inlined]\n",
      "  [8] (::VSCodeServer.var\"#198#199\"{VSCodeServer.NotebookRunCellArguments, String})()\n",
      "    @ VSCodeServer ~/.vscode/extensions/julialang.language-julia-1.38.2/scripts/packages/VSCodeServer/src/serve_notebook.jl:19\n",
      "  [9] withpath(f::VSCodeServer.var\"#198#199\"{VSCodeServer.NotebookRunCellArguments, String}, path::String)\n",
      "    @ VSCodeServer ~/.vscode/extensions/julialang.language-julia-1.38.2/scripts/packages/VSCodeServer/src/repl.jl:249\n",
      " [10] notebook_runcell_request(conn::VSCodeServer.JSONRPC.JSONRPCEndpoint{Base.PipeEndpoint, Base.PipeEndpoint}, params::VSCodeServer.NotebookRunCellArguments)\n",
      "    @ VSCodeServer ~/.vscode/extensions/julialang.language-julia-1.38.2/scripts/packages/VSCodeServer/src/serve_notebook.jl:13\n",
      " [11] dispatch_msg(x::VSCodeServer.JSONRPC.JSONRPCEndpoint{Base.PipeEndpoint, Base.PipeEndpoint}, dispatcher::VSCodeServer.JSONRPC.MsgDispatcher, msg::Dict{String, Any})\n",
      "    @ VSCodeServer.JSONRPC ~/.vscode/extensions/julialang.language-julia-1.38.2/scripts/packages/JSONRPC/src/typed.jl:67\n",
      " [12] serve_notebook(pipename::String, outputchannel_logger::Base.CoreLogging.SimpleLogger; crashreporting_pipename::String)\n",
      "    @ VSCodeServer ~/.vscode/extensions/julialang.language-julia-1.38.2/scripts/packages/VSCodeServer/src/serve_notebook.jl:139\n",
      " [13] top-level scope\n",
      "    @ ~/.vscode/extensions/julialang.language-julia-1.38.2/scripts/notebook/notebook.jl:32"
     ]
    }
   ],
   "source": [
    "folder = \"constx_sims_largey_\"*Dates.format(now(),\"yyyy-udd_HHMM\")*\"/\"\n",
    "#mkdir(folder)\n",
    "is = [10,10]\n",
    "outcomes = [1 0 ; -1 0; 0 1 ; 0 -1]\n",
    "numsteps = Int(10e6)\n",
    "maxsteps = Int(10e8)\n",
    "fluxt = 0.02\n",
    "covt = 0.05\n",
    "tries = 40\n",
    "ntherm = Int(10e5)\n",
    "\n",
    "paramsets = [\n",
    "    [25.,1.,20.,0.5],\n",
    "    [10.,1.,50.,1.],\n",
    "    [50.,1.,50.,1.]]\n",
    "for (k,params) in enumerate(paramsets)\n",
    "    i = k\n",
    "    println(\"Paramset $(paramsets)\")\n",
    "    pertparams = copy(params)\n",
    "    open(folder*\"paramset_$(i)_settings.tsv\", \"w\") do io\n",
    "        titles = [\"params\",\"outcomes\",\"initialstate\",\"numsteps\",\"maxsteps\",\"flux thres\",\"cov thres\",\"max tries\",\"thermalisation\"]\n",
    "        data = [params,outcomes,is,numsteps,maxsteps,fluxt,covt,tries,ntherm]\n",
    "        writedlm(io,reshape(titles,1,length(titles)))\n",
    "        writedlm(io,reshape(data,1,length(data)))\n",
    "    end;\n",
    "    open(folder*\"paramset_$(i)_simresults.tsv\", \"w\") do io\n",
    "        titles = [\"sim #\",\"time\",\"steps\",\"flux thres\",\"cov thres\",\"<x>\",\"<y>\",\"Var(x)\",\"Var(y)\",\"cov(x,y)\",\"usedparams\"]\n",
    "        writedlm(io, reshape(titles,1,length(titles)))\n",
    "    end;\n",
    "    for (j,perturbation) in enumerate(independentperts)\n",
    "        statevector = copy(is)\n",
    "        pertparams .*= perturbation\n",
    "        rng = Random.Xoshiro()\n",
    "        calcstor,totalsteps,trynum,fluxcheck,cbvals = reach_balance_test(statevector,pertparams,outcomes,numsteps,maxsteps,rng,fluxt,covt,tries,ntherm)\n",
    "        open(folder*\"paramset_$(i)_simresults.tsv\", \"a+\") do io\n",
    "            data = [j,calcstor.weightsum,totalsteps,fluxcheck,cbvals,calcstor.meanx,calcstor.meany,calcstor.VX/calcstor.weightsum,calcstor.VY/calcstor.weightsum,calcstor.CXY/calcstor.weightsum,pertparams]\n",
    "            writedlm(io, reshape(data,1,length(data)))\n",
    "        end;\n",
    "        pertparams ./= perturbation\n",
    "    end\n",
    "end"
   ]
  },
  {
   "cell_type": "code",
   "execution_count": null,
   "metadata": {},
   "outputs": [],
   "source": []
  }
 ],
 "metadata": {
  "kernelspec": {
   "display_name": "Julia 1.7.2",
   "language": "julia",
   "name": "julia-1.7"
  },
  "language_info": {
   "file_extension": ".jl",
   "mimetype": "application/julia",
   "name": "julia",
   "version": "1.7.2"
  },
  "orig_nbformat": 4
 },
 "nbformat": 4,
 "nbformat_minor": 2
}
