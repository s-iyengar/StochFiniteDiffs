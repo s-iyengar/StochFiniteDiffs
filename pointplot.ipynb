{
 "cells": [
  {
   "cell_type": "code",
   "execution_count": 43,
   "metadata": {},
   "outputs": [],
   "source": [
    "import matplotlib.pyplot as plt\n",
    "import numpy as np\n",
    "import pandas as pd\n",
    "import seaborn as sns\n",
    "import glob"
   ]
  },
  {
   "cell_type": "code",
   "execution_count": 40,
   "metadata": {},
   "outputs": [],
   "source": [
    "points = pd.read_csv(\"pertresults/2023-Jan24_2156_res.csv\",\n",
    "                    names = [\"C\",\"rho\",\"meanFy\",\"varx\",\"vary\",\"varFy\"])\n",
    "points[\"Fysign\"] = np.sign(points[\"meanFy\"])"
   ]
  },
  {
   "cell_type": "code",
   "execution_count": 41,
   "metadata": {},
   "outputs": [
    {
     "data": {
      "text/html": [
       "<div>\n",
       "<style scoped>\n",
       "    .dataframe tbody tr th:only-of-type {\n",
       "        vertical-align: middle;\n",
       "    }\n",
       "\n",
       "    .dataframe tbody tr th {\n",
       "        vertical-align: top;\n",
       "    }\n",
       "\n",
       "    .dataframe thead th {\n",
       "        text-align: right;\n",
       "    }\n",
       "</style>\n",
       "<table border=\"1\" class=\"dataframe\">\n",
       "  <thead>\n",
       "    <tr style=\"text-align: right;\">\n",
       "      <th></th>\n",
       "      <th>C</th>\n",
       "      <th>rho</th>\n",
       "      <th>meanFy</th>\n",
       "      <th>varx</th>\n",
       "      <th>vary</th>\n",
       "      <th>varFy</th>\n",
       "      <th>Fysign</th>\n",
       "    </tr>\n",
       "  </thead>\n",
       "  <tbody>\n",
       "    <tr>\n",
       "      <th>0</th>\n",
       "      <td>0.508537</td>\n",
       "      <td>-0.422873</td>\n",
       "      <td>-6.690222e-02</td>\n",
       "      <td>0.004670</td>\n",
       "      <td>2.369780</td>\n",
       "      <td>6.341706e-06</td>\n",
       "      <td>-1.0</td>\n",
       "    </tr>\n",
       "    <tr>\n",
       "      <th>1</th>\n",
       "      <td>0.381679</td>\n",
       "      <td>-0.729424</td>\n",
       "      <td>-1.451942e-01</td>\n",
       "      <td>0.011449</td>\n",
       "      <td>1.651993</td>\n",
       "      <td>3.943925e-05</td>\n",
       "      <td>-1.0</td>\n",
       "    </tr>\n",
       "    <tr>\n",
       "      <th>2</th>\n",
       "      <td>1.206277</td>\n",
       "      <td>0.830850</td>\n",
       "      <td>0.000000e+00</td>\n",
       "      <td>0.482532</td>\n",
       "      <td>439.710545</td>\n",
       "      <td>0.000000e+00</td>\n",
       "      <td>0.0</td>\n",
       "    </tr>\n",
       "    <tr>\n",
       "      <th>3</th>\n",
       "      <td>1.525130</td>\n",
       "      <td>0.653218</td>\n",
       "      <td>2.110889e-05</td>\n",
       "      <td>1.876214</td>\n",
       "      <td>2259.544481</td>\n",
       "      <td>2.390565e-11</td>\n",
       "      <td>1.0</td>\n",
       "    </tr>\n",
       "    <tr>\n",
       "      <th>4</th>\n",
       "      <td>1.353982</td>\n",
       "      <td>0.733922</td>\n",
       "      <td>6.289096e-07</td>\n",
       "      <td>2.086604</td>\n",
       "      <td>2236.056729</td>\n",
       "      <td>2.602253e-14</td>\n",
       "      <td>1.0</td>\n",
       "    </tr>\n",
       "    <tr>\n",
       "      <th>5</th>\n",
       "      <td>0.519683</td>\n",
       "      <td>-0.436576</td>\n",
       "      <td>-9.166642e-02</td>\n",
       "      <td>0.011825</td>\n",
       "      <td>2.199041</td>\n",
       "      <td>1.380493e-05</td>\n",
       "      <td>-1.0</td>\n",
       "    </tr>\n",
       "    <tr>\n",
       "      <th>6</th>\n",
       "      <td>0.450336</td>\n",
       "      <td>-0.491603</td>\n",
       "      <td>-1.233488e-01</td>\n",
       "      <td>0.011842</td>\n",
       "      <td>1.761320</td>\n",
       "      <td>2.890139e-05</td>\n",
       "      <td>-1.0</td>\n",
       "    </tr>\n",
       "    <tr>\n",
       "      <th>7</th>\n",
       "      <td>1.542546</td>\n",
       "      <td>0.653105</td>\n",
       "      <td>0.000000e+00</td>\n",
       "      <td>0.184289</td>\n",
       "      <td>366.748191</td>\n",
       "      <td>0.000000e+00</td>\n",
       "      <td>0.0</td>\n",
       "    </tr>\n",
       "    <tr>\n",
       "      <th>8</th>\n",
       "      <td>1.381340</td>\n",
       "      <td>0.730204</td>\n",
       "      <td>1.167057e-05</td>\n",
       "      <td>1.017232</td>\n",
       "      <td>2539.083956</td>\n",
       "      <td>6.514677e-12</td>\n",
       "      <td>1.0</td>\n",
       "    </tr>\n",
       "    <tr>\n",
       "      <th>9</th>\n",
       "      <td>1.493722</td>\n",
       "      <td>0.675281</td>\n",
       "      <td>2.307019e-07</td>\n",
       "      <td>1.089271</td>\n",
       "      <td>5615.286330</td>\n",
       "      <td>4.322291e-15</td>\n",
       "      <td>1.0</td>\n",
       "    </tr>\n",
       "  </tbody>\n",
       "</table>\n",
       "</div>"
      ],
      "text/plain": [
       "          C       rho        meanFy      varx         vary         varFy  \\\n",
       "0  0.508537 -0.422873 -6.690222e-02  0.004670     2.369780  6.341706e-06   \n",
       "1  0.381679 -0.729424 -1.451942e-01  0.011449     1.651993  3.943925e-05   \n",
       "2  1.206277  0.830850  0.000000e+00  0.482532   439.710545  0.000000e+00   \n",
       "3  1.525130  0.653218  2.110889e-05  1.876214  2259.544481  2.390565e-11   \n",
       "4  1.353982  0.733922  6.289096e-07  2.086604  2236.056729  2.602253e-14   \n",
       "5  0.519683 -0.436576 -9.166642e-02  0.011825     2.199041  1.380493e-05   \n",
       "6  0.450336 -0.491603 -1.233488e-01  0.011842     1.761320  2.890139e-05   \n",
       "7  1.542546  0.653105  0.000000e+00  0.184289   366.748191  0.000000e+00   \n",
       "8  1.381340  0.730204  1.167057e-05  1.017232  2539.083956  6.514677e-12   \n",
       "9  1.493722  0.675281  2.307019e-07  1.089271  5615.286330  4.322291e-15   \n",
       "\n",
       "   Fysign  \n",
       "0    -1.0  \n",
       "1    -1.0  \n",
       "2     0.0  \n",
       "3     1.0  \n",
       "4     1.0  \n",
       "5    -1.0  \n",
       "6    -1.0  \n",
       "7     0.0  \n",
       "8     1.0  \n",
       "9     1.0  "
      ]
     },
     "execution_count": 41,
     "metadata": {},
     "output_type": "execute_result"
    }
   ],
   "source": [
    "points"
   ]
  },
  {
   "cell_type": "code",
   "execution_count": 42,
   "metadata": {},
   "outputs": [
    {
     "name": "stderr",
     "output_type": "stream",
     "text": [
      "/var/folders/tm/37ds31ds14913tj9402vqksr0000gn/T/ipykernel_7683/932509722.py:2: RuntimeWarning: divide by zero encountered in true_divide\n",
      "  plt.plot(np.linspace(0,3),1/np.linspace(0,3))\n"
     ]
    },
    {
     "data": {
      "text/plain": [
       "(0.0, 3.0)"
      ]
     },
     "execution_count": 42,
     "metadata": {},
     "output_type": "execute_result"
    },
    {
     "data": {
      "image/png": "[encoded data removed]",
      "text/plain": [
       "<Figure size 432x288 with 1 Axes>"
      ]
     },
     "metadata": {
      "needs_background": "light"
     },
     "output_type": "display_data"
    }
   ],
   "source": [
    "sns.scatterplot(data=points,x=\"C\",y=\"rho\",hue=\"Fysign\")\n",
    "plt.plot(np.linspace(0,3),1/np.linspace(0,3))\n",
    "plt.plot(np.linspace(0,3),np.linspace(0,3))\n",
    "plt.ylim(-1,1)\n",
    "plt.xlim(0,3)"
   ]
  },
  {
   "cell_type": "code",
   "execution_count": 51,
   "metadata": {},
   "outputs": [
    {
     "name": "stdout",
     "output_type": "stream",
     "text": [
      "pertresults/2023-Jan24_1237_res.csv\n",
      "pertresults/2023-Jan24_1728_res.csv\n",
      "pertresults/2023-Jan24_1827_res.csv\n",
      "pertresults/2023-Jan24_1511_res.csv\n",
      "pertresults/2023-Jan24_2156_res.csv\n",
      "pertresults/2023-Jan24_1339_res.csv\n",
      "pertresults/2023-Jan24_1352_res.csv\n"
     ]
    }
   ],
   "source": [
    "for i in glob.iglob(\"pertresults/*.csv\"):\n",
    "    print(i)"
   ]
  },
  {
   "cell_type": "code",
   "execution_count": 61,
   "metadata": {},
   "outputs": [],
   "source": [
    "allfiles = pd.concat(map(lambda x: pd.read_csv(x,names = [\"C\",\"rho\",\"meanFy\",\"varx\",\"vary\",\"varFy\"]),glob.glob(\"pertresults/*.csv\")))\n",
    "allfiles[\"Fysign\"] = np.sign(allfiles[\"meanFy\"])\n",
    "allfiles[\"1/C\"] = 1/allfiles[\"C\"]"
   ]
  },
  {
   "cell_type": "code",
   "execution_count": 62,
   "metadata": {},
   "outputs": [
    {
     "name": "stderr",
     "output_type": "stream",
     "text": [
      "/var/folders/tm/37ds31ds14913tj9402vqksr0000gn/T/ipykernel_7683/28344831.py:2: RuntimeWarning: divide by zero encountered in true_divide\n",
      "  plt.plot(np.linspace(0,3),1/np.linspace(0,3))\n"
     ]
    },
    {
     "data": {
      "text/plain": [
       "(0.0, 3.0)"
      ]
     },
     "execution_count": 62,
     "metadata": {},
     "output_type": "execute_result"
    },
    {
     "data": {
      "image/png": "[encoded data removed]",
      "text/plain": [
       "<Figure size 432x288 with 1 Axes>"
      ]
     },
     "metadata": {
      "needs_background": "light"
     },
     "output_type": "display_data"
    }
   ],
   "source": [
    "sns.scatterplot(data=allfiles,x=\"C\",y=\"rho\",hue=\"Fysign\")\n",
    "plt.plot(np.linspace(0,3),1/np.linspace(0,3))\n",
    "plt.plot(np.linspace(0,3),np.linspace(0,3))\n",
    "plt.ylim(-1,1)\n",
    "plt.xlim(0,3)"
   ]
  },
  {
   "cell_type": "code",
   "execution_count": 64,
   "metadata": {},
   "outputs": [],
   "source": [
    "outlierhunt = allfiles[(allfiles[\"Fysign\"]==0) & (allfiles['rho']>allfiles[\"1/C\"])]"
   ]
  },
  {
   "cell_type": "code",
   "execution_count": 65,
   "metadata": {},
   "outputs": [
    {
     "data": {
      "text/plain": [
       "2     0.002344\n",
       "3     0.026407\n",
       "7     0.009860\n",
       "12    0.004270\n",
       "3     0.055544\n",
       "2     0.002235\n",
       "7     0.007444\n",
       "dtype: float64"
      ]
     },
     "execution_count": 65,
     "metadata": {},
     "output_type": "execute_result"
    }
   ],
   "source": [
    "(outlierhunt['rho']-outlierhunt[\"1/C\"])/outlierhunt[\"1/C\"]"
   ]
  },
  {
   "cell_type": "code",
   "execution_count": 66,
   "metadata": {},
   "outputs": [
    {
     "data": {
      "text/html": [
       "<div>\n",
       "<style scoped>\n",
       "    .dataframe tbody tr th:only-of-type {\n",
       "        vertical-align: middle;\n",
       "    }\n",
       "\n",
       "    .dataframe tbody tr th {\n",
       "        vertical-align: top;\n",
       "    }\n",
       "\n",
       "    .dataframe thead th {\n",
       "        text-align: right;\n",
       "    }\n",
       "</style>\n",
       "<table border=\"1\" class=\"dataframe\">\n",
       "  <thead>\n",
       "    <tr style=\"text-align: right;\">\n",
       "      <th></th>\n",
       "      <th>C</th>\n",
       "      <th>rho</th>\n",
       "      <th>meanFy</th>\n",
       "      <th>varx</th>\n",
       "      <th>vary</th>\n",
       "      <th>varFy</th>\n",
       "      <th>Fysign</th>\n",
       "      <th>1/C</th>\n",
       "    </tr>\n",
       "  </thead>\n",
       "  <tbody>\n",
       "    <tr>\n",
       "      <th>2</th>\n",
       "      <td>1.367505</td>\n",
       "      <td>0.732973</td>\n",
       "      <td>0.0</td>\n",
       "      <td>0.566722</td>\n",
       "      <td>1519.385786</td>\n",
       "      <td>0.0</td>\n",
       "      <td>0.0</td>\n",
       "      <td>0.731259</td>\n",
       "    </tr>\n",
       "    <tr>\n",
       "      <th>3</th>\n",
       "      <td>1.462563</td>\n",
       "      <td>0.701786</td>\n",
       "      <td>0.0</td>\n",
       "      <td>1.243711</td>\n",
       "      <td>1670.572060</td>\n",
       "      <td>0.0</td>\n",
       "      <td>0.0</td>\n",
       "      <td>0.683731</td>\n",
       "    </tr>\n",
       "    <tr>\n",
       "      <th>7</th>\n",
       "      <td>1.346025</td>\n",
       "      <td>0.750254</td>\n",
       "      <td>0.0</td>\n",
       "      <td>0.350762</td>\n",
       "      <td>244.794122</td>\n",
       "      <td>0.0</td>\n",
       "      <td>0.0</td>\n",
       "      <td>0.742928</td>\n",
       "    </tr>\n",
       "    <tr>\n",
       "      <th>12</th>\n",
       "      <td>1.391308</td>\n",
       "      <td>0.721817</td>\n",
       "      <td>0.0</td>\n",
       "      <td>1.614685</td>\n",
       "      <td>4434.380081</td>\n",
       "      <td>0.0</td>\n",
       "      <td>0.0</td>\n",
       "      <td>0.718748</td>\n",
       "    </tr>\n",
       "    <tr>\n",
       "      <th>3</th>\n",
       "      <td>1.459371</td>\n",
       "      <td>0.723287</td>\n",
       "      <td>0.0</td>\n",
       "      <td>0.008504</td>\n",
       "      <td>0.717752</td>\n",
       "      <td>0.0</td>\n",
       "      <td>0.0</td>\n",
       "      <td>0.685227</td>\n",
       "    </tr>\n",
       "    <tr>\n",
       "      <th>2</th>\n",
       "      <td>1.206277</td>\n",
       "      <td>0.830850</td>\n",
       "      <td>0.0</td>\n",
       "      <td>0.482532</td>\n",
       "      <td>439.710545</td>\n",
       "      <td>0.0</td>\n",
       "      <td>0.0</td>\n",
       "      <td>0.828997</td>\n",
       "    </tr>\n",
       "    <tr>\n",
       "      <th>7</th>\n",
       "      <td>1.542546</td>\n",
       "      <td>0.653105</td>\n",
       "      <td>0.0</td>\n",
       "      <td>0.184289</td>\n",
       "      <td>366.748191</td>\n",
       "      <td>0.0</td>\n",
       "      <td>0.0</td>\n",
       "      <td>0.648279</td>\n",
       "    </tr>\n",
       "  </tbody>\n",
       "</table>\n",
       "</div>"
      ],
      "text/plain": [
       "           C       rho  meanFy      varx         vary  varFy  Fysign       1/C\n",
       "2   1.367505  0.732973     0.0  0.566722  1519.385786    0.0     0.0  0.731259\n",
       "3   1.462563  0.701786     0.0  1.243711  1670.572060    0.0     0.0  0.683731\n",
       "7   1.346025  0.750254     0.0  0.350762   244.794122    0.0     0.0  0.742928\n",
       "12  1.391308  0.721817     0.0  1.614685  4434.380081    0.0     0.0  0.718748\n",
       "3   1.459371  0.723287     0.0  0.008504     0.717752    0.0     0.0  0.685227\n",
       "2   1.206277  0.830850     0.0  0.482532   439.710545    0.0     0.0  0.828997\n",
       "7   1.542546  0.653105     0.0  0.184289   366.748191    0.0     0.0  0.648279"
      ]
     },
     "execution_count": 66,
     "metadata": {},
     "output_type": "execute_result"
    }
   ],
   "source": [
    "outlierhunt"
   ]
  },
  {
   "cell_type": "code",
   "execution_count": 67,
   "metadata": {},
   "outputs": [
    {
     "data": {
      "text/html": [
       "<div>\n",
       "<style scoped>\n",
       "    .dataframe tbody tr th:only-of-type {\n",
       "        vertical-align: middle;\n",
       "    }\n",
       "\n",
       "    .dataframe tbody tr th {\n",
       "        vertical-align: top;\n",
       "    }\n",
       "\n",
       "    .dataframe thead th {\n",
       "        text-align: right;\n",
       "    }\n",
       "</style>\n",
       "<table border=\"1\" class=\"dataframe\">\n",
       "  <thead>\n",
       "    <tr style=\"text-align: right;\">\n",
       "      <th></th>\n",
       "      <th>C</th>\n",
       "      <th>rho</th>\n",
       "      <th>meanFy</th>\n",
       "      <th>varx</th>\n",
       "      <th>vary</th>\n",
       "      <th>varFy</th>\n",
       "      <th>Fysign</th>\n",
       "      <th>1/C</th>\n",
       "    </tr>\n",
       "  </thead>\n",
       "  <tbody>\n",
       "    <tr>\n",
       "      <th>0</th>\n",
       "      <td>0.926503</td>\n",
       "      <td>-0.114762</td>\n",
       "      <td>-0.305965</td>\n",
       "      <td>0.192277</td>\n",
       "      <td>2.625185</td>\n",
       "      <td>0.000091</td>\n",
       "      <td>-1.0</td>\n",
       "      <td>1.079327</td>\n",
       "    </tr>\n",
       "    <tr>\n",
       "      <th>1</th>\n",
       "      <td>1.311990</td>\n",
       "      <td>0.115262</td>\n",
       "      <td>-0.148756</td>\n",
       "      <td>0.205020</td>\n",
       "      <td>5.618092</td>\n",
       "      <td>0.000027</td>\n",
       "      <td>-1.0</td>\n",
       "      <td>0.762201</td>\n",
       "    </tr>\n",
       "    <tr>\n",
       "      <th>2</th>\n",
       "      <td>1.487488</td>\n",
       "      <td>0.667248</td>\n",
       "      <td>0.000000</td>\n",
       "      <td>0.578872</td>\n",
       "      <td>20.734548</td>\n",
       "      <td>0.000000</td>\n",
       "      <td>0.0</td>\n",
       "      <td>0.672274</td>\n",
       "    </tr>\n",
       "    <tr>\n",
       "      <th>3</th>\n",
       "      <td>1.001393</td>\n",
       "      <td>0.999323</td>\n",
       "      <td>0.035174</td>\n",
       "      <td>179.707782</td>\n",
       "      <td>2870.481127</td>\n",
       "      <td>0.001923</td>\n",
       "      <td>1.0</td>\n",
       "      <td>0.998609</td>\n",
       "    </tr>\n",
       "    <tr>\n",
       "      <th>4</th>\n",
       "      <td>1.000000</td>\n",
       "      <td>1.000000</td>\n",
       "      <td>0.001971</td>\n",
       "      <td>19.647260</td>\n",
       "      <td>315.279373</td>\n",
       "      <td>0.000194</td>\n",
       "      <td>1.0</td>\n",
       "      <td>1.000000</td>\n",
       "    </tr>\n",
       "    <tr>\n",
       "      <th>...</th>\n",
       "      <td>...</td>\n",
       "      <td>...</td>\n",
       "      <td>...</td>\n",
       "      <td>...</td>\n",
       "      <td>...</td>\n",
       "      <td>...</td>\n",
       "      <td>...</td>\n",
       "      <td>...</td>\n",
       "    </tr>\n",
       "    <tr>\n",
       "      <th>0</th>\n",
       "      <td>0.917672</td>\n",
       "      <td>-0.113805</td>\n",
       "      <td>-0.306676</td>\n",
       "      <td>0.228885</td>\n",
       "      <td>3.060739</td>\n",
       "      <td>0.000109</td>\n",
       "      <td>-1.0</td>\n",
       "      <td>1.089714</td>\n",
       "    </tr>\n",
       "    <tr>\n",
       "      <th>1</th>\n",
       "      <td>1.185639</td>\n",
       "      <td>0.369069</td>\n",
       "      <td>-0.148432</td>\n",
       "      <td>0.328027</td>\n",
       "      <td>7.429644</td>\n",
       "      <td>0.000037</td>\n",
       "      <td>-1.0</td>\n",
       "      <td>0.843427</td>\n",
       "    </tr>\n",
       "    <tr>\n",
       "      <th>2</th>\n",
       "      <td>1.487022</td>\n",
       "      <td>0.666154</td>\n",
       "      <td>0.000000</td>\n",
       "      <td>0.775268</td>\n",
       "      <td>27.364654</td>\n",
       "      <td>0.000000</td>\n",
       "      <td>0.0</td>\n",
       "      <td>0.672485</td>\n",
       "    </tr>\n",
       "    <tr>\n",
       "      <th>3</th>\n",
       "      <td>1.432607</td>\n",
       "      <td>0.880465</td>\n",
       "      <td>0.089346</td>\n",
       "      <td>2.922475</td>\n",
       "      <td>95.657659</td>\n",
       "      <td>0.000103</td>\n",
       "      <td>1.0</td>\n",
       "      <td>0.698028</td>\n",
       "    </tr>\n",
       "    <tr>\n",
       "      <th>4</th>\n",
       "      <td>1.265691</td>\n",
       "      <td>0.884792</td>\n",
       "      <td>0.067639</td>\n",
       "      <td>4.127248</td>\n",
       "      <td>106.079809</td>\n",
       "      <td>0.000147</td>\n",
       "      <td>1.0</td>\n",
       "      <td>0.790082</td>\n",
       "    </tr>\n",
       "  </tbody>\n",
       "</table>\n",
       "<p>64 rows × 8 columns</p>\n",
       "</div>"
      ],
      "text/plain": [
       "           C       rho    meanFy        varx         vary     varFy  Fysign  \\\n",
       "0   0.926503 -0.114762 -0.305965    0.192277     2.625185  0.000091    -1.0   \n",
       "1   1.311990  0.115262 -0.148756    0.205020     5.618092  0.000027    -1.0   \n",
       "2   1.487488  0.667248  0.000000    0.578872    20.734548  0.000000     0.0   \n",
       "3   1.001393  0.999323  0.035174  179.707782  2870.481127  0.001923     1.0   \n",
       "4   1.000000  1.000000  0.001971   19.647260   315.279373  0.000194     1.0   \n",
       "..       ...       ...       ...         ...          ...       ...     ...   \n",
       "0   0.917672 -0.113805 -0.306676    0.228885     3.060739  0.000109    -1.0   \n",
       "1   1.185639  0.369069 -0.148432    0.328027     7.429644  0.000037    -1.0   \n",
       "2   1.487022  0.666154  0.000000    0.775268    27.364654  0.000000     0.0   \n",
       "3   1.432607  0.880465  0.089346    2.922475    95.657659  0.000103     1.0   \n",
       "4   1.265691  0.884792  0.067639    4.127248   106.079809  0.000147     1.0   \n",
       "\n",
       "         1/C  \n",
       "0   1.079327  \n",
       "1   0.762201  \n",
       "2   0.672274  \n",
       "3   0.998609  \n",
       "4   1.000000  \n",
       "..       ...  \n",
       "0   1.089714  \n",
       "1   0.843427  \n",
       "2   0.672485  \n",
       "3   0.698028  \n",
       "4   0.790082  \n",
       "\n",
       "[64 rows x 8 columns]"
      ]
     },
     "execution_count": 67,
     "metadata": {},
     "output_type": "execute_result"
    }
   ],
   "source": [
    "allfiles"
   ]
  },
  {
   "cell_type": "code",
   "execution_count": null,
   "metadata": {},
   "outputs": [],
   "source": []
  }
 ],
 "metadata": {
  "kernelspec": {
   "display_name": "data_analysis",
   "language": "python",
   "name": "python3"
  },
  "language_info": {
   "codemirror_mode": {
    "name": "ipython",
    "version": 3
   },
   "file_extension": ".py",
   "mimetype": "text/x-python",
   "name": "python",
   "nbconvert_exporter": "python",
   "pygments_lexer": "ipython3",
   "version": "3.8.12"
  },
  "orig_nbformat": 4,
  "vscode": {
   "interpreter": {
    "hash": "99be9620eabd8c8d248f2fca6fe1036ffe8995492cebd7a6acb862d91adb3149"
   }
  }
 },
 "nbformat": 4,
 "nbformat_minor": 2
}
