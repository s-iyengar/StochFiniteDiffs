{
 "cells": [
  {
   "cell_type": "code",
   "execution_count": 6,
   "metadata": {},
   "outputs": [],
   "source": [
    "import matplotlib.pyplot as plt\n",
    "import numpy as np\n",
    "import pandas as pd\n",
    "import seaborn as sns"
   ]
  },
  {
   "cell_type": "code",
   "execution_count": 22,
   "metadata": {},
   "outputs": [],
   "source": [
    "points = pd.read_csv(\"pertresults/2023-Jan24_1728_res.csv\",\n",
    "                    names = [\"C\",\"rho\",\"meanFy\",\"varx\",\"vary\",\"varFy\"])\n",
    "points[\"Fysign\"] = np.sign(points[\"meanFy\"])"
   ]
  },
  {
   "cell_type": "code",
   "execution_count": 23,
   "metadata": {},
   "outputs": [
    {
     "data": {
      "text/html": [
       "<div>\n",
       "<style scoped>\n",
       "    .dataframe tbody tr th:only-of-type {\n",
       "        vertical-align: middle;\n",
       "    }\n",
       "\n",
       "    .dataframe tbody tr th {\n",
       "        vertical-align: top;\n",
       "    }\n",
       "\n",
       "    .dataframe thead th {\n",
       "        text-align: right;\n",
       "    }\n",
       "</style>\n",
       "<table border=\"1\" class=\"dataframe\">\n",
       "  <thead>\n",
       "    <tr style=\"text-align: right;\">\n",
       "      <th></th>\n",
       "      <th>C</th>\n",
       "      <th>rho</th>\n",
       "      <th>meanFy</th>\n",
       "      <th>varx</th>\n",
       "      <th>vary</th>\n",
       "      <th>varFy</th>\n",
       "      <th>Fysign</th>\n",
       "    </tr>\n",
       "  </thead>\n",
       "  <tbody>\n",
       "    <tr>\n",
       "      <th>0</th>\n",
       "      <td>0.730466</td>\n",
       "      <td>-0.259449</td>\n",
       "      <td>-0.089835</td>\n",
       "      <td>0.023233</td>\n",
       "      <td>3.514708</td>\n",
       "      <td>2.112013e-05</td>\n",
       "      <td>-1.0</td>\n",
       "    </tr>\n",
       "    <tr>\n",
       "      <th>1</th>\n",
       "      <td>1.131948</td>\n",
       "      <td>0.180398</td>\n",
       "      <td>-0.034241</td>\n",
       "      <td>0.039386</td>\n",
       "      <td>41.756047</td>\n",
       "      <td>2.048648e-06</td>\n",
       "      <td>-1.0</td>\n",
       "    </tr>\n",
       "    <tr>\n",
       "      <th>2</th>\n",
       "      <td>1.367505</td>\n",
       "      <td>0.732973</td>\n",
       "      <td>0.000000</td>\n",
       "      <td>0.566722</td>\n",
       "      <td>1519.385786</td>\n",
       "      <td>0.000000e+00</td>\n",
       "      <td>0.0</td>\n",
       "    </tr>\n",
       "    <tr>\n",
       "      <th>3</th>\n",
       "      <td>1.462563</td>\n",
       "      <td>0.701786</td>\n",
       "      <td>0.000000</td>\n",
       "      <td>1.243711</td>\n",
       "      <td>1670.572060</td>\n",
       "      <td>0.000000e+00</td>\n",
       "      <td>0.0</td>\n",
       "    </tr>\n",
       "    <tr>\n",
       "      <th>4</th>\n",
       "      <td>1.325171</td>\n",
       "      <td>0.790149</td>\n",
       "      <td>0.002593</td>\n",
       "      <td>1.950289</td>\n",
       "      <td>1966.379078</td>\n",
       "      <td>7.629248e-08</td>\n",
       "      <td>1.0</td>\n",
       "    </tr>\n",
       "    <tr>\n",
       "      <th>5</th>\n",
       "      <td>1.530261</td>\n",
       "      <td>0.658922</td>\n",
       "      <td>0.000066</td>\n",
       "      <td>8.901935</td>\n",
       "      <td>8916.554586</td>\n",
       "      <td>1.273011e-10</td>\n",
       "      <td>1.0</td>\n",
       "    </tr>\n",
       "    <tr>\n",
       "      <th>6</th>\n",
       "      <td>0.761815</td>\n",
       "      <td>-0.109628</td>\n",
       "      <td>-0.145120</td>\n",
       "      <td>0.012014</td>\n",
       "      <td>2.559647</td>\n",
       "      <td>4.820487e-05</td>\n",
       "      <td>-1.0</td>\n",
       "    </tr>\n",
       "    <tr>\n",
       "      <th>7</th>\n",
       "      <td>1.114744</td>\n",
       "      <td>0.087020</td>\n",
       "      <td>-0.060591</td>\n",
       "      <td>0.030172</td>\n",
       "      <td>11.916909</td>\n",
       "      <td>9.878876e-06</td>\n",
       "      <td>-1.0</td>\n",
       "    </tr>\n",
       "    <tr>\n",
       "      <th>8</th>\n",
       "      <td>1.385116</td>\n",
       "      <td>0.710728</td>\n",
       "      <td>0.000000</td>\n",
       "      <td>1.077959</td>\n",
       "      <td>1010.871466</td>\n",
       "      <td>0.000000e+00</td>\n",
       "      <td>0.0</td>\n",
       "    </tr>\n",
       "    <tr>\n",
       "      <th>9</th>\n",
       "      <td>1.359005</td>\n",
       "      <td>0.728792</td>\n",
       "      <td>0.000000</td>\n",
       "      <td>0.778738</td>\n",
       "      <td>835.630981</td>\n",
       "      <td>0.000000e+00</td>\n",
       "      <td>0.0</td>\n",
       "    </tr>\n",
       "    <tr>\n",
       "      <th>10</th>\n",
       "      <td>1.253258</td>\n",
       "      <td>0.821153</td>\n",
       "      <td>0.001651</td>\n",
       "      <td>0.840193</td>\n",
       "      <td>1529.199440</td>\n",
       "      <td>2.918441e-08</td>\n",
       "      <td>1.0</td>\n",
       "    </tr>\n",
       "    <tr>\n",
       "      <th>11</th>\n",
       "      <td>1.389057</td>\n",
       "      <td>0.721052</td>\n",
       "      <td>0.000154</td>\n",
       "      <td>4.084833</td>\n",
       "      <td>2212.417401</td>\n",
       "      <td>7.487079e-10</td>\n",
       "      <td>1.0</td>\n",
       "    </tr>\n",
       "  </tbody>\n",
       "</table>\n",
       "</div>"
      ],
      "text/plain": [
       "           C       rho    meanFy      varx         vary         varFy  Fysign\n",
       "0   0.730466 -0.259449 -0.089835  0.023233     3.514708  2.112013e-05    -1.0\n",
       "1   1.131948  0.180398 -0.034241  0.039386    41.756047  2.048648e-06    -1.0\n",
       "2   1.367505  0.732973  0.000000  0.566722  1519.385786  0.000000e+00     0.0\n",
       "3   1.462563  0.701786  0.000000  1.243711  1670.572060  0.000000e+00     0.0\n",
       "4   1.325171  0.790149  0.002593  1.950289  1966.379078  7.629248e-08     1.0\n",
       "5   1.530261  0.658922  0.000066  8.901935  8916.554586  1.273011e-10     1.0\n",
       "6   0.761815 -0.109628 -0.145120  0.012014     2.559647  4.820487e-05    -1.0\n",
       "7   1.114744  0.087020 -0.060591  0.030172    11.916909  9.878876e-06    -1.0\n",
       "8   1.385116  0.710728  0.000000  1.077959  1010.871466  0.000000e+00     0.0\n",
       "9   1.359005  0.728792  0.000000  0.778738   835.630981  0.000000e+00     0.0\n",
       "10  1.253258  0.821153  0.001651  0.840193  1529.199440  2.918441e-08     1.0\n",
       "11  1.389057  0.721052  0.000154  4.084833  2212.417401  7.487079e-10     1.0"
      ]
     },
     "execution_count": 23,
     "metadata": {},
     "output_type": "execute_result"
    }
   ],
   "source": [
    "points"
   ]
  },
  {
   "cell_type": "code",
   "execution_count": 29,
   "metadata": {},
   "outputs": [
    {
     "name": "stderr",
     "output_type": "stream",
     "text": [
      "/var/folders/tm/37ds31ds14913tj9402vqksr0000gn/T/ipykernel_7683/1926853750.py:2: RuntimeWarning: divide by zero encountered in true_divide\n",
      "  plt.plot(np.linspace(0,3),1/np.linspace(0,3))\n"
     ]
    },
    {
     "data": {
      "text/plain": [
       "(0.0, 3.0)"
      ]
     },
     "execution_count": 29,
     "metadata": {},
     "output_type": "execute_result"
    },
    {
     "data": {
      "image/png": "[encoded data removed]",
      "text/plain": [
       "<Figure size 432x288 with 1 Axes>"
      ]
     },
     "metadata": {
      "needs_background": "light"
     },
     "output_type": "display_data"
    }
   ],
   "source": [
    "sns.scatterplot(data=points[points[\"Fysign\"]== 1],x=\"C\",y=\"rho\",hue=\"Fysign\")\n",
    "plt.plot(np.linspace(0,3),1/np.linspace(0,3))\n",
    "plt.plot(np.linspace(0,3),np.linspace(0,3))\n",
    "plt.ylim(-1,1)\n",
    "plt.xlim(0,3)"
   ]
  },
  {
   "cell_type": "code",
   "execution_count": null,
   "metadata": {},
   "outputs": [],
   "source": []
  }
 ],
 "metadata": {
  "kernelspec": {
   "display_name": "data_analysis",
   "language": "python",
   "name": "python3"
  },
  "language_info": {
   "codemirror_mode": {
    "name": "ipython",
    "version": 3
   },
   "file_extension": ".py",
   "mimetype": "text/x-python",
   "name": "python",
   "nbconvert_exporter": "python",
   "pygments_lexer": "ipython3",
   "version": "3.8.12"
  },
  "orig_nbformat": 4,
  "vscode": {
   "interpreter": {
    "hash": "99be9620eabd8c8d248f2fca6fe1036ffe8995492cebd7a6acb862d91adb3149"
   }
  }
 },
 "nbformat": 4,
 "nbformat_minor": 2
}
